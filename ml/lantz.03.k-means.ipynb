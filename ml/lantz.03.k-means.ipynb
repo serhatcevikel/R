{
 "cells": [
  {
   "cell_type": "code",
   "execution_count": 3,
   "metadata": {
    "collapsed": true
   },
   "outputs": [],
   "source": [
    "# read data\n",
    "wbcd <- read.csv(url(\"https://raw.githubusercontent.com/dataspelunking/MLwR/master/Machine%20Learning%20with%20R%20(2nd%20Ed.)/Chapter%2003/wisc_bc_data.csv\"), stringsAsFactors = F)"
   ]
  },
  {
   "cell_type": "code",
   "execution_count": 5,
   "metadata": {},
   "outputs": [
    {
     "data": {
      "text/html": [
       "<table>\n",
       "<thead><tr><th scope=col>id</th><th scope=col>diagnosis</th><th scope=col>radius_mean</th><th scope=col>texture_mean</th><th scope=col>perimeter_mean</th><th scope=col>area_mean</th><th scope=col>smoothness_mean</th><th scope=col>compactness_mean</th><th scope=col>concavity_mean</th><th scope=col>points_mean</th><th scope=col>⋯</th><th scope=col>radius_worst</th><th scope=col>texture_worst</th><th scope=col>perimeter_worst</th><th scope=col>area_worst</th><th scope=col>smoothness_worst</th><th scope=col>compactness_worst</th><th scope=col>concavity_worst</th><th scope=col>points_worst</th><th scope=col>symmetry_worst</th><th scope=col>dimension_worst</th></tr></thead>\n",
       "<tbody>\n",
       "\t<tr><td>87139402</td><td>B       </td><td>12.32   </td><td>12.39   </td><td>78.85   </td><td>464.1   </td><td>0.10280 </td><td>0.06981 </td><td>0.03987 </td><td>0.03700 </td><td>⋯       </td><td>13.50   </td><td>15.64   </td><td> 86.97  </td><td>549.1   </td><td>0.1385  </td><td>0.1266  </td><td>0.12420 </td><td>0.09391 </td><td>0.2827  </td><td>0.06771 </td></tr>\n",
       "\t<tr><td> 8910251</td><td>B       </td><td>10.60   </td><td>18.95   </td><td>69.28   </td><td>346.4   </td><td>0.09688 </td><td>0.11470 </td><td>0.06387 </td><td>0.02642 </td><td>⋯       </td><td>11.88   </td><td>22.94   </td><td> 78.28  </td><td>424.8   </td><td>0.1213  </td><td>0.2515  </td><td>0.19160 </td><td>0.07926 </td><td>0.2940  </td><td>0.07587 </td></tr>\n",
       "\t<tr><td>  905520</td><td>B       </td><td>11.04   </td><td>16.83   </td><td>70.92   </td><td>373.2   </td><td>0.10770 </td><td>0.07804 </td><td>0.03046 </td><td>0.02480 </td><td>⋯       </td><td>12.41   </td><td>26.44   </td><td> 79.93  </td><td>471.4   </td><td>0.1369  </td><td>0.1482  </td><td>0.10670 </td><td>0.07431 </td><td>0.2998  </td><td>0.07881 </td></tr>\n",
       "\t<tr><td>  868871</td><td>B       </td><td>11.28   </td><td>13.39   </td><td>73.00   </td><td>384.8   </td><td>0.11640 </td><td>0.11360 </td><td>0.04635 </td><td>0.04796 </td><td>⋯       </td><td>11.92   </td><td>15.77   </td><td> 76.53  </td><td>434.0   </td><td>0.1367  </td><td>0.1822  </td><td>0.08669 </td><td>0.08611 </td><td>0.2102  </td><td>0.06784 </td></tr>\n",
       "\t<tr><td> 9012568</td><td>B       </td><td>15.19   </td><td>13.21   </td><td>97.65   </td><td>711.8   </td><td>0.07963 </td><td>0.06934 </td><td>0.03393 </td><td>0.02657 </td><td>⋯       </td><td>16.20   </td><td>15.73   </td><td>104.50  </td><td>819.1   </td><td>0.1126  </td><td>0.1737  </td><td>0.13620 </td><td>0.08178 </td><td>0.2487  </td><td>0.06766 </td></tr>\n",
       "\t<tr><td>  906539</td><td>B       </td><td>11.57   </td><td>19.04   </td><td>74.20   </td><td>409.7   </td><td>0.08546 </td><td>0.07722 </td><td>0.05485 </td><td>0.01428 </td><td>⋯       </td><td>13.07   </td><td>26.98   </td><td> 86.43  </td><td>520.5   </td><td>0.1249  </td><td>0.1937  </td><td>0.25600 </td><td>0.06664 </td><td>0.3035  </td><td>0.08284 </td></tr>\n",
       "</tbody>\n",
       "</table>\n"
      ],
      "text/latex": [
       "\\begin{tabular}{r|llllllllllllllllllllllllllllllll}\n",
       " id & diagnosis & radius\\_mean & texture\\_mean & perimeter\\_mean & area\\_mean & smoothness\\_mean & compactness\\_mean & concavity\\_mean & points\\_mean & ⋯ & radius\\_worst & texture\\_worst & perimeter\\_worst & area\\_worst & smoothness\\_worst & compactness\\_worst & concavity\\_worst & points\\_worst & symmetry\\_worst & dimension\\_worst\\\\\n",
       "\\hline\n",
       "\t 87139402 & B        & 12.32    & 12.39    & 78.85    & 464.1    & 0.10280  & 0.06981  & 0.03987  & 0.03700  & ⋯        & 13.50    & 15.64    &  86.97   & 549.1    & 0.1385   & 0.1266   & 0.12420  & 0.09391  & 0.2827   & 0.06771 \\\\\n",
       "\t  8910251 & B        & 10.60    & 18.95    & 69.28    & 346.4    & 0.09688  & 0.11470  & 0.06387  & 0.02642  & ⋯        & 11.88    & 22.94    &  78.28   & 424.8    & 0.1213   & 0.2515   & 0.19160  & 0.07926  & 0.2940   & 0.07587 \\\\\n",
       "\t   905520 & B        & 11.04    & 16.83    & 70.92    & 373.2    & 0.10770  & 0.07804  & 0.03046  & 0.02480  & ⋯        & 12.41    & 26.44    &  79.93   & 471.4    & 0.1369   & 0.1482   & 0.10670  & 0.07431  & 0.2998   & 0.07881 \\\\\n",
       "\t   868871 & B        & 11.28    & 13.39    & 73.00    & 384.8    & 0.11640  & 0.11360  & 0.04635  & 0.04796  & ⋯        & 11.92    & 15.77    &  76.53   & 434.0    & 0.1367   & 0.1822   & 0.08669  & 0.08611  & 0.2102   & 0.06784 \\\\\n",
       "\t  9012568 & B        & 15.19    & 13.21    & 97.65    & 711.8    & 0.07963  & 0.06934  & 0.03393  & 0.02657  & ⋯        & 16.20    & 15.73    & 104.50   & 819.1    & 0.1126   & 0.1737   & 0.13620  & 0.08178  & 0.2487   & 0.06766 \\\\\n",
       "\t   906539 & B        & 11.57    & 19.04    & 74.20    & 409.7    & 0.08546  & 0.07722  & 0.05485  & 0.01428  & ⋯        & 13.07    & 26.98    &  86.43   & 520.5    & 0.1249   & 0.1937   & 0.25600  & 0.06664  & 0.3035   & 0.08284 \\\\\n",
       "\\end{tabular}\n"
      ],
      "text/markdown": [
       "\n",
       "id | diagnosis | radius_mean | texture_mean | perimeter_mean | area_mean | smoothness_mean | compactness_mean | concavity_mean | points_mean | ⋯ | radius_worst | texture_worst | perimeter_worst | area_worst | smoothness_worst | compactness_worst | concavity_worst | points_worst | symmetry_worst | dimension_worst | \n",
       "|---|---|---|---|---|---|\n",
       "| 87139402 | B        | 12.32    | 12.39    | 78.85    | 464.1    | 0.10280  | 0.06981  | 0.03987  | 0.03700  | ⋯        | 13.50    | 15.64    |  86.97   | 549.1    | 0.1385   | 0.1266   | 0.12420  | 0.09391  | 0.2827   | 0.06771  | \n",
       "|  8910251 | B        | 10.60    | 18.95    | 69.28    | 346.4    | 0.09688  | 0.11470  | 0.06387  | 0.02642  | ⋯        | 11.88    | 22.94    |  78.28   | 424.8    | 0.1213   | 0.2515   | 0.19160  | 0.07926  | 0.2940   | 0.07587  | \n",
       "|   905520 | B        | 11.04    | 16.83    | 70.92    | 373.2    | 0.10770  | 0.07804  | 0.03046  | 0.02480  | ⋯        | 12.41    | 26.44    |  79.93   | 471.4    | 0.1369   | 0.1482   | 0.10670  | 0.07431  | 0.2998   | 0.07881  | \n",
       "|   868871 | B        | 11.28    | 13.39    | 73.00    | 384.8    | 0.11640  | 0.11360  | 0.04635  | 0.04796  | ⋯        | 11.92    | 15.77    |  76.53   | 434.0    | 0.1367   | 0.1822   | 0.08669  | 0.08611  | 0.2102   | 0.06784  | \n",
       "|  9012568 | B        | 15.19    | 13.21    | 97.65    | 711.8    | 0.07963  | 0.06934  | 0.03393  | 0.02657  | ⋯        | 16.20    | 15.73    | 104.50   | 819.1    | 0.1126   | 0.1737   | 0.13620  | 0.08178  | 0.2487   | 0.06766  | \n",
       "|   906539 | B        | 11.57    | 19.04    | 74.20    | 409.7    | 0.08546  | 0.07722  | 0.05485  | 0.01428  | ⋯        | 13.07    | 26.98    |  86.43   | 520.5    | 0.1249   | 0.1937   | 0.25600  | 0.06664  | 0.3035   | 0.08284  | \n",
       "\n",
       "\n"
      ],
      "text/plain": [
       "  id       diagnosis radius_mean texture_mean perimeter_mean area_mean\n",
       "1 87139402 B         12.32       12.39        78.85          464.1    \n",
       "2  8910251 B         10.60       18.95        69.28          346.4    \n",
       "3   905520 B         11.04       16.83        70.92          373.2    \n",
       "4   868871 B         11.28       13.39        73.00          384.8    \n",
       "5  9012568 B         15.19       13.21        97.65          711.8    \n",
       "6   906539 B         11.57       19.04        74.20          409.7    \n",
       "  smoothness_mean compactness_mean concavity_mean points_mean ⋯ radius_worst\n",
       "1 0.10280         0.06981          0.03987        0.03700     ⋯ 13.50       \n",
       "2 0.09688         0.11470          0.06387        0.02642     ⋯ 11.88       \n",
       "3 0.10770         0.07804          0.03046        0.02480     ⋯ 12.41       \n",
       "4 0.11640         0.11360          0.04635        0.04796     ⋯ 11.92       \n",
       "5 0.07963         0.06934          0.03393        0.02657     ⋯ 16.20       \n",
       "6 0.08546         0.07722          0.05485        0.01428     ⋯ 13.07       \n",
       "  texture_worst perimeter_worst area_worst smoothness_worst compactness_worst\n",
       "1 15.64          86.97          549.1      0.1385           0.1266           \n",
       "2 22.94          78.28          424.8      0.1213           0.2515           \n",
       "3 26.44          79.93          471.4      0.1369           0.1482           \n",
       "4 15.77          76.53          434.0      0.1367           0.1822           \n",
       "5 15.73         104.50          819.1      0.1126           0.1737           \n",
       "6 26.98          86.43          520.5      0.1249           0.1937           \n",
       "  concavity_worst points_worst symmetry_worst dimension_worst\n",
       "1 0.12420         0.09391      0.2827         0.06771        \n",
       "2 0.19160         0.07926      0.2940         0.07587        \n",
       "3 0.10670         0.07431      0.2998         0.07881        \n",
       "4 0.08669         0.08611      0.2102         0.06784        \n",
       "5 0.13620         0.08178      0.2487         0.06766        \n",
       "6 0.25600         0.06664      0.3035         0.08284        "
      ]
     },
     "metadata": {},
     "output_type": "display_data"
    }
   ],
   "source": [
    "# first rows\n",
    "head(wbcd)"
   ]
  },
  {
   "cell_type": "code",
   "execution_count": 6,
   "metadata": {},
   "outputs": [
    {
     "name": "stdout",
     "output_type": "stream",
     "text": [
      "'data.frame':\t569 obs. of  32 variables:\n",
      " $ id               : int  87139402 8910251 905520 868871 9012568 906539 925291 87880 862989 89827 ...\n",
      " $ diagnosis        : chr  \"B\" \"B\" \"B\" \"B\" ...\n",
      " $ radius_mean      : num  12.3 10.6 11 11.3 15.2 ...\n",
      " $ texture_mean     : num  12.4 18.9 16.8 13.4 13.2 ...\n",
      " $ perimeter_mean   : num  78.8 69.3 70.9 73 97.7 ...\n",
      " $ area_mean        : num  464 346 373 385 712 ...\n",
      " $ smoothness_mean  : num  0.1028 0.0969 0.1077 0.1164 0.0796 ...\n",
      " $ compactness_mean : num  0.0698 0.1147 0.078 0.1136 0.0693 ...\n",
      " $ concavity_mean   : num  0.0399 0.0639 0.0305 0.0464 0.0339 ...\n",
      " $ points_mean      : num  0.037 0.0264 0.0248 0.048 0.0266 ...\n",
      " $ symmetry_mean    : num  0.196 0.192 0.171 0.177 0.172 ...\n",
      " $ dimension_mean   : num  0.0595 0.0649 0.0634 0.0607 0.0554 ...\n",
      " $ radius_se        : num  0.236 0.451 0.197 0.338 0.178 ...\n",
      " $ texture_se       : num  0.666 1.197 1.387 1.343 0.412 ...\n",
      " $ perimeter_se     : num  1.67 3.43 1.34 1.85 1.34 ...\n",
      " $ area_se          : num  17.4 27.1 13.5 26.3 17.7 ...\n",
      " $ smoothness_se    : num  0.00805 0.00747 0.00516 0.01127 0.00501 ...\n",
      " $ compactness_se   : num  0.0118 0.03581 0.00936 0.03498 0.01485 ...\n",
      " $ concavity_se     : num  0.0168 0.0335 0.0106 0.0219 0.0155 ...\n",
      " $ points_se        : num  0.01241 0.01365 0.00748 0.01965 0.00915 ...\n",
      " $ symmetry_se      : num  0.0192 0.035 0.0172 0.0158 0.0165 ...\n",
      " $ dimension_se     : num  0.00225 0.00332 0.0022 0.00344 0.00177 ...\n",
      " $ radius_worst     : num  13.5 11.9 12.4 11.9 16.2 ...\n",
      " $ texture_worst    : num  15.6 22.9 26.4 15.8 15.7 ...\n",
      " $ perimeter_worst  : num  87 78.3 79.9 76.5 104.5 ...\n",
      " $ area_worst       : num  549 425 471 434 819 ...\n",
      " $ smoothness_worst : num  0.139 0.121 0.137 0.137 0.113 ...\n",
      " $ compactness_worst: num  0.127 0.252 0.148 0.182 0.174 ...\n",
      " $ concavity_worst  : num  0.1242 0.1916 0.1067 0.0867 0.1362 ...\n",
      " $ points_worst     : num  0.0939 0.0793 0.0743 0.0861 0.0818 ...\n",
      " $ symmetry_worst   : num  0.283 0.294 0.3 0.21 0.249 ...\n",
      " $ dimension_worst  : num  0.0677 0.0759 0.0788 0.0678 0.0677 ...\n"
     ]
    }
   ],
   "source": [
    "# preview structure\n",
    "str(wbcd)"
   ]
  },
  {
   "cell_type": "code",
   "execution_count": 7,
   "metadata": {
    "collapsed": true
   },
   "outputs": [],
   "source": [
    "# delete first id columns\n",
    "wbcd.1 <- wbcd[-1]"
   ]
  },
  {
   "cell_type": "code",
   "execution_count": 9,
   "metadata": {},
   "outputs": [
    {
     "data": {
      "text/html": [
       "<ol class=list-inline>\n",
       "\t<li>569</li>\n",
       "\t<li>31</li>\n",
       "</ol>\n"
      ],
      "text/latex": [
       "\\begin{enumerate*}\n",
       "\\item 569\n",
       "\\item 31\n",
       "\\end{enumerate*}\n"
      ],
      "text/markdown": [
       "1. 569\n",
       "2. 31\n",
       "\n",
       "\n"
      ],
      "text/plain": [
       "[1] 569  31"
      ]
     },
     "metadata": {},
     "output_type": "display_data"
    }
   ],
   "source": [
    "# get the dimensions\n",
    "dim(wbcd.1)"
   ]
  },
  {
   "cell_type": "code",
   "execution_count": 10,
   "metadata": {},
   "outputs": [
    {
     "data": {
      "text/plain": [
       "\n",
       "  B   M \n",
       "357 212 "
      ]
     },
     "metadata": {},
     "output_type": "display_data"
    }
   ],
   "source": [
    "# get summary of diagnosis results\n",
    "table(wbcd.1$diagnosis)"
   ]
  },
  {
   "cell_type": "code",
   "execution_count": 11,
   "metadata": {
    "collapsed": true
   },
   "outputs": [],
   "source": [
    "# recode diagnosis columns into factors\n",
    "wbcd.1$diagnosis <- factor(wbcd.1$diagnosis, levels = c(\"B\", \"M\"), labels = c(\"Benign\", \"Malignant\"))"
   ]
  },
  {
   "cell_type": "code",
   "execution_count": 13,
   "metadata": {},
   "outputs": [
    {
     "data": {
      "text/plain": [
       "\n",
       "   Benign Malignant \n",
       "0.6274165 0.3725835 "
      ]
     },
     "metadata": {},
     "output_type": "display_data"
    }
   ],
   "source": [
    "# summarize proportions of diagnosis variable\n",
    "prop.table(table(wbcd.1$diagnosis))"
   ]
  },
  {
   "cell_type": "code",
   "execution_count": 14,
   "metadata": {
    "collapsed": true
   },
   "outputs": [],
   "source": [
    "# selected column labels\n",
    "selected <- c(\"radius_mean\", \"area_mean\", \"smoothness_mean\")"
   ]
  },
  {
   "cell_type": "code",
   "execution_count": 15,
   "metadata": {},
   "outputs": [
    {
     "data": {
      "text/plain": [
       "  radius_mean       area_mean      smoothness_mean  \n",
       " Min.   : 6.981   Min.   : 143.5   Min.   :0.05263  \n",
       " 1st Qu.:11.700   1st Qu.: 420.3   1st Qu.:0.08637  \n",
       " Median :13.370   Median : 551.1   Median :0.09587  \n",
       " Mean   :14.127   Mean   : 654.9   Mean   :0.09636  \n",
       " 3rd Qu.:15.780   3rd Qu.: 782.7   3rd Qu.:0.10530  \n",
       " Max.   :28.110   Max.   :2501.0   Max.   :0.16340  "
      ]
     },
     "metadata": {},
     "output_type": "display_data"
    }
   ],
   "source": [
    "# summary statistics of selected data\n",
    "summary(wbcd.1[selected])"
   ]
  },
  {
   "cell_type": "code",
   "execution_count": 17,
   "metadata": {
    "collapsed": true
   },
   "outputs": [],
   "source": [
    "# function for naive normalization with range\n",
    "normalize <- function(x)\n",
    "{\n",
    "    (x - min(x)) / (max(x) - min(x))\n",
    "}"
   ]
  },
  {
   "cell_type": "code",
   "execution_count": 18,
   "metadata": {
    "collapsed": true
   },
   "outputs": [],
   "source": [
    "# apply normalize function to all columns but the first one\n",
    "wbcd_n <- as.data.frame(lapply(wbcd.1[-1], normalize))"
   ]
  },
  {
   "cell_type": "code",
   "execution_count": 21,
   "metadata": {},
   "outputs": [
    {
     "data": {
      "text/plain": [
       "  radius_mean       area_mean      smoothness_mean \n",
       " Min.   :0.0000   Min.   :0.0000   Min.   :0.0000  \n",
       " 1st Qu.:0.2233   1st Qu.:0.1174   1st Qu.:0.3046  \n",
       " Median :0.3024   Median :0.1729   Median :0.3904  \n",
       " Mean   :0.3382   Mean   :0.2169   Mean   :0.3948  \n",
       " 3rd Qu.:0.4164   3rd Qu.:0.2711   3rd Qu.:0.4755  \n",
       " Max.   :1.0000   Max.   :1.0000   Max.   :1.0000  "
      ]
     },
     "metadata": {},
     "output_type": "display_data"
    }
   ],
   "source": [
    "# get the summary stats of selected columns\n",
    "summary(wbcd_n[selected])"
   ]
  },
  {
   "cell_type": "code",
   "execution_count": 22,
   "metadata": {
    "collapsed": true
   },
   "outputs": [],
   "source": [
    "# define cut point for train data\n",
    "cutp <- 469"
   ]
  },
  {
   "cell_type": "code",
   "execution_count": 23,
   "metadata": {
    "collapsed": true
   },
   "outputs": [],
   "source": [
    "# split data into train and test\n",
    "wbcd_train <- wbcd_n[1:cutp,]\n",
    "wbcd_test <- wbcd_n[-(1:cutp),]"
   ]
  },
  {
   "cell_type": "code",
   "execution_count": 39,
   "metadata": {
    "collapsed": true
   },
   "outputs": [],
   "source": [
    "# get split data labels\n",
    "wbcd_train_labels <- wbcd.1[1:cutp,1]\n",
    "wbcd_test_labels <- wbcd.1[-(1:cutp),1]"
   ]
  },
  {
   "cell_type": "code",
   "execution_count": 40,
   "metadata": {
    "collapsed": true
   },
   "outputs": [],
   "source": [
    "# load class library for classification and gmodels for cross tabulation\n",
    "library(class)\n",
    "library(gmodels)"
   ]
  },
  {
   "cell_type": "code",
   "execution_count": 41,
   "metadata": {
    "collapsed": true
   },
   "outputs": [],
   "source": [
    "# run the model\n",
    "wbcd_test_pred <- class::knn(\n",
    "                        train = wbcd_train,\n",
    "                        test = wbcd_test,\n",
    "                        cl = wbcd_train_labels,\n",
    "                        k = 21\n",
    ")"
   ]
  },
  {
   "cell_type": "code",
   "execution_count": 42,
   "metadata": {},
   "outputs": [
    {
     "name": "stdout",
     "output_type": "stream",
     "text": [
      "\n",
      " \n",
      "   Cell Contents\n",
      "|-------------------------|\n",
      "|                       N |\n",
      "|           N / Row Total |\n",
      "|           N / Col Total |\n",
      "|         N / Table Total |\n",
      "|-------------------------|\n",
      "\n",
      " \n",
      "Total Observations in Table:  100 \n",
      "\n",
      " \n",
      "                 | wbcd_test_pred \n",
      "wbcd_test_labels |    Benign | Malignant | Row Total | \n",
      "-----------------|-----------|-----------|-----------|\n",
      "          Benign |        61 |         0 |        61 | \n",
      "                 |     1.000 |     0.000 |     0.610 | \n",
      "                 |     0.968 |     0.000 |           | \n",
      "                 |     0.610 |     0.000 |           | \n",
      "-----------------|-----------|-----------|-----------|\n",
      "       Malignant |         2 |        37 |        39 | \n",
      "                 |     0.051 |     0.949 |     0.390 | \n",
      "                 |     0.032 |     1.000 |           | \n",
      "                 |     0.020 |     0.370 |           | \n",
      "-----------------|-----------|-----------|-----------|\n",
      "    Column Total |        63 |        37 |       100 | \n",
      "                 |     0.630 |     0.370 |           | \n",
      "-----------------|-----------|-----------|-----------|\n",
      "\n",
      " \n"
     ]
    }
   ],
   "source": [
    "# cross plot prediction and real values\n",
    "gmodels::CrossTable(   x = wbcd_test_labels,\n",
    "                       y = wbcd_test_pred,\n",
    "                       prop.chisq = F\n",
    "                   )"
   ]
  },
  {
   "cell_type": "code",
   "execution_count": null,
   "metadata": {
    "collapsed": true
   },
   "outputs": [],
   "source": []
  }
 ],
 "metadata": {
  "kernelspec": {
   "display_name": "R",
   "language": "R",
   "name": "ir"
  },
  "language_info": {
   "codemirror_mode": "r",
   "file_extension": ".r",
   "mimetype": "text/x-r-source",
   "name": "R",
   "pygments_lexer": "r",
   "version": "3.3.2"
  }
 },
 "nbformat": 4,
 "nbformat_minor": 2
}

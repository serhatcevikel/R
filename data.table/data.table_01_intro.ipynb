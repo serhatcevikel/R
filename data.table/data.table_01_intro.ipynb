{
 "cells": [
  {
   "cell_type": "markdown",
   "metadata": {},
   "source": [
    "- i ⇔ where\n",
    "- j ⇔ select\n",
    "- := ⇔ update\n",
    "- by ⇔ group by\n",
    "- i ⇔ order by (in compound syntax)\n",
    "- i ⇔ having (in compound syntax)\n",
    "- nomatch = NA ⇔ outer join\n",
    "- nomatch = 0L ⇔ inner join\n",
    "- mult = \"first\"|\"last\" ⇔ N/A because SQL is inherently unordered\n",
    "- roll = TRUE ⇔ N/A because SQL is inherently unordered"
   ]
  },
  {
   "cell_type": "code",
   "execution_count": 16,
   "metadata": {},
   "outputs": [],
   "source": [
    "load(\".RData\")"
   ]
  },
  {
   "cell_type": "code",
   "execution_count": 15,
   "metadata": {},
   "outputs": [],
   "source": [
    "save.image()"
   ]
  },
  {
   "cell_type": "code",
   "execution_count": 20,
   "metadata": {},
   "outputs": [],
   "source": [
    "options(datatable.print.nrows = 10)"
   ]
  },
  {
   "cell_type": "code",
   "execution_count": 1,
   "metadata": {},
   "outputs": [],
   "source": [
    "library(data.table)"
   ]
  },
  {
   "cell_type": "markdown",
   "metadata": {},
   "source": [
    "read the data"
   ]
  },
  {
   "cell_type": "code",
   "execution_count": 2,
   "metadata": {},
   "outputs": [],
   "source": [
    "flights <- fread(\"flights.wiki/NYCflights14/flights14.csv\")"
   ]
  },
  {
   "cell_type": "code",
   "execution_count": 21,
   "metadata": {},
   "outputs": [
    {
     "data": {
      "text/html": [
       "<table>\n",
       "<thead><tr><th scope=col>year</th><th scope=col>month</th><th scope=col>day</th><th scope=col>dep_time</th><th scope=col>dep_delay</th><th scope=col>arr_time</th><th scope=col>arr_delay</th><th scope=col>cancelled</th><th scope=col>carrier</th><th scope=col>tailnum</th><th scope=col>flight</th><th scope=col>origin</th><th scope=col>dest</th><th scope=col>air_time</th><th scope=col>distance</th><th scope=col>hour</th><th scope=col>min</th></tr></thead>\n",
       "<tbody>\n",
       "\t<tr><td>2014  </td><td>1     </td><td>1     </td><td> 914  </td><td> 14   </td><td>1238  </td><td> 13   </td><td>0     </td><td>AA    </td><td>N338AA</td><td>  1   </td><td>JFK   </td><td>LAX   </td><td>359   </td><td>2475  </td><td> 9    </td><td>14    </td></tr>\n",
       "\t<tr><td>2014  </td><td>1     </td><td>1     </td><td>1157  </td><td> -3   </td><td>1523  </td><td> 13   </td><td>0     </td><td>AA    </td><td>N335AA</td><td>  3   </td><td>JFK   </td><td>LAX   </td><td>363   </td><td>2475  </td><td>11    </td><td>57    </td></tr>\n",
       "\t<tr><td>2014  </td><td>1     </td><td>1     </td><td>1902  </td><td>  2   </td><td>2224  </td><td>  9   </td><td>0     </td><td>AA    </td><td>N327AA</td><td> 21   </td><td>JFK   </td><td>LAX   </td><td>351   </td><td>2475  </td><td>19    </td><td> 2    </td></tr>\n",
       "\t<tr><td>2014  </td><td>1     </td><td>1     </td><td> 722  </td><td> -8   </td><td>1014  </td><td>-26   </td><td>0     </td><td>AA    </td><td>N3EHAA</td><td> 29   </td><td>LGA   </td><td>PBI   </td><td>157   </td><td>1035  </td><td> 7    </td><td>22    </td></tr>\n",
       "\t<tr><td>2014  </td><td>1     </td><td>1     </td><td>1347  </td><td>  2   </td><td>1706  </td><td>  1   </td><td>0     </td><td>AA    </td><td>N319AA</td><td>117   </td><td>JFK   </td><td>LAX   </td><td>350   </td><td>2475  </td><td>13    </td><td>47    </td></tr>\n",
       "\t<tr><td>2014  </td><td>1     </td><td>1     </td><td>1824  </td><td>  4   </td><td>2145  </td><td>  0   </td><td>0     </td><td>AA    </td><td>N3DEAA</td><td>119   </td><td>EWR   </td><td>LAX   </td><td>339   </td><td>2454  </td><td>18    </td><td>24    </td></tr>\n",
       "\t<tr><td>2014  </td><td>1     </td><td>1     </td><td>2133  </td><td> -2   </td><td>  37  </td><td>-18   </td><td>0     </td><td>AA    </td><td>N323AA</td><td>185   </td><td>JFK   </td><td>LAX   </td><td>338   </td><td>2475  </td><td>21    </td><td>33    </td></tr>\n",
       "\t<tr><td>2014  </td><td>1     </td><td>1     </td><td>1542  </td><td> -3   </td><td>1906  </td><td>-14   </td><td>0     </td><td>AA    </td><td>N328AA</td><td>133   </td><td>JFK   </td><td>LAX   </td><td>356   </td><td>2475  </td><td>15    </td><td>42    </td></tr>\n",
       "\t<tr><td>2014  </td><td>1     </td><td>1     </td><td>1509  </td><td> -1   </td><td>1828  </td><td>-17   </td><td>0     </td><td>AA    </td><td>N5FJAA</td><td>145   </td><td>JFK   </td><td>MIA   </td><td>161   </td><td>1089  </td><td>15    </td><td> 9    </td></tr>\n",
       "\t<tr><td>2014  </td><td>1     </td><td>1     </td><td>1848  </td><td> -2   </td><td>2206  </td><td>-14   </td><td>0     </td><td>AA    </td><td>N3HYAA</td><td>235   </td><td>JFK   </td><td>SEA   </td><td>349   </td><td>2422  </td><td>18    </td><td>48    </td></tr>\n",
       "\t<tr><td>2014  </td><td>1     </td><td>1     </td><td>1655  </td><td> -5   </td><td>2003  </td><td>-17   </td><td>0     </td><td>AA    </td><td>N5CFAA</td><td>172   </td><td>EWR   </td><td>MIA   </td><td>161   </td><td>1085  </td><td>16    </td><td>55    </td></tr>\n",
       "\t<tr><td>2014  </td><td>1     </td><td>1     </td><td>1752  </td><td>  7   </td><td>2120  </td><td> -5   </td><td>0     </td><td>AA    </td><td>N332AA</td><td>177   </td><td>JFK   </td><td>SFO   </td><td>365   </td><td>2586  </td><td>17    </td><td>52    </td></tr>\n",
       "\t<tr><td>2014  </td><td>1     </td><td>1     </td><td>1253  </td><td>  3   </td><td>1351  </td><td>  1   </td><td>0     </td><td>AA    </td><td>N3JWAA</td><td>178   </td><td>JFK   </td><td>BOS   </td><td> 39   </td><td> 187  </td><td>12    </td><td>53    </td></tr>\n",
       "\t<tr><td>2014  </td><td>1     </td><td>1     </td><td>1907  </td><td>142   </td><td>2223  </td><td>133   </td><td>0     </td><td>AA    </td><td>N336AA</td><td>181   </td><td>JFK   </td><td>LAX   </td><td>345   </td><td>2475  </td><td>19    </td><td> 7    </td></tr>\n",
       "\t<tr><td>2014  </td><td>1     </td><td>1     </td><td>1720  </td><td> -5   </td><td>1819  </td><td>-26   </td><td>0     </td><td>AA    </td><td>N3BCAA</td><td>256   </td><td>JFK   </td><td>BOS   </td><td> 35   </td><td> 187  </td><td>17    </td><td>20    </td></tr>\n",
       "\t<tr><td>2014  </td><td>1     </td><td>1     </td><td>1733  </td><td> 18   </td><td>2024  </td><td> 69   </td><td>0     </td><td>AA    </td><td>N3HPAA</td><td>199   </td><td>JFK   </td><td>ORD   </td><td>155   </td><td> 740  </td><td>17    </td><td>33    </td></tr>\n",
       "\t<tr><td>2014  </td><td>1     </td><td>1     </td><td>1640  </td><td> 25   </td><td>2001  </td><td> 36   </td><td>0     </td><td>AA    </td><td>N3HFAA</td><td>211   </td><td>JFK   </td><td>IAH   </td><td>234   </td><td>1417  </td><td>16    </td><td>40    </td></tr>\n",
       "\t<tr><td>2014  </td><td>1     </td><td>1     </td><td>1714  </td><td> -1   </td><td>2036  </td><td>  1   </td><td>0     </td><td>AA    </td><td>N3DVAA</td><td>291   </td><td>JFK   </td><td>AUS   </td><td>232   </td><td>1521  </td><td>17    </td><td>14    </td></tr>\n",
       "\t<tr><td>2014  </td><td>1     </td><td>1     </td><td>1611  </td><td>191   </td><td>1910  </td><td>185   </td><td>0     </td><td>AA    </td><td>N471AA</td><td>300   </td><td>EWR   </td><td>DFW   </td><td>214   </td><td>1372  </td><td>16    </td><td>11    </td></tr>\n",
       "\t<tr><td>2014  </td><td>1     </td><td>1     </td><td> 553  </td><td> -7   </td><td> 739  </td><td> -6   </td><td>0     </td><td>AA    </td><td>N3KHAA</td><td>301   </td><td>LGA   </td><td>ORD   </td><td>142   </td><td> 733  </td><td> 5    </td><td>53    </td></tr>\n",
       "\t<tr><td>2014  </td><td>1     </td><td>1     </td><td> 623  </td><td> -7   </td><td> 815  </td><td>  0   </td><td>0     </td><td>AA    </td><td>N3BSAA</td><td>303   </td><td>LGA   </td><td>ORD   </td><td>143   </td><td> 733  </td><td> 6    </td><td>23    </td></tr>\n",
       "\t<tr><td>2014  </td><td>1     </td><td>1     </td><td> 652  </td><td> -8   </td><td> 833  </td><td>-17   </td><td>0     </td><td>AA    </td><td>N560AA</td><td>305   </td><td>LGA   </td><td>ORD   </td><td>139   </td><td> 733  </td><td> 6    </td><td>52    </td></tr>\n",
       "\t<tr><td>2014  </td><td>1     </td><td>1     </td><td> 738  </td><td> -2   </td><td> 940  </td><td> 15   </td><td>0     </td><td>AA    </td><td>N3GMAA</td><td>307   </td><td>LGA   </td><td>ORD   </td><td>145   </td><td> 733  </td><td> 7    </td><td>38    </td></tr>\n",
       "\t<tr><td>2014  </td><td>1     </td><td>1     </td><td> 847  </td><td> -3   </td><td>1036  </td><td>  1   </td><td>0     </td><td>AA    </td><td>N553AA</td><td>313   </td><td>LGA   </td><td>ORD   </td><td>139   </td><td> 733  </td><td> 8    </td><td>47    </td></tr>\n",
       "\t<tr><td>2014  </td><td>1     </td><td>1     </td><td>1029  </td><td> 44   </td><td>1212  </td><td> 42   </td><td>0     </td><td>AA    </td><td>N3KDAA</td><td>317   </td><td>LGA   </td><td>ORD   </td><td>141   </td><td> 733  </td><td>10    </td><td>29    </td></tr>\n",
       "\t<tr><td>2014  </td><td>1     </td><td>1     </td><td>1449  </td><td> -1   </td><td>1753  </td><td> -2   </td><td>0     </td><td>AA    </td><td>N4WNAA</td><td>320   </td><td>EWR   </td><td>DFW   </td><td>214   </td><td>1372  </td><td>14    </td><td>49    </td></tr>\n",
       "\t<tr><td>2014  </td><td>1     </td><td>1     </td><td>1018  </td><td>  3   </td><td>1202  </td><td> 12   </td><td>0     </td><td>AA    </td><td>N482AA</td><td>325   </td><td>LGA   </td><td>ORD   </td><td>137   </td><td> 733  </td><td>10    </td><td>18    </td></tr>\n",
       "\t<tr><td>2014  </td><td>1     </td><td>1     </td><td>1140  </td><td> -5   </td><td>1349  </td><td> 24   </td><td>0     </td><td>AA    </td><td>N570AA</td><td>327   </td><td>LGA   </td><td>ORD   </td><td>145   </td><td> 733  </td><td>11    </td><td>40    </td></tr>\n",
       "\t<tr><td>2014  </td><td>1     </td><td>1     </td><td>1346  </td><td> 26   </td><td>1541  </td><td> 46   </td><td>0     </td><td>AA    </td><td>N3KRAA</td><td>331   </td><td>LGA   </td><td>ORD   </td><td>132   </td><td> 733  </td><td>13    </td><td>46    </td></tr>\n",
       "\t<tr><td>2014  </td><td>1     </td><td>1     </td><td>1612  </td><td> 52   </td><td>1836  </td><td> 91   </td><td>0     </td><td>AA    </td><td>N553AA</td><td>341   </td><td>LGA   </td><td>ORD   </td><td>136   </td><td> 733  </td><td>16    </td><td>12    </td></tr>\n",
       "\t<tr><td>⋮</td><td>⋮</td><td>⋮</td><td>⋮</td><td>⋮</td><td>⋮</td><td>⋮</td><td>⋮</td><td>⋮</td><td>⋮</td><td>⋮</td><td>⋮</td><td>⋮</td><td>⋮</td><td>⋮</td><td>⋮</td><td>⋮</td></tr>\n",
       "\t<tr><td>2014  </td><td>10    </td><td>31    </td><td>1513  </td><td>  3   </td><td>1801  </td><td> -7   </td><td>0     </td><td>UA    </td><td>N77530</td><td>1218  </td><td>EWR   </td><td>TPA   </td><td>147   </td><td> 997  </td><td>15    </td><td>13    </td></tr>\n",
       "\t<tr><td>2014  </td><td>10    </td><td>31    </td><td>2330  </td><td>271   </td><td> 214  </td><td>236   </td><td>0     </td><td>UA    </td><td>N24706</td><td>1259  </td><td>LGA   </td><td>IAH   </td><td>195   </td><td>1416  </td><td>23    </td><td>30    </td></tr>\n",
       "\t<tr><td>2014  </td><td>10    </td><td>31    </td><td> 659  </td><td> 10   </td><td> 820  </td><td> -5   </td><td>0     </td><td>UA    </td><td>N16713</td><td>1262  </td><td>EWR   </td><td>ORD   </td><td>110   </td><td> 719  </td><td> 6    </td><td>59    </td></tr>\n",
       "\t<tr><td>2014  </td><td>10    </td><td>31    </td><td>1631  </td><td> 21   </td><td>1945  </td><td>  6   </td><td>0     </td><td>UA    </td><td>N37468</td><td>1284  </td><td>EWR   </td><td>SFO   </td><td>340   </td><td>2565  </td><td>16    </td><td>31    </td></tr>\n",
       "\t<tr><td>2014  </td><td>10    </td><td>31    </td><td> 821  </td><td> -9   </td><td>1127  </td><td>-43   </td><td>0     </td><td>UA    </td><td>N41140</td><td>1289  </td><td>EWR   </td><td>SFO   </td><td>334   </td><td>2565  </td><td> 8    </td><td>21    </td></tr>\n",
       "\t<tr><td>2014  </td><td>10    </td><td>31    </td><td>1459  </td><td> 49   </td><td>1823  </td><td> 48   </td><td>0     </td><td>UA    </td><td>N76519</td><td>1293  </td><td>EWR   </td><td>SFO   </td><td>336   </td><td>2565  </td><td>14    </td><td>59    </td></tr>\n",
       "\t<tr><td>2014  </td><td>10    </td><td>31    </td><td> 647  </td><td>  0   </td><td> 945  </td><td>-10   </td><td>0     </td><td>UA    </td><td>N29717</td><td>1299  </td><td>EWR   </td><td>RSW   </td><td>156   </td><td>1068  </td><td> 6    </td><td>47    </td></tr>\n",
       "\t<tr><td>2014  </td><td>10    </td><td>31    </td><td>1039  </td><td>  9   </td><td>1342  </td><td>  4   </td><td>0     </td><td>UA    </td><td>N73276</td><td>1401  </td><td>EWR   </td><td>MIA   </td><td>160   </td><td>1085  </td><td>10    </td><td>39    </td></tr>\n",
       "\t<tr><td>2014  </td><td>10    </td><td>31    </td><td>2028  </td><td>  3   </td><td>2316  </td><td>-32   </td><td>0     </td><td>UA    </td><td>N36447</td><td>1402  </td><td>EWR   </td><td>LAX   </td><td>320   </td><td>2454  </td><td>20    </td><td>28    </td></tr>\n",
       "\t<tr><td>2014  </td><td>10    </td><td>31    </td><td> 624  </td><td> -6   </td><td> 828  </td><td>-31   </td><td>0     </td><td>UA    </td><td>N76523</td><td>1407  </td><td>EWR   </td><td>MSY   </td><td>161   </td><td>1167  </td><td> 6    </td><td>24    </td></tr>\n",
       "\t<tr><td>2014  </td><td>10    </td><td>31    </td><td>1005  </td><td>  5   </td><td>1139  </td><td>  2   </td><td>0     </td><td>UA    </td><td>N34455</td><td>1408  </td><td>EWR   </td><td>ORD   </td><td>132   </td><td> 719  </td><td>10    </td><td> 5    </td></tr>\n",
       "\t<tr><td>2014  </td><td>10    </td><td>31    </td><td>1946  </td><td> 46   </td><td>2247  </td><td> 41   </td><td>0     </td><td>UA    </td><td>N36472</td><td>1416  </td><td>EWR   </td><td>FLL   </td><td>149   </td><td>1065  </td><td>19    </td><td>46    </td></tr>\n",
       "\t<tr><td>2014  </td><td>10    </td><td>31    </td><td> 756  </td><td> -1   </td><td> 921  </td><td>-18   </td><td>0     </td><td>UA    </td><td>N27477</td><td>1417  </td><td>EWR   </td><td>CLE   </td><td> 61   </td><td> 404  </td><td> 7    </td><td>56    </td></tr>\n",
       "\t<tr><td>2014  </td><td>10    </td><td>31    </td><td>1707  </td><td> 14   </td><td>1947  </td><td>-17   </td><td>0     </td><td>UA    </td><td>N87527</td><td>1420  </td><td>LGA   </td><td>IAH   </td><td>200   </td><td>1416  </td><td>17    </td><td> 7    </td></tr>\n",
       "\t<tr><td>2014  </td><td>10    </td><td>31    </td><td>2117  </td><td>  7   </td><td>   6  </td><td>-11   </td><td>0     </td><td>UA    </td><td>N14230</td><td>1682  </td><td>EWR   </td><td>FLL   </td><td>151   </td><td>1065  </td><td>21    </td><td>17    </td></tr>\n",
       "\t<tr><td>2014  </td><td>10    </td><td>31    </td><td>1604  </td><td> -4   </td><td>1914  </td><td> -1   </td><td>0     </td><td>UA    </td><td>N24202</td><td>1691  </td><td>EWR   </td><td>MIA   </td><td>155   </td><td>1085  </td><td>16    </td><td> 4    </td></tr>\n",
       "\t<tr><td>2014  </td><td>10    </td><td>31    </td><td> 601  </td><td>  1   </td><td> 856  </td><td>-15   </td><td>0     </td><td>UA    </td><td>N77510</td><td>1701  </td><td>EWR   </td><td>FLL   </td><td>151   </td><td>1065  </td><td> 6    </td><td> 1    </td></tr>\n",
       "\t<tr><td>2014  </td><td>10    </td><td>31    </td><td>1414  </td><td> -3   </td><td>1652  </td><td>-26   </td><td>0     </td><td>UA    </td><td>N77510</td><td>1711  </td><td>EWR   </td><td>IAH   </td><td>198   </td><td>1400  </td><td>14    </td><td>14    </td></tr>\n",
       "\t<tr><td>2014  </td><td>10    </td><td>31    </td><td>1723  </td><td>  3   </td><td>2006  </td><td>-14   </td><td>0     </td><td>UA    </td><td>N14107</td><td>1712  </td><td>EWR   </td><td>IAH   </td><td>195   </td><td>1400  </td><td>17    </td><td>23    </td></tr>\n",
       "\t<tr><td>2014  </td><td>10    </td><td>31    </td><td> 609  </td><td> 24   </td><td> 843  </td><td> -5   </td><td>0     </td><td>UA    </td><td>N16709</td><td>1714  </td><td>LGA   </td><td>IAH   </td><td>198   </td><td>1416  </td><td> 6    </td><td> 9    </td></tr>\n",
       "\t<tr><td>2014  </td><td>10    </td><td>31    </td><td>1920  </td><td> 14   </td><td>2223  </td><td> 11   </td><td>0     </td><td>UA    </td><td>N37434</td><td>1718  </td><td>EWR   </td><td>MIA   </td><td>151   </td><td>1085  </td><td>19    </td><td>20    </td></tr>\n",
       "\t<tr><td>2014  </td><td>10    </td><td>31    </td><td>1242  </td><td> 41   </td><td>1549  </td><td> 19   </td><td>0     </td><td>UA    </td><td>N16217</td><td>1727  </td><td>EWR   </td><td>SFO   </td><td>344   </td><td>2565  </td><td>12    </td><td>42    </td></tr>\n",
       "\t<tr><td>2014  </td><td>10    </td><td>31    </td><td>2121  </td><td>427   </td><td>2224  </td><td>393   </td><td>0     </td><td>UA    </td><td>N29717</td><td>1734  </td><td>EWR   </td><td>ORD   </td><td>100   </td><td> 719  </td><td>21    </td><td>21    </td></tr>\n",
       "\t<tr><td>2014  </td><td>10    </td><td>31    </td><td>1049  </td><td> 10   </td><td>1335  </td><td>-27   </td><td>0     </td><td>UA    </td><td>N37267</td><td>1735  </td><td>EWR   </td><td>LAX   </td><td>326   </td><td>2454  </td><td>10    </td><td>49    </td></tr>\n",
       "\t<tr><td>2014  </td><td>10    </td><td>31    </td><td>1653  </td><td> 18   </td><td>1910  </td><td>-14   </td><td>0     </td><td>UA    </td><td>N28478</td><td>1739  </td><td>EWR   </td><td>LAS   </td><td>291   </td><td>2227  </td><td>16    </td><td>53    </td></tr>\n",
       "\t<tr><td>2014  </td><td>10    </td><td>31    </td><td>1459  </td><td>  1   </td><td>1747  </td><td>-30   </td><td>0     </td><td>UA    </td><td>N23708</td><td>1744  </td><td>LGA   </td><td>IAH   </td><td>201   </td><td>1416  </td><td>14    </td><td>59    </td></tr>\n",
       "\t<tr><td>2014  </td><td>10    </td><td>31    </td><td> 854  </td><td> -5   </td><td>1147  </td><td>-14   </td><td>0     </td><td>UA    </td><td>N33132</td><td>1758  </td><td>EWR   </td><td>IAH   </td><td>189   </td><td>1400  </td><td> 8    </td><td>54    </td></tr>\n",
       "\t<tr><td>2014  </td><td>10    </td><td>31    </td><td>1102  </td><td> -8   </td><td>1311  </td><td> 16   </td><td>0     </td><td>MQ    </td><td>N827MQ</td><td>3591  </td><td>LGA   </td><td>RDU   </td><td> 83   </td><td> 431  </td><td>11    </td><td> 2    </td></tr>\n",
       "\t<tr><td>2014  </td><td>10    </td><td>31    </td><td>1106  </td><td> -4   </td><td>1325  </td><td> 15   </td><td>0     </td><td>MQ    </td><td>N511MQ</td><td>3592  </td><td>LGA   </td><td>DTW   </td><td> 75   </td><td> 502  </td><td>11    </td><td> 6    </td></tr>\n",
       "\t<tr><td>2014  </td><td>10    </td><td>31    </td><td> 824  </td><td> -5   </td><td>1045  </td><td>  1   </td><td>0     </td><td>MQ    </td><td>N813MQ</td><td>3599  </td><td>LGA   </td><td>SDF   </td><td>110   </td><td> 659  </td><td> 8    </td><td>24    </td></tr>\n",
       "</tbody>\n",
       "</table>\n"
      ],
      "text/latex": [
       "\\begin{tabular}{r|lllllllllllllllll}\n",
       " year & month & day & dep\\_time & dep\\_delay & arr\\_time & arr\\_delay & cancelled & carrier & tailnum & flight & origin & dest & air\\_time & distance & hour & min\\\\\n",
       "\\hline\n",
       "\t 2014   & 1      & 1      &  914   &  14    & 1238   &  13    & 0      & AA     & N338AA &   1    & JFK    & LAX    & 359    & 2475   &  9     & 14    \\\\\n",
       "\t 2014   & 1      & 1      & 1157   &  -3    & 1523   &  13    & 0      & AA     & N335AA &   3    & JFK    & LAX    & 363    & 2475   & 11     & 57    \\\\\n",
       "\t 2014   & 1      & 1      & 1902   &   2    & 2224   &   9    & 0      & AA     & N327AA &  21    & JFK    & LAX    & 351    & 2475   & 19     &  2    \\\\\n",
       "\t 2014   & 1      & 1      &  722   &  -8    & 1014   & -26    & 0      & AA     & N3EHAA &  29    & LGA    & PBI    & 157    & 1035   &  7     & 22    \\\\\n",
       "\t 2014   & 1      & 1      & 1347   &   2    & 1706   &   1    & 0      & AA     & N319AA & 117    & JFK    & LAX    & 350    & 2475   & 13     & 47    \\\\\n",
       "\t 2014   & 1      & 1      & 1824   &   4    & 2145   &   0    & 0      & AA     & N3DEAA & 119    & EWR    & LAX    & 339    & 2454   & 18     & 24    \\\\\n",
       "\t 2014   & 1      & 1      & 2133   &  -2    &   37   & -18    & 0      & AA     & N323AA & 185    & JFK    & LAX    & 338    & 2475   & 21     & 33    \\\\\n",
       "\t 2014   & 1      & 1      & 1542   &  -3    & 1906   & -14    & 0      & AA     & N328AA & 133    & JFK    & LAX    & 356    & 2475   & 15     & 42    \\\\\n",
       "\t 2014   & 1      & 1      & 1509   &  -1    & 1828   & -17    & 0      & AA     & N5FJAA & 145    & JFK    & MIA    & 161    & 1089   & 15     &  9    \\\\\n",
       "\t 2014   & 1      & 1      & 1848   &  -2    & 2206   & -14    & 0      & AA     & N3HYAA & 235    & JFK    & SEA    & 349    & 2422   & 18     & 48    \\\\\n",
       "\t 2014   & 1      & 1      & 1655   &  -5    & 2003   & -17    & 0      & AA     & N5CFAA & 172    & EWR    & MIA    & 161    & 1085   & 16     & 55    \\\\\n",
       "\t 2014   & 1      & 1      & 1752   &   7    & 2120   &  -5    & 0      & AA     & N332AA & 177    & JFK    & SFO    & 365    & 2586   & 17     & 52    \\\\\n",
       "\t 2014   & 1      & 1      & 1253   &   3    & 1351   &   1    & 0      & AA     & N3JWAA & 178    & JFK    & BOS    &  39    &  187   & 12     & 53    \\\\\n",
       "\t 2014   & 1      & 1      & 1907   & 142    & 2223   & 133    & 0      & AA     & N336AA & 181    & JFK    & LAX    & 345    & 2475   & 19     &  7    \\\\\n",
       "\t 2014   & 1      & 1      & 1720   &  -5    & 1819   & -26    & 0      & AA     & N3BCAA & 256    & JFK    & BOS    &  35    &  187   & 17     & 20    \\\\\n",
       "\t 2014   & 1      & 1      & 1733   &  18    & 2024   &  69    & 0      & AA     & N3HPAA & 199    & JFK    & ORD    & 155    &  740   & 17     & 33    \\\\\n",
       "\t 2014   & 1      & 1      & 1640   &  25    & 2001   &  36    & 0      & AA     & N3HFAA & 211    & JFK    & IAH    & 234    & 1417   & 16     & 40    \\\\\n",
       "\t 2014   & 1      & 1      & 1714   &  -1    & 2036   &   1    & 0      & AA     & N3DVAA & 291    & JFK    & AUS    & 232    & 1521   & 17     & 14    \\\\\n",
       "\t 2014   & 1      & 1      & 1611   & 191    & 1910   & 185    & 0      & AA     & N471AA & 300    & EWR    & DFW    & 214    & 1372   & 16     & 11    \\\\\n",
       "\t 2014   & 1      & 1      &  553   &  -7    &  739   &  -6    & 0      & AA     & N3KHAA & 301    & LGA    & ORD    & 142    &  733   &  5     & 53    \\\\\n",
       "\t 2014   & 1      & 1      &  623   &  -7    &  815   &   0    & 0      & AA     & N3BSAA & 303    & LGA    & ORD    & 143    &  733   &  6     & 23    \\\\\n",
       "\t 2014   & 1      & 1      &  652   &  -8    &  833   & -17    & 0      & AA     & N560AA & 305    & LGA    & ORD    & 139    &  733   &  6     & 52    \\\\\n",
       "\t 2014   & 1      & 1      &  738   &  -2    &  940   &  15    & 0      & AA     & N3GMAA & 307    & LGA    & ORD    & 145    &  733   &  7     & 38    \\\\\n",
       "\t 2014   & 1      & 1      &  847   &  -3    & 1036   &   1    & 0      & AA     & N553AA & 313    & LGA    & ORD    & 139    &  733   &  8     & 47    \\\\\n",
       "\t 2014   & 1      & 1      & 1029   &  44    & 1212   &  42    & 0      & AA     & N3KDAA & 317    & LGA    & ORD    & 141    &  733   & 10     & 29    \\\\\n",
       "\t 2014   & 1      & 1      & 1449   &  -1    & 1753   &  -2    & 0      & AA     & N4WNAA & 320    & EWR    & DFW    & 214    & 1372   & 14     & 49    \\\\\n",
       "\t 2014   & 1      & 1      & 1018   &   3    & 1202   &  12    & 0      & AA     & N482AA & 325    & LGA    & ORD    & 137    &  733   & 10     & 18    \\\\\n",
       "\t 2014   & 1      & 1      & 1140   &  -5    & 1349   &  24    & 0      & AA     & N570AA & 327    & LGA    & ORD    & 145    &  733   & 11     & 40    \\\\\n",
       "\t 2014   & 1      & 1      & 1346   &  26    & 1541   &  46    & 0      & AA     & N3KRAA & 331    & LGA    & ORD    & 132    &  733   & 13     & 46    \\\\\n",
       "\t 2014   & 1      & 1      & 1612   &  52    & 1836   &  91    & 0      & AA     & N553AA & 341    & LGA    & ORD    & 136    &  733   & 16     & 12    \\\\\n",
       "\t ⋮ & ⋮ & ⋮ & ⋮ & ⋮ & ⋮ & ⋮ & ⋮ & ⋮ & ⋮ & ⋮ & ⋮ & ⋮ & ⋮ & ⋮ & ⋮ & ⋮\\\\\n",
       "\t 2014   & 10     & 31     & 1513   &   3    & 1801   &  -7    & 0      & UA     & N77530 & 1218   & EWR    & TPA    & 147    &  997   & 15     & 13    \\\\\n",
       "\t 2014   & 10     & 31     & 2330   & 271    &  214   & 236    & 0      & UA     & N24706 & 1259   & LGA    & IAH    & 195    & 1416   & 23     & 30    \\\\\n",
       "\t 2014   & 10     & 31     &  659   &  10    &  820   &  -5    & 0      & UA     & N16713 & 1262   & EWR    & ORD    & 110    &  719   &  6     & 59    \\\\\n",
       "\t 2014   & 10     & 31     & 1631   &  21    & 1945   &   6    & 0      & UA     & N37468 & 1284   & EWR    & SFO    & 340    & 2565   & 16     & 31    \\\\\n",
       "\t 2014   & 10     & 31     &  821   &  -9    & 1127   & -43    & 0      & UA     & N41140 & 1289   & EWR    & SFO    & 334    & 2565   &  8     & 21    \\\\\n",
       "\t 2014   & 10     & 31     & 1459   &  49    & 1823   &  48    & 0      & UA     & N76519 & 1293   & EWR    & SFO    & 336    & 2565   & 14     & 59    \\\\\n",
       "\t 2014   & 10     & 31     &  647   &   0    &  945   & -10    & 0      & UA     & N29717 & 1299   & EWR    & RSW    & 156    & 1068   &  6     & 47    \\\\\n",
       "\t 2014   & 10     & 31     & 1039   &   9    & 1342   &   4    & 0      & UA     & N73276 & 1401   & EWR    & MIA    & 160    & 1085   & 10     & 39    \\\\\n",
       "\t 2014   & 10     & 31     & 2028   &   3    & 2316   & -32    & 0      & UA     & N36447 & 1402   & EWR    & LAX    & 320    & 2454   & 20     & 28    \\\\\n",
       "\t 2014   & 10     & 31     &  624   &  -6    &  828   & -31    & 0      & UA     & N76523 & 1407   & EWR    & MSY    & 161    & 1167   &  6     & 24    \\\\\n",
       "\t 2014   & 10     & 31     & 1005   &   5    & 1139   &   2    & 0      & UA     & N34455 & 1408   & EWR    & ORD    & 132    &  719   & 10     &  5    \\\\\n",
       "\t 2014   & 10     & 31     & 1946   &  46    & 2247   &  41    & 0      & UA     & N36472 & 1416   & EWR    & FLL    & 149    & 1065   & 19     & 46    \\\\\n",
       "\t 2014   & 10     & 31     &  756   &  -1    &  921   & -18    & 0      & UA     & N27477 & 1417   & EWR    & CLE    &  61    &  404   &  7     & 56    \\\\\n",
       "\t 2014   & 10     & 31     & 1707   &  14    & 1947   & -17    & 0      & UA     & N87527 & 1420   & LGA    & IAH    & 200    & 1416   & 17     &  7    \\\\\n",
       "\t 2014   & 10     & 31     & 2117   &   7    &    6   & -11    & 0      & UA     & N14230 & 1682   & EWR    & FLL    & 151    & 1065   & 21     & 17    \\\\\n",
       "\t 2014   & 10     & 31     & 1604   &  -4    & 1914   &  -1    & 0      & UA     & N24202 & 1691   & EWR    & MIA    & 155    & 1085   & 16     &  4    \\\\\n",
       "\t 2014   & 10     & 31     &  601   &   1    &  856   & -15    & 0      & UA     & N77510 & 1701   & EWR    & FLL    & 151    & 1065   &  6     &  1    \\\\\n",
       "\t 2014   & 10     & 31     & 1414   &  -3    & 1652   & -26    & 0      & UA     & N77510 & 1711   & EWR    & IAH    & 198    & 1400   & 14     & 14    \\\\\n",
       "\t 2014   & 10     & 31     & 1723   &   3    & 2006   & -14    & 0      & UA     & N14107 & 1712   & EWR    & IAH    & 195    & 1400   & 17     & 23    \\\\\n",
       "\t 2014   & 10     & 31     &  609   &  24    &  843   &  -5    & 0      & UA     & N16709 & 1714   & LGA    & IAH    & 198    & 1416   &  6     &  9    \\\\\n",
       "\t 2014   & 10     & 31     & 1920   &  14    & 2223   &  11    & 0      & UA     & N37434 & 1718   & EWR    & MIA    & 151    & 1085   & 19     & 20    \\\\\n",
       "\t 2014   & 10     & 31     & 1242   &  41    & 1549   &  19    & 0      & UA     & N16217 & 1727   & EWR    & SFO    & 344    & 2565   & 12     & 42    \\\\\n",
       "\t 2014   & 10     & 31     & 2121   & 427    & 2224   & 393    & 0      & UA     & N29717 & 1734   & EWR    & ORD    & 100    &  719   & 21     & 21    \\\\\n",
       "\t 2014   & 10     & 31     & 1049   &  10    & 1335   & -27    & 0      & UA     & N37267 & 1735   & EWR    & LAX    & 326    & 2454   & 10     & 49    \\\\\n",
       "\t 2014   & 10     & 31     & 1653   &  18    & 1910   & -14    & 0      & UA     & N28478 & 1739   & EWR    & LAS    & 291    & 2227   & 16     & 53    \\\\\n",
       "\t 2014   & 10     & 31     & 1459   &   1    & 1747   & -30    & 0      & UA     & N23708 & 1744   & LGA    & IAH    & 201    & 1416   & 14     & 59    \\\\\n",
       "\t 2014   & 10     & 31     &  854   &  -5    & 1147   & -14    & 0      & UA     & N33132 & 1758   & EWR    & IAH    & 189    & 1400   &  8     & 54    \\\\\n",
       "\t 2014   & 10     & 31     & 1102   &  -8    & 1311   &  16    & 0      & MQ     & N827MQ & 3591   & LGA    & RDU    &  83    &  431   & 11     &  2    \\\\\n",
       "\t 2014   & 10     & 31     & 1106   &  -4    & 1325   &  15    & 0      & MQ     & N511MQ & 3592   & LGA    & DTW    &  75    &  502   & 11     &  6    \\\\\n",
       "\t 2014   & 10     & 31     &  824   &  -5    & 1045   &   1    & 0      & MQ     & N813MQ & 3599   & LGA    & SDF    & 110    &  659   &  8     & 24    \\\\\n",
       "\\end{tabular}\n"
      ],
      "text/markdown": [
       "\n",
       "year | month | day | dep_time | dep_delay | arr_time | arr_delay | cancelled | carrier | tailnum | flight | origin | dest | air_time | distance | hour | min | \n",
       "|---|---|---|---|---|---|---|---|---|---|---|---|---|---|---|---|---|---|---|---|---|---|---|---|---|---|---|---|---|---|---|---|---|---|---|---|---|---|---|---|---|---|---|---|---|---|---|---|---|---|---|---|---|---|---|---|---|---|---|---|---|\n",
       "| 2014   | 1      | 1      |  914   |  14    | 1238   |  13    | 0      | AA     | N338AA |   1    | JFK    | LAX    | 359    | 2475   |  9     | 14     | \n",
       "| 2014   | 1      | 1      | 1157   |  -3    | 1523   |  13    | 0      | AA     | N335AA |   3    | JFK    | LAX    | 363    | 2475   | 11     | 57     | \n",
       "| 2014   | 1      | 1      | 1902   |   2    | 2224   |   9    | 0      | AA     | N327AA |  21    | JFK    | LAX    | 351    | 2475   | 19     |  2     | \n",
       "| 2014   | 1      | 1      |  722   |  -8    | 1014   | -26    | 0      | AA     | N3EHAA |  29    | LGA    | PBI    | 157    | 1035   |  7     | 22     | \n",
       "| 2014   | 1      | 1      | 1347   |   2    | 1706   |   1    | 0      | AA     | N319AA | 117    | JFK    | LAX    | 350    | 2475   | 13     | 47     | \n",
       "| 2014   | 1      | 1      | 1824   |   4    | 2145   |   0    | 0      | AA     | N3DEAA | 119    | EWR    | LAX    | 339    | 2454   | 18     | 24     | \n",
       "| 2014   | 1      | 1      | 2133   |  -2    |   37   | -18    | 0      | AA     | N323AA | 185    | JFK    | LAX    | 338    | 2475   | 21     | 33     | \n",
       "| 2014   | 1      | 1      | 1542   |  -3    | 1906   | -14    | 0      | AA     | N328AA | 133    | JFK    | LAX    | 356    | 2475   | 15     | 42     | \n",
       "| 2014   | 1      | 1      | 1509   |  -1    | 1828   | -17    | 0      | AA     | N5FJAA | 145    | JFK    | MIA    | 161    | 1089   | 15     |  9     | \n",
       "| 2014   | 1      | 1      | 1848   |  -2    | 2206   | -14    | 0      | AA     | N3HYAA | 235    | JFK    | SEA    | 349    | 2422   | 18     | 48     | \n",
       "| 2014   | 1      | 1      | 1655   |  -5    | 2003   | -17    | 0      | AA     | N5CFAA | 172    | EWR    | MIA    | 161    | 1085   | 16     | 55     | \n",
       "| 2014   | 1      | 1      | 1752   |   7    | 2120   |  -5    | 0      | AA     | N332AA | 177    | JFK    | SFO    | 365    | 2586   | 17     | 52     | \n",
       "| 2014   | 1      | 1      | 1253   |   3    | 1351   |   1    | 0      | AA     | N3JWAA | 178    | JFK    | BOS    |  39    |  187   | 12     | 53     | \n",
       "| 2014   | 1      | 1      | 1907   | 142    | 2223   | 133    | 0      | AA     | N336AA | 181    | JFK    | LAX    | 345    | 2475   | 19     |  7     | \n",
       "| 2014   | 1      | 1      | 1720   |  -5    | 1819   | -26    | 0      | AA     | N3BCAA | 256    | JFK    | BOS    |  35    |  187   | 17     | 20     | \n",
       "| 2014   | 1      | 1      | 1733   |  18    | 2024   |  69    | 0      | AA     | N3HPAA | 199    | JFK    | ORD    | 155    |  740   | 17     | 33     | \n",
       "| 2014   | 1      | 1      | 1640   |  25    | 2001   |  36    | 0      | AA     | N3HFAA | 211    | JFK    | IAH    | 234    | 1417   | 16     | 40     | \n",
       "| 2014   | 1      | 1      | 1714   |  -1    | 2036   |   1    | 0      | AA     | N3DVAA | 291    | JFK    | AUS    | 232    | 1521   | 17     | 14     | \n",
       "| 2014   | 1      | 1      | 1611   | 191    | 1910   | 185    | 0      | AA     | N471AA | 300    | EWR    | DFW    | 214    | 1372   | 16     | 11     | \n",
       "| 2014   | 1      | 1      |  553   |  -7    |  739   |  -6    | 0      | AA     | N3KHAA | 301    | LGA    | ORD    | 142    |  733   |  5     | 53     | \n",
       "| 2014   | 1      | 1      |  623   |  -7    |  815   |   0    | 0      | AA     | N3BSAA | 303    | LGA    | ORD    | 143    |  733   |  6     | 23     | \n",
       "| 2014   | 1      | 1      |  652   |  -8    |  833   | -17    | 0      | AA     | N560AA | 305    | LGA    | ORD    | 139    |  733   |  6     | 52     | \n",
       "| 2014   | 1      | 1      |  738   |  -2    |  940   |  15    | 0      | AA     | N3GMAA | 307    | LGA    | ORD    | 145    |  733   |  7     | 38     | \n",
       "| 2014   | 1      | 1      |  847   |  -3    | 1036   |   1    | 0      | AA     | N553AA | 313    | LGA    | ORD    | 139    |  733   |  8     | 47     | \n",
       "| 2014   | 1      | 1      | 1029   |  44    | 1212   |  42    | 0      | AA     | N3KDAA | 317    | LGA    | ORD    | 141    |  733   | 10     | 29     | \n",
       "| 2014   | 1      | 1      | 1449   |  -1    | 1753   |  -2    | 0      | AA     | N4WNAA | 320    | EWR    | DFW    | 214    | 1372   | 14     | 49     | \n",
       "| 2014   | 1      | 1      | 1018   |   3    | 1202   |  12    | 0      | AA     | N482AA | 325    | LGA    | ORD    | 137    |  733   | 10     | 18     | \n",
       "| 2014   | 1      | 1      | 1140   |  -5    | 1349   |  24    | 0      | AA     | N570AA | 327    | LGA    | ORD    | 145    |  733   | 11     | 40     | \n",
       "| 2014   | 1      | 1      | 1346   |  26    | 1541   |  46    | 0      | AA     | N3KRAA | 331    | LGA    | ORD    | 132    |  733   | 13     | 46     | \n",
       "| 2014   | 1      | 1      | 1612   |  52    | 1836   |  91    | 0      | AA     | N553AA | 341    | LGA    | ORD    | 136    |  733   | 16     | 12     | \n",
       "| ⋮ | ⋮ | ⋮ | ⋮ | ⋮ | ⋮ | ⋮ | ⋮ | ⋮ | ⋮ | ⋮ | ⋮ | ⋮ | ⋮ | ⋮ | ⋮ | ⋮ | \n",
       "| 2014   | 10     | 31     | 1513   |   3    | 1801   |  -7    | 0      | UA     | N77530 | 1218   | EWR    | TPA    | 147    |  997   | 15     | 13     | \n",
       "| 2014   | 10     | 31     | 2330   | 271    |  214   | 236    | 0      | UA     | N24706 | 1259   | LGA    | IAH    | 195    | 1416   | 23     | 30     | \n",
       "| 2014   | 10     | 31     |  659   |  10    |  820   |  -5    | 0      | UA     | N16713 | 1262   | EWR    | ORD    | 110    |  719   |  6     | 59     | \n",
       "| 2014   | 10     | 31     | 1631   |  21    | 1945   |   6    | 0      | UA     | N37468 | 1284   | EWR    | SFO    | 340    | 2565   | 16     | 31     | \n",
       "| 2014   | 10     | 31     |  821   |  -9    | 1127   | -43    | 0      | UA     | N41140 | 1289   | EWR    | SFO    | 334    | 2565   |  8     | 21     | \n",
       "| 2014   | 10     | 31     | 1459   |  49    | 1823   |  48    | 0      | UA     | N76519 | 1293   | EWR    | SFO    | 336    | 2565   | 14     | 59     | \n",
       "| 2014   | 10     | 31     |  647   |   0    |  945   | -10    | 0      | UA     | N29717 | 1299   | EWR    | RSW    | 156    | 1068   |  6     | 47     | \n",
       "| 2014   | 10     | 31     | 1039   |   9    | 1342   |   4    | 0      | UA     | N73276 | 1401   | EWR    | MIA    | 160    | 1085   | 10     | 39     | \n",
       "| 2014   | 10     | 31     | 2028   |   3    | 2316   | -32    | 0      | UA     | N36447 | 1402   | EWR    | LAX    | 320    | 2454   | 20     | 28     | \n",
       "| 2014   | 10     | 31     |  624   |  -6    |  828   | -31    | 0      | UA     | N76523 | 1407   | EWR    | MSY    | 161    | 1167   |  6     | 24     | \n",
       "| 2014   | 10     | 31     | 1005   |   5    | 1139   |   2    | 0      | UA     | N34455 | 1408   | EWR    | ORD    | 132    |  719   | 10     |  5     | \n",
       "| 2014   | 10     | 31     | 1946   |  46    | 2247   |  41    | 0      | UA     | N36472 | 1416   | EWR    | FLL    | 149    | 1065   | 19     | 46     | \n",
       "| 2014   | 10     | 31     |  756   |  -1    |  921   | -18    | 0      | UA     | N27477 | 1417   | EWR    | CLE    |  61    |  404   |  7     | 56     | \n",
       "| 2014   | 10     | 31     | 1707   |  14    | 1947   | -17    | 0      | UA     | N87527 | 1420   | LGA    | IAH    | 200    | 1416   | 17     |  7     | \n",
       "| 2014   | 10     | 31     | 2117   |   7    |    6   | -11    | 0      | UA     | N14230 | 1682   | EWR    | FLL    | 151    | 1065   | 21     | 17     | \n",
       "| 2014   | 10     | 31     | 1604   |  -4    | 1914   |  -1    | 0      | UA     | N24202 | 1691   | EWR    | MIA    | 155    | 1085   | 16     |  4     | \n",
       "| 2014   | 10     | 31     |  601   |   1    |  856   | -15    | 0      | UA     | N77510 | 1701   | EWR    | FLL    | 151    | 1065   |  6     |  1     | \n",
       "| 2014   | 10     | 31     | 1414   |  -3    | 1652   | -26    | 0      | UA     | N77510 | 1711   | EWR    | IAH    | 198    | 1400   | 14     | 14     | \n",
       "| 2014   | 10     | 31     | 1723   |   3    | 2006   | -14    | 0      | UA     | N14107 | 1712   | EWR    | IAH    | 195    | 1400   | 17     | 23     | \n",
       "| 2014   | 10     | 31     |  609   |  24    |  843   |  -5    | 0      | UA     | N16709 | 1714   | LGA    | IAH    | 198    | 1416   |  6     |  9     | \n",
       "| 2014   | 10     | 31     | 1920   |  14    | 2223   |  11    | 0      | UA     | N37434 | 1718   | EWR    | MIA    | 151    | 1085   | 19     | 20     | \n",
       "| 2014   | 10     | 31     | 1242   |  41    | 1549   |  19    | 0      | UA     | N16217 | 1727   | EWR    | SFO    | 344    | 2565   | 12     | 42     | \n",
       "| 2014   | 10     | 31     | 2121   | 427    | 2224   | 393    | 0      | UA     | N29717 | 1734   | EWR    | ORD    | 100    |  719   | 21     | 21     | \n",
       "| 2014   | 10     | 31     | 1049   |  10    | 1335   | -27    | 0      | UA     | N37267 | 1735   | EWR    | LAX    | 326    | 2454   | 10     | 49     | \n",
       "| 2014   | 10     | 31     | 1653   |  18    | 1910   | -14    | 0      | UA     | N28478 | 1739   | EWR    | LAS    | 291    | 2227   | 16     | 53     | \n",
       "| 2014   | 10     | 31     | 1459   |   1    | 1747   | -30    | 0      | UA     | N23708 | 1744   | LGA    | IAH    | 201    | 1416   | 14     | 59     | \n",
       "| 2014   | 10     | 31     |  854   |  -5    | 1147   | -14    | 0      | UA     | N33132 | 1758   | EWR    | IAH    | 189    | 1400   |  8     | 54     | \n",
       "| 2014   | 10     | 31     | 1102   |  -8    | 1311   |  16    | 0      | MQ     | N827MQ | 3591   | LGA    | RDU    |  83    |  431   | 11     |  2     | \n",
       "| 2014   | 10     | 31     | 1106   |  -4    | 1325   |  15    | 0      | MQ     | N511MQ | 3592   | LGA    | DTW    |  75    |  502   | 11     |  6     | \n",
       "| 2014   | 10     | 31     |  824   |  -5    | 1045   |   1    | 0      | MQ     | N813MQ | 3599   | LGA    | SDF    | 110    |  659   |  8     | 24     | \n",
       "\n",
       "\n"
      ],
      "text/plain": [
       "       year month day dep_time dep_delay arr_time arr_delay cancelled carrier\n",
       "1      2014 1     1    914      14       1238      13       0         AA     \n",
       "2      2014 1     1   1157      -3       1523      13       0         AA     \n",
       "3      2014 1     1   1902       2       2224       9       0         AA     \n",
       "4      2014 1     1    722      -8       1014     -26       0         AA     \n",
       "5      2014 1     1   1347       2       1706       1       0         AA     \n",
       "6      2014 1     1   1824       4       2145       0       0         AA     \n",
       "7      2014 1     1   2133      -2         37     -18       0         AA     \n",
       "8      2014 1     1   1542      -3       1906     -14       0         AA     \n",
       "9      2014 1     1   1509      -1       1828     -17       0         AA     \n",
       "10     2014 1     1   1848      -2       2206     -14       0         AA     \n",
       "11     2014 1     1   1655      -5       2003     -17       0         AA     \n",
       "12     2014 1     1   1752       7       2120      -5       0         AA     \n",
       "13     2014 1     1   1253       3       1351       1       0         AA     \n",
       "14     2014 1     1   1907     142       2223     133       0         AA     \n",
       "15     2014 1     1   1720      -5       1819     -26       0         AA     \n",
       "16     2014 1     1   1733      18       2024      69       0         AA     \n",
       "17     2014 1     1   1640      25       2001      36       0         AA     \n",
       "18     2014 1     1   1714      -1       2036       1       0         AA     \n",
       "19     2014 1     1   1611     191       1910     185       0         AA     \n",
       "20     2014 1     1    553      -7        739      -6       0         AA     \n",
       "21     2014 1     1    623      -7        815       0       0         AA     \n",
       "22     2014 1     1    652      -8        833     -17       0         AA     \n",
       "23     2014 1     1    738      -2        940      15       0         AA     \n",
       "24     2014 1     1    847      -3       1036       1       0         AA     \n",
       "25     2014 1     1   1029      44       1212      42       0         AA     \n",
       "26     2014 1     1   1449      -1       1753      -2       0         AA     \n",
       "27     2014 1     1   1018       3       1202      12       0         AA     \n",
       "28     2014 1     1   1140      -5       1349      24       0         AA     \n",
       "29     2014 1     1   1346      26       1541      46       0         AA     \n",
       "30     2014 1     1   1612      52       1836      91       0         AA     \n",
       "⋮      ⋮    ⋮     ⋮   ⋮        ⋮         ⋮        ⋮         ⋮         ⋮      \n",
       "253287 2014 10    31  1513       3       1801      -7       0         UA     \n",
       "253288 2014 10    31  2330     271        214     236       0         UA     \n",
       "253289 2014 10    31   659      10        820      -5       0         UA     \n",
       "253290 2014 10    31  1631      21       1945       6       0         UA     \n",
       "253291 2014 10    31   821      -9       1127     -43       0         UA     \n",
       "253292 2014 10    31  1459      49       1823      48       0         UA     \n",
       "253293 2014 10    31   647       0        945     -10       0         UA     \n",
       "253294 2014 10    31  1039       9       1342       4       0         UA     \n",
       "253295 2014 10    31  2028       3       2316     -32       0         UA     \n",
       "253296 2014 10    31   624      -6        828     -31       0         UA     \n",
       "253297 2014 10    31  1005       5       1139       2       0         UA     \n",
       "253298 2014 10    31  1946      46       2247      41       0         UA     \n",
       "253299 2014 10    31   756      -1        921     -18       0         UA     \n",
       "253300 2014 10    31  1707      14       1947     -17       0         UA     \n",
       "253301 2014 10    31  2117       7          6     -11       0         UA     \n",
       "253302 2014 10    31  1604      -4       1914      -1       0         UA     \n",
       "253303 2014 10    31   601       1        856     -15       0         UA     \n",
       "253304 2014 10    31  1414      -3       1652     -26       0         UA     \n",
       "253305 2014 10    31  1723       3       2006     -14       0         UA     \n",
       "253306 2014 10    31   609      24        843      -5       0         UA     \n",
       "253307 2014 10    31  1920      14       2223      11       0         UA     \n",
       "253308 2014 10    31  1242      41       1549      19       0         UA     \n",
       "253309 2014 10    31  2121     427       2224     393       0         UA     \n",
       "253310 2014 10    31  1049      10       1335     -27       0         UA     \n",
       "253311 2014 10    31  1653      18       1910     -14       0         UA     \n",
       "253312 2014 10    31  1459       1       1747     -30       0         UA     \n",
       "253313 2014 10    31   854      -5       1147     -14       0         UA     \n",
       "253314 2014 10    31  1102      -8       1311      16       0         MQ     \n",
       "253315 2014 10    31  1106      -4       1325      15       0         MQ     \n",
       "253316 2014 10    31   824      -5       1045       1       0         MQ     \n",
       "       tailnum flight origin dest air_time distance hour min\n",
       "1      N338AA    1    JFK    LAX  359      2475      9   14 \n",
       "2      N335AA    3    JFK    LAX  363      2475     11   57 \n",
       "3      N327AA   21    JFK    LAX  351      2475     19    2 \n",
       "4      N3EHAA   29    LGA    PBI  157      1035      7   22 \n",
       "5      N319AA  117    JFK    LAX  350      2475     13   47 \n",
       "6      N3DEAA  119    EWR    LAX  339      2454     18   24 \n",
       "7      N323AA  185    JFK    LAX  338      2475     21   33 \n",
       "8      N328AA  133    JFK    LAX  356      2475     15   42 \n",
       "9      N5FJAA  145    JFK    MIA  161      1089     15    9 \n",
       "10     N3HYAA  235    JFK    SEA  349      2422     18   48 \n",
       "11     N5CFAA  172    EWR    MIA  161      1085     16   55 \n",
       "12     N332AA  177    JFK    SFO  365      2586     17   52 \n",
       "13     N3JWAA  178    JFK    BOS   39       187     12   53 \n",
       "14     N336AA  181    JFK    LAX  345      2475     19    7 \n",
       "15     N3BCAA  256    JFK    BOS   35       187     17   20 \n",
       "16     N3HPAA  199    JFK    ORD  155       740     17   33 \n",
       "17     N3HFAA  211    JFK    IAH  234      1417     16   40 \n",
       "18     N3DVAA  291    JFK    AUS  232      1521     17   14 \n",
       "19     N471AA  300    EWR    DFW  214      1372     16   11 \n",
       "20     N3KHAA  301    LGA    ORD  142       733      5   53 \n",
       "21     N3BSAA  303    LGA    ORD  143       733      6   23 \n",
       "22     N560AA  305    LGA    ORD  139       733      6   52 \n",
       "23     N3GMAA  307    LGA    ORD  145       733      7   38 \n",
       "24     N553AA  313    LGA    ORD  139       733      8   47 \n",
       "25     N3KDAA  317    LGA    ORD  141       733     10   29 \n",
       "26     N4WNAA  320    EWR    DFW  214      1372     14   49 \n",
       "27     N482AA  325    LGA    ORD  137       733     10   18 \n",
       "28     N570AA  327    LGA    ORD  145       733     11   40 \n",
       "29     N3KRAA  331    LGA    ORD  132       733     13   46 \n",
       "30     N553AA  341    LGA    ORD  136       733     16   12 \n",
       "⋮      ⋮       ⋮      ⋮      ⋮    ⋮        ⋮        ⋮    ⋮  \n",
       "253287 N77530  1218   EWR    TPA  147       997     15   13 \n",
       "253288 N24706  1259   LGA    IAH  195      1416     23   30 \n",
       "253289 N16713  1262   EWR    ORD  110       719      6   59 \n",
       "253290 N37468  1284   EWR    SFO  340      2565     16   31 \n",
       "253291 N41140  1289   EWR    SFO  334      2565      8   21 \n",
       "253292 N76519  1293   EWR    SFO  336      2565     14   59 \n",
       "253293 N29717  1299   EWR    RSW  156      1068      6   47 \n",
       "253294 N73276  1401   EWR    MIA  160      1085     10   39 \n",
       "253295 N36447  1402   EWR    LAX  320      2454     20   28 \n",
       "253296 N76523  1407   EWR    MSY  161      1167      6   24 \n",
       "253297 N34455  1408   EWR    ORD  132       719     10    5 \n",
       "253298 N36472  1416   EWR    FLL  149      1065     19   46 \n",
       "253299 N27477  1417   EWR    CLE   61       404      7   56 \n",
       "253300 N87527  1420   LGA    IAH  200      1416     17    7 \n",
       "253301 N14230  1682   EWR    FLL  151      1065     21   17 \n",
       "253302 N24202  1691   EWR    MIA  155      1085     16    4 \n",
       "253303 N77510  1701   EWR    FLL  151      1065      6    1 \n",
       "253304 N77510  1711   EWR    IAH  198      1400     14   14 \n",
       "253305 N14107  1712   EWR    IAH  195      1400     17   23 \n",
       "253306 N16709  1714   LGA    IAH  198      1416      6    9 \n",
       "253307 N37434  1718   EWR    MIA  151      1085     19   20 \n",
       "253308 N16217  1727   EWR    SFO  344      2565     12   42 \n",
       "253309 N29717  1734   EWR    ORD  100       719     21   21 \n",
       "253310 N37267  1735   EWR    LAX  326      2454     10   49 \n",
       "253311 N28478  1739   EWR    LAS  291      2227     16   53 \n",
       "253312 N23708  1744   LGA    IAH  201      1416     14   59 \n",
       "253313 N33132  1758   EWR    IAH  189      1400      8   54 \n",
       "253314 N827MQ  3591   LGA    RDU   83       431     11    2 \n",
       "253315 N511MQ  3592   LGA    DTW   75       502     11    6 \n",
       "253316 N813MQ  3599   LGA    SDF  110       659      8   24 "
      ]
     },
     "metadata": {},
     "output_type": "display_data"
    }
   ],
   "source": [
    "flights"
   ]
  },
  {
   "cell_type": "code",
   "execution_count": 4,
   "metadata": {},
   "outputs": [
    {
     "data": {
      "text/html": [
       "<table>\n",
       "<thead><tr><th scope=col>year</th><th scope=col>month</th><th scope=col>day</th><th scope=col>dep_time</th><th scope=col>dep_delay</th><th scope=col>arr_time</th><th scope=col>arr_delay</th><th scope=col>cancelled</th><th scope=col>carrier</th><th scope=col>tailnum</th><th scope=col>flight</th><th scope=col>origin</th><th scope=col>dest</th><th scope=col>air_time</th><th scope=col>distance</th><th scope=col>hour</th><th scope=col>min</th></tr></thead>\n",
       "<tbody>\n",
       "\t<tr><td>2014  </td><td>1     </td><td>1     </td><td> 914  </td><td>14    </td><td>1238  </td><td> 13   </td><td>0     </td><td>AA    </td><td>N338AA</td><td>  1   </td><td>JFK   </td><td>LAX   </td><td>359   </td><td>2475  </td><td> 9    </td><td>14    </td></tr>\n",
       "\t<tr><td>2014  </td><td>1     </td><td>1     </td><td>1157  </td><td>-3    </td><td>1523  </td><td> 13   </td><td>0     </td><td>AA    </td><td>N335AA</td><td>  3   </td><td>JFK   </td><td>LAX   </td><td>363   </td><td>2475  </td><td>11    </td><td>57    </td></tr>\n",
       "\t<tr><td>2014  </td><td>1     </td><td>1     </td><td>1902  </td><td> 2    </td><td>2224  </td><td>  9   </td><td>0     </td><td>AA    </td><td>N327AA</td><td> 21   </td><td>JFK   </td><td>LAX   </td><td>351   </td><td>2475  </td><td>19    </td><td> 2    </td></tr>\n",
       "\t<tr><td>2014  </td><td>1     </td><td>1     </td><td> 722  </td><td>-8    </td><td>1014  </td><td>-26   </td><td>0     </td><td>AA    </td><td>N3EHAA</td><td> 29   </td><td>LGA   </td><td>PBI   </td><td>157   </td><td>1035  </td><td> 7    </td><td>22    </td></tr>\n",
       "\t<tr><td>2014  </td><td>1     </td><td>1     </td><td>1347  </td><td> 2    </td><td>1706  </td><td>  1   </td><td>0     </td><td>AA    </td><td>N319AA</td><td>117   </td><td>JFK   </td><td>LAX   </td><td>350   </td><td>2475  </td><td>13    </td><td>47    </td></tr>\n",
       "\t<tr><td>2014  </td><td>1     </td><td>1     </td><td>1824  </td><td> 4    </td><td>2145  </td><td>  0   </td><td>0     </td><td>AA    </td><td>N3DEAA</td><td>119   </td><td>EWR   </td><td>LAX   </td><td>339   </td><td>2454  </td><td>18    </td><td>24    </td></tr>\n",
       "</tbody>\n",
       "</table>\n"
      ],
      "text/latex": [
       "\\begin{tabular}{r|lllllllllllllllll}\n",
       " year & month & day & dep\\_time & dep\\_delay & arr\\_time & arr\\_delay & cancelled & carrier & tailnum & flight & origin & dest & air\\_time & distance & hour & min\\\\\n",
       "\\hline\n",
       "\t 2014   & 1      & 1      &  914   & 14     & 1238   &  13    & 0      & AA     & N338AA &   1    & JFK    & LAX    & 359    & 2475   &  9     & 14    \\\\\n",
       "\t 2014   & 1      & 1      & 1157   & -3     & 1523   &  13    & 0      & AA     & N335AA &   3    & JFK    & LAX    & 363    & 2475   & 11     & 57    \\\\\n",
       "\t 2014   & 1      & 1      & 1902   &  2     & 2224   &   9    & 0      & AA     & N327AA &  21    & JFK    & LAX    & 351    & 2475   & 19     &  2    \\\\\n",
       "\t 2014   & 1      & 1      &  722   & -8     & 1014   & -26    & 0      & AA     & N3EHAA &  29    & LGA    & PBI    & 157    & 1035   &  7     & 22    \\\\\n",
       "\t 2014   & 1      & 1      & 1347   &  2     & 1706   &   1    & 0      & AA     & N319AA & 117    & JFK    & LAX    & 350    & 2475   & 13     & 47    \\\\\n",
       "\t 2014   & 1      & 1      & 1824   &  4     & 2145   &   0    & 0      & AA     & N3DEAA & 119    & EWR    & LAX    & 339    & 2454   & 18     & 24    \\\\\n",
       "\\end{tabular}\n"
      ],
      "text/markdown": [
       "\n",
       "year | month | day | dep_time | dep_delay | arr_time | arr_delay | cancelled | carrier | tailnum | flight | origin | dest | air_time | distance | hour | min | \n",
       "|---|---|---|---|---|---|\n",
       "| 2014   | 1      | 1      |  914   | 14     | 1238   |  13    | 0      | AA     | N338AA |   1    | JFK    | LAX    | 359    | 2475   |  9     | 14     | \n",
       "| 2014   | 1      | 1      | 1157   | -3     | 1523   |  13    | 0      | AA     | N335AA |   3    | JFK    | LAX    | 363    | 2475   | 11     | 57     | \n",
       "| 2014   | 1      | 1      | 1902   |  2     | 2224   |   9    | 0      | AA     | N327AA |  21    | JFK    | LAX    | 351    | 2475   | 19     |  2     | \n",
       "| 2014   | 1      | 1      |  722   | -8     | 1014   | -26    | 0      | AA     | N3EHAA |  29    | LGA    | PBI    | 157    | 1035   |  7     | 22     | \n",
       "| 2014   | 1      | 1      | 1347   |  2     | 1706   |   1    | 0      | AA     | N319AA | 117    | JFK    | LAX    | 350    | 2475   | 13     | 47     | \n",
       "| 2014   | 1      | 1      | 1824   |  4     | 2145   |   0    | 0      | AA     | N3DEAA | 119    | EWR    | LAX    | 339    | 2454   | 18     | 24     | \n",
       "\n",
       "\n"
      ],
      "text/plain": [
       "  year month day dep_time dep_delay arr_time arr_delay cancelled carrier\n",
       "1 2014 1     1    914     14        1238      13       0         AA     \n",
       "2 2014 1     1   1157     -3        1523      13       0         AA     \n",
       "3 2014 1     1   1902      2        2224       9       0         AA     \n",
       "4 2014 1     1    722     -8        1014     -26       0         AA     \n",
       "5 2014 1     1   1347      2        1706       1       0         AA     \n",
       "6 2014 1     1   1824      4        2145       0       0         AA     \n",
       "  tailnum flight origin dest air_time distance hour min\n",
       "1 N338AA    1    JFK    LAX  359      2475      9   14 \n",
       "2 N335AA    3    JFK    LAX  363      2475     11   57 \n",
       "3 N327AA   21    JFK    LAX  351      2475     19    2 \n",
       "4 N3EHAA   29    LGA    PBI  157      1035      7   22 \n",
       "5 N319AA  117    JFK    LAX  350      2475     13   47 \n",
       "6 N3DEAA  119    EWR    LAX  339      2454     18   24 "
      ]
     },
     "metadata": {},
     "output_type": "display_data"
    }
   ],
   "source": [
    "head(flights)"
   ]
  },
  {
   "cell_type": "code",
   "execution_count": 5,
   "metadata": {},
   "outputs": [
    {
     "data": {
      "text/html": [
       "<ol class=list-inline>\n",
       "\t<li>253316</li>\n",
       "\t<li>17</li>\n",
       "</ol>\n"
      ],
      "text/latex": [
       "\\begin{enumerate*}\n",
       "\\item 253316\n",
       "\\item 17\n",
       "\\end{enumerate*}\n"
      ],
      "text/markdown": [
       "1. 253316\n",
       "2. 17\n",
       "\n",
       "\n"
      ],
      "text/plain": [
       "[1] 253316     17"
      ]
     },
     "metadata": {},
     "output_type": "display_data"
    }
   ],
   "source": [
    "dim(flights)"
   ]
  },
  {
   "cell_type": "code",
   "execution_count": 6,
   "metadata": {},
   "outputs": [
    {
     "data": {
      "text/html": [
       "<ol class=list-inline>\n",
       "\t<li>'data.table'</li>\n",
       "\t<li>'data.frame'</li>\n",
       "</ol>\n"
      ],
      "text/latex": [
       "\\begin{enumerate*}\n",
       "\\item 'data.table'\n",
       "\\item 'data.frame'\n",
       "\\end{enumerate*}\n"
      ],
      "text/markdown": [
       "1. 'data.table'\n",
       "2. 'data.frame'\n",
       "\n",
       "\n"
      ],
      "text/plain": [
       "[1] \"data.table\" \"data.frame\""
      ]
     },
     "metadata": {},
     "output_type": "display_data"
    }
   ],
   "source": [
    "class(flights)"
   ]
  },
  {
   "cell_type": "code",
   "execution_count": 10,
   "metadata": {},
   "outputs": [],
   "source": [
    "DT = data.table(ID = c(\"b\",\"b\",\"b\",\"a\",\"a\",\"c\"), a = 1:6, b = 7:12, c = 13:18)"
   ]
  },
  {
   "cell_type": "code",
   "execution_count": 8,
   "metadata": {},
   "outputs": [
    {
     "data": {
      "text/html": [
       "<table>\n",
       "<thead><tr><th scope=col>ID</th><th scope=col>a</th><th scope=col>b</th><th scope=col>c</th></tr></thead>\n",
       "<tbody>\n",
       "\t<tr><td>b </td><td>1 </td><td> 7</td><td>13</td></tr>\n",
       "\t<tr><td>b </td><td>2 </td><td> 8</td><td>14</td></tr>\n",
       "\t<tr><td>b </td><td>3 </td><td> 9</td><td>15</td></tr>\n",
       "\t<tr><td>a </td><td>4 </td><td>10</td><td>16</td></tr>\n",
       "\t<tr><td>a </td><td>5 </td><td>11</td><td>17</td></tr>\n",
       "\t<tr><td>c </td><td>6 </td><td>12</td><td>18</td></tr>\n",
       "</tbody>\n",
       "</table>\n"
      ],
      "text/latex": [
       "\\begin{tabular}{r|llll}\n",
       " ID & a & b & c\\\\\n",
       "\\hline\n",
       "\t b  & 1  &  7 & 13\\\\\n",
       "\t b  & 2  &  8 & 14\\\\\n",
       "\t b  & 3  &  9 & 15\\\\\n",
       "\t a  & 4  & 10 & 16\\\\\n",
       "\t a  & 5  & 11 & 17\\\\\n",
       "\t c  & 6  & 12 & 18\\\\\n",
       "\\end{tabular}\n"
      ],
      "text/markdown": [
       "\n",
       "ID | a | b | c | \n",
       "|---|---|---|---|---|---|\n",
       "| b  | 1  |  7 | 13 | \n",
       "| b  | 2  |  8 | 14 | \n",
       "| b  | 3  |  9 | 15 | \n",
       "| a  | 4  | 10 | 16 | \n",
       "| a  | 5  | 11 | 17 | \n",
       "| c  | 6  | 12 | 18 | \n",
       "\n",
       "\n"
      ],
      "text/plain": [
       "  ID a b  c \n",
       "1 b  1  7 13\n",
       "2 b  2  8 14\n",
       "3 b  3  9 15\n",
       "4 a  4 10 16\n",
       "5 a  5 11 17\n",
       "6 c  6 12 18"
      ]
     },
     "metadata": {},
     "output_type": "display_data"
    }
   ],
   "source": [
    "DT"
   ]
  },
  {
   "cell_type": "code",
   "execution_count": 9,
   "metadata": {},
   "outputs": [
    {
     "data": {
      "text/html": [
       "'character'"
      ],
      "text/latex": [
       "'character'"
      ],
      "text/markdown": [
       "'character'"
      ],
      "text/plain": [
       "[1] \"character\""
      ]
     },
     "metadata": {},
     "output_type": "display_data"
    }
   ],
   "source": [
    "DT[,class(ID)]"
   ]
  },
  {
   "cell_type": "code",
   "execution_count": 10,
   "metadata": {},
   "outputs": [
    {
     "data": {
      "text/html": [
       "'character'"
      ],
      "text/latex": [
       "'character'"
      ],
      "text/markdown": [
       "'character'"
      ],
      "text/plain": [
       "[1] \"character\""
      ]
     },
     "metadata": {},
     "output_type": "display_data"
    }
   ],
   "source": [
    "class(DT$ID)"
   ]
  },
  {
   "cell_type": "code",
   "execution_count": 12,
   "metadata": {},
   "outputs": [
    {
     "data": {
      "text/html": [
       "<table>\n",
       "<thead><tr><th scope=col>year</th><th scope=col>month</th><th scope=col>day</th><th scope=col>dep_time</th><th scope=col>dep_delay</th><th scope=col>arr_time</th><th scope=col>arr_delay</th><th scope=col>cancelled</th><th scope=col>carrier</th><th scope=col>tailnum</th><th scope=col>flight</th><th scope=col>origin</th><th scope=col>dest</th><th scope=col>air_time</th><th scope=col>distance</th><th scope=col>hour</th><th scope=col>min</th></tr></thead>\n",
       "<tbody>\n",
       "\t<tr><td>2014  </td><td>6     </td><td>1     </td><td> 851  </td><td> -9   </td><td>1205  </td><td> -5   </td><td>0     </td><td>AA    </td><td>N787AA</td><td>  1   </td><td>JFK   </td><td>LAX   </td><td>324   </td><td>2475  </td><td> 8    </td><td>51    </td></tr>\n",
       "\t<tr><td>2014  </td><td>6     </td><td>1     </td><td>1220  </td><td>-10   </td><td>1522  </td><td>-13   </td><td>0     </td><td>AA    </td><td>N795AA</td><td>  3   </td><td>JFK   </td><td>LAX   </td><td>329   </td><td>2475  </td><td>12    </td><td>20    </td></tr>\n",
       "\t<tr><td>2014  </td><td>6     </td><td>1     </td><td> 718  </td><td> 18   </td><td>1014  </td><td> -1   </td><td>0     </td><td>AA    </td><td>N784AA</td><td>  9   </td><td>JFK   </td><td>LAX   </td><td>326   </td><td>2475  </td><td> 7    </td><td>18    </td></tr>\n",
       "\t<tr><td>2014  </td><td>6     </td><td>1     </td><td>1024  </td><td> -6   </td><td>1314  </td><td>-16   </td><td>0     </td><td>AA    </td><td>N791AA</td><td> 19   </td><td>JFK   </td><td>LAX   </td><td>320   </td><td>2475  </td><td>10    </td><td>24    </td></tr>\n",
       "\t<tr><td>2014  </td><td>6     </td><td>1     </td><td>1841  </td><td> -4   </td><td>2125  </td><td>-45   </td><td>0     </td><td>AA    </td><td>N790AA</td><td> 21   </td><td>JFK   </td><td>LAX   </td><td>326   </td><td>2475  </td><td>18    </td><td>41    </td></tr>\n",
       "\t<tr><td>2014  </td><td>6     </td><td>1     </td><td>1454  </td><td> -6   </td><td>1757  </td><td>-23   </td><td>0     </td><td>AA    </td><td>N785AA</td><td>117   </td><td>JFK   </td><td>LAX   </td><td>329   </td><td>2475  </td><td>14    </td><td>54    </td></tr>\n",
       "</tbody>\n",
       "</table>\n"
      ],
      "text/latex": [
       "\\begin{tabular}{r|lllllllllllllllll}\n",
       " year & month & day & dep\\_time & dep\\_delay & arr\\_time & arr\\_delay & cancelled & carrier & tailnum & flight & origin & dest & air\\_time & distance & hour & min\\\\\n",
       "\\hline\n",
       "\t 2014   & 6      & 1      &  851   &  -9    & 1205   &  -5    & 0      & AA     & N787AA &   1    & JFK    & LAX    & 324    & 2475   &  8     & 51    \\\\\n",
       "\t 2014   & 6      & 1      & 1220   & -10    & 1522   & -13    & 0      & AA     & N795AA &   3    & JFK    & LAX    & 329    & 2475   & 12     & 20    \\\\\n",
       "\t 2014   & 6      & 1      &  718   &  18    & 1014   &  -1    & 0      & AA     & N784AA &   9    & JFK    & LAX    & 326    & 2475   &  7     & 18    \\\\\n",
       "\t 2014   & 6      & 1      & 1024   &  -6    & 1314   & -16    & 0      & AA     & N791AA &  19    & JFK    & LAX    & 320    & 2475   & 10     & 24    \\\\\n",
       "\t 2014   & 6      & 1      & 1841   &  -4    & 2125   & -45    & 0      & AA     & N790AA &  21    & JFK    & LAX    & 326    & 2475   & 18     & 41    \\\\\n",
       "\t 2014   & 6      & 1      & 1454   &  -6    & 1757   & -23    & 0      & AA     & N785AA & 117    & JFK    & LAX    & 329    & 2475   & 14     & 54    \\\\\n",
       "\\end{tabular}\n"
      ],
      "text/markdown": [
       "\n",
       "year | month | day | dep_time | dep_delay | arr_time | arr_delay | cancelled | carrier | tailnum | flight | origin | dest | air_time | distance | hour | min | \n",
       "|---|---|---|---|---|---|\n",
       "| 2014   | 6      | 1      |  851   |  -9    | 1205   |  -5    | 0      | AA     | N787AA |   1    | JFK    | LAX    | 324    | 2475   |  8     | 51     | \n",
       "| 2014   | 6      | 1      | 1220   | -10    | 1522   | -13    | 0      | AA     | N795AA |   3    | JFK    | LAX    | 329    | 2475   | 12     | 20     | \n",
       "| 2014   | 6      | 1      |  718   |  18    | 1014   |  -1    | 0      | AA     | N784AA |   9    | JFK    | LAX    | 326    | 2475   |  7     | 18     | \n",
       "| 2014   | 6      | 1      | 1024   |  -6    | 1314   | -16    | 0      | AA     | N791AA |  19    | JFK    | LAX    | 320    | 2475   | 10     | 24     | \n",
       "| 2014   | 6      | 1      | 1841   |  -4    | 2125   | -45    | 0      | AA     | N790AA |  21    | JFK    | LAX    | 326    | 2475   | 18     | 41     | \n",
       "| 2014   | 6      | 1      | 1454   |  -6    | 1757   | -23    | 0      | AA     | N785AA | 117    | JFK    | LAX    | 329    | 2475   | 14     | 54     | \n",
       "\n",
       "\n"
      ],
      "text/plain": [
       "  year month day dep_time dep_delay arr_time arr_delay cancelled carrier\n",
       "1 2014 6     1    851      -9       1205      -5       0         AA     \n",
       "2 2014 6     1   1220     -10       1522     -13       0         AA     \n",
       "3 2014 6     1    718      18       1014      -1       0         AA     \n",
       "4 2014 6     1   1024      -6       1314     -16       0         AA     \n",
       "5 2014 6     1   1841      -4       2125     -45       0         AA     \n",
       "6 2014 6     1   1454      -6       1757     -23       0         AA     \n",
       "  tailnum flight origin dest air_time distance hour min\n",
       "1 N787AA    1    JFK    LAX  324      2475      8   51 \n",
       "2 N795AA    3    JFK    LAX  329      2475     12   20 \n",
       "3 N784AA    9    JFK    LAX  326      2475      7   18 \n",
       "4 N791AA   19    JFK    LAX  320      2475     10   24 \n",
       "5 N790AA   21    JFK    LAX  326      2475     18   41 \n",
       "6 N785AA  117    JFK    LAX  329      2475     14   54 "
      ]
     },
     "metadata": {},
     "output_type": "display_data"
    }
   ],
   "source": [
    "ans <- flights[origin == \"JFK\" & month == 6L]\n",
    "head(ans)"
   ]
  },
  {
   "cell_type": "markdown",
   "metadata": {},
   "source": [
    "Exclude columns"
   ]
  },
  {
   "cell_type": "code",
   "execution_count": 4,
   "metadata": {},
   "outputs": [
    {
     "data": {
      "text/html": [
       "<table>\n",
       "<thead><tr><th scope=col>year</th><th scope=col>month</th><th scope=col>day</th><th scope=col>dep_time</th><th scope=col>arr_time</th><th scope=col>cancelled</th><th scope=col>carrier</th><th scope=col>tailnum</th><th scope=col>flight</th><th scope=col>origin</th><th scope=col>dest</th><th scope=col>air_time</th><th scope=col>distance</th><th scope=col>hour</th><th scope=col>min</th></tr></thead>\n",
       "<tbody>\n",
       "\t<tr><td>2014  </td><td>1     </td><td>1     </td><td> 914  </td><td>1238  </td><td>0     </td><td>AA    </td><td>N338AA</td><td>  1   </td><td>JFK   </td><td>LAX   </td><td>359   </td><td>2475  </td><td> 9    </td><td>14    </td></tr>\n",
       "\t<tr><td>2014  </td><td>1     </td><td>1     </td><td>1157  </td><td>1523  </td><td>0     </td><td>AA    </td><td>N335AA</td><td>  3   </td><td>JFK   </td><td>LAX   </td><td>363   </td><td>2475  </td><td>11    </td><td>57    </td></tr>\n",
       "\t<tr><td>2014  </td><td>1     </td><td>1     </td><td>1902  </td><td>2224  </td><td>0     </td><td>AA    </td><td>N327AA</td><td> 21   </td><td>JFK   </td><td>LAX   </td><td>351   </td><td>2475  </td><td>19    </td><td> 2    </td></tr>\n",
       "\t<tr><td>2014  </td><td>1     </td><td>1     </td><td> 722  </td><td>1014  </td><td>0     </td><td>AA    </td><td>N3EHAA</td><td> 29   </td><td>LGA   </td><td>PBI   </td><td>157   </td><td>1035  </td><td> 7    </td><td>22    </td></tr>\n",
       "\t<tr><td>2014  </td><td>1     </td><td>1     </td><td>1347  </td><td>1706  </td><td>0     </td><td>AA    </td><td>N319AA</td><td>117   </td><td>JFK   </td><td>LAX   </td><td>350   </td><td>2475  </td><td>13    </td><td>47    </td></tr>\n",
       "\t<tr><td>2014  </td><td>1     </td><td>1     </td><td>1824  </td><td>2145  </td><td>0     </td><td>AA    </td><td>N3DEAA</td><td>119   </td><td>EWR   </td><td>LAX   </td><td>339   </td><td>2454  </td><td>18    </td><td>24    </td></tr>\n",
       "</tbody>\n",
       "</table>\n"
      ],
      "text/latex": [
       "\\begin{tabular}{r|lllllllllllllll}\n",
       " year & month & day & dep\\_time & arr\\_time & cancelled & carrier & tailnum & flight & origin & dest & air\\_time & distance & hour & min\\\\\n",
       "\\hline\n",
       "\t 2014   & 1      & 1      &  914   & 1238   & 0      & AA     & N338AA &   1    & JFK    & LAX    & 359    & 2475   &  9     & 14    \\\\\n",
       "\t 2014   & 1      & 1      & 1157   & 1523   & 0      & AA     & N335AA &   3    & JFK    & LAX    & 363    & 2475   & 11     & 57    \\\\\n",
       "\t 2014   & 1      & 1      & 1902   & 2224   & 0      & AA     & N327AA &  21    & JFK    & LAX    & 351    & 2475   & 19     &  2    \\\\\n",
       "\t 2014   & 1      & 1      &  722   & 1014   & 0      & AA     & N3EHAA &  29    & LGA    & PBI    & 157    & 1035   &  7     & 22    \\\\\n",
       "\t 2014   & 1      & 1      & 1347   & 1706   & 0      & AA     & N319AA & 117    & JFK    & LAX    & 350    & 2475   & 13     & 47    \\\\\n",
       "\t 2014   & 1      & 1      & 1824   & 2145   & 0      & AA     & N3DEAA & 119    & EWR    & LAX    & 339    & 2454   & 18     & 24    \\\\\n",
       "\\end{tabular}\n"
      ],
      "text/markdown": [
       "\n",
       "year | month | day | dep_time | arr_time | cancelled | carrier | tailnum | flight | origin | dest | air_time | distance | hour | min | \n",
       "|---|---|---|---|---|---|\n",
       "| 2014   | 1      | 1      |  914   | 1238   | 0      | AA     | N338AA |   1    | JFK    | LAX    | 359    | 2475   |  9     | 14     | \n",
       "| 2014   | 1      | 1      | 1157   | 1523   | 0      | AA     | N335AA |   3    | JFK    | LAX    | 363    | 2475   | 11     | 57     | \n",
       "| 2014   | 1      | 1      | 1902   | 2224   | 0      | AA     | N327AA |  21    | JFK    | LAX    | 351    | 2475   | 19     |  2     | \n",
       "| 2014   | 1      | 1      |  722   | 1014   | 0      | AA     | N3EHAA |  29    | LGA    | PBI    | 157    | 1035   |  7     | 22     | \n",
       "| 2014   | 1      | 1      | 1347   | 1706   | 0      | AA     | N319AA | 117    | JFK    | LAX    | 350    | 2475   | 13     | 47     | \n",
       "| 2014   | 1      | 1      | 1824   | 2145   | 0      | AA     | N3DEAA | 119    | EWR    | LAX    | 339    | 2454   | 18     | 24     | \n",
       "\n",
       "\n"
      ],
      "text/plain": [
       "  year month day dep_time arr_time cancelled carrier tailnum flight origin dest\n",
       "1 2014 1     1    914     1238     0         AA      N338AA    1    JFK    LAX \n",
       "2 2014 1     1   1157     1523     0         AA      N335AA    3    JFK    LAX \n",
       "3 2014 1     1   1902     2224     0         AA      N327AA   21    JFK    LAX \n",
       "4 2014 1     1    722     1014     0         AA      N3EHAA   29    LGA    PBI \n",
       "5 2014 1     1   1347     1706     0         AA      N319AA  117    JFK    LAX \n",
       "6 2014 1     1   1824     2145     0         AA      N3DEAA  119    EWR    LAX \n",
       "  air_time distance hour min\n",
       "1 359      2475      9   14 \n",
       "2 363      2475     11   57 \n",
       "3 351      2475     19    2 \n",
       "4 157      1035      7   22 \n",
       "5 350      2475     13   47 \n",
       "6 339      2454     18   24 "
      ]
     },
     "metadata": {},
     "output_type": "display_data"
    }
   ],
   "source": [
    "ans <- flights[, !c(\"arr_delay\", \"dep_delay\"), with = FALSE]\n",
    "head(ans)"
   ]
  },
  {
   "cell_type": "code",
   "execution_count": 5,
   "metadata": {},
   "outputs": [
    {
     "data": {
      "text/html": [
       "<table>\n",
       "<thead><tr><th scope=col>year</th><th scope=col>month</th><th scope=col>day</th><th scope=col>dep_time</th><th scope=col>arr_time</th><th scope=col>cancelled</th><th scope=col>carrier</th><th scope=col>tailnum</th><th scope=col>flight</th><th scope=col>origin</th><th scope=col>dest</th><th scope=col>air_time</th><th scope=col>distance</th><th scope=col>hour</th><th scope=col>min</th></tr></thead>\n",
       "<tbody>\n",
       "\t<tr><td>2014  </td><td>1     </td><td>1     </td><td> 914  </td><td>1238  </td><td>0     </td><td>AA    </td><td>N338AA</td><td>  1   </td><td>JFK   </td><td>LAX   </td><td>359   </td><td>2475  </td><td> 9    </td><td>14    </td></tr>\n",
       "\t<tr><td>2014  </td><td>1     </td><td>1     </td><td>1157  </td><td>1523  </td><td>0     </td><td>AA    </td><td>N335AA</td><td>  3   </td><td>JFK   </td><td>LAX   </td><td>363   </td><td>2475  </td><td>11    </td><td>57    </td></tr>\n",
       "\t<tr><td>2014  </td><td>1     </td><td>1     </td><td>1902  </td><td>2224  </td><td>0     </td><td>AA    </td><td>N327AA</td><td> 21   </td><td>JFK   </td><td>LAX   </td><td>351   </td><td>2475  </td><td>19    </td><td> 2    </td></tr>\n",
       "\t<tr><td>2014  </td><td>1     </td><td>1     </td><td> 722  </td><td>1014  </td><td>0     </td><td>AA    </td><td>N3EHAA</td><td> 29   </td><td>LGA   </td><td>PBI   </td><td>157   </td><td>1035  </td><td> 7    </td><td>22    </td></tr>\n",
       "\t<tr><td>2014  </td><td>1     </td><td>1     </td><td>1347  </td><td>1706  </td><td>0     </td><td>AA    </td><td>N319AA</td><td>117   </td><td>JFK   </td><td>LAX   </td><td>350   </td><td>2475  </td><td>13    </td><td>47    </td></tr>\n",
       "\t<tr><td>2014  </td><td>1     </td><td>1     </td><td>1824  </td><td>2145  </td><td>0     </td><td>AA    </td><td>N3DEAA</td><td>119   </td><td>EWR   </td><td>LAX   </td><td>339   </td><td>2454  </td><td>18    </td><td>24    </td></tr>\n",
       "</tbody>\n",
       "</table>\n"
      ],
      "text/latex": [
       "\\begin{tabular}{r|lllllllllllllll}\n",
       " year & month & day & dep\\_time & arr\\_time & cancelled & carrier & tailnum & flight & origin & dest & air\\_time & distance & hour & min\\\\\n",
       "\\hline\n",
       "\t 2014   & 1      & 1      &  914   & 1238   & 0      & AA     & N338AA &   1    & JFK    & LAX    & 359    & 2475   &  9     & 14    \\\\\n",
       "\t 2014   & 1      & 1      & 1157   & 1523   & 0      & AA     & N335AA &   3    & JFK    & LAX    & 363    & 2475   & 11     & 57    \\\\\n",
       "\t 2014   & 1      & 1      & 1902   & 2224   & 0      & AA     & N327AA &  21    & JFK    & LAX    & 351    & 2475   & 19     &  2    \\\\\n",
       "\t 2014   & 1      & 1      &  722   & 1014   & 0      & AA     & N3EHAA &  29    & LGA    & PBI    & 157    & 1035   &  7     & 22    \\\\\n",
       "\t 2014   & 1      & 1      & 1347   & 1706   & 0      & AA     & N319AA & 117    & JFK    & LAX    & 350    & 2475   & 13     & 47    \\\\\n",
       "\t 2014   & 1      & 1      & 1824   & 2145   & 0      & AA     & N3DEAA & 119    & EWR    & LAX    & 339    & 2454   & 18     & 24    \\\\\n",
       "\\end{tabular}\n"
      ],
      "text/markdown": [
       "\n",
       "year | month | day | dep_time | arr_time | cancelled | carrier | tailnum | flight | origin | dest | air_time | distance | hour | min | \n",
       "|---|---|---|---|---|---|\n",
       "| 2014   | 1      | 1      |  914   | 1238   | 0      | AA     | N338AA |   1    | JFK    | LAX    | 359    | 2475   |  9     | 14     | \n",
       "| 2014   | 1      | 1      | 1157   | 1523   | 0      | AA     | N335AA |   3    | JFK    | LAX    | 363    | 2475   | 11     | 57     | \n",
       "| 2014   | 1      | 1      | 1902   | 2224   | 0      | AA     | N327AA |  21    | JFK    | LAX    | 351    | 2475   | 19     |  2     | \n",
       "| 2014   | 1      | 1      |  722   | 1014   | 0      | AA     | N3EHAA |  29    | LGA    | PBI    | 157    | 1035   |  7     | 22     | \n",
       "| 2014   | 1      | 1      | 1347   | 1706   | 0      | AA     | N319AA | 117    | JFK    | LAX    | 350    | 2475   | 13     | 47     | \n",
       "| 2014   | 1      | 1      | 1824   | 2145   | 0      | AA     | N3DEAA | 119    | EWR    | LAX    | 339    | 2454   | 18     | 24     | \n",
       "\n",
       "\n"
      ],
      "text/plain": [
       "  year month day dep_time arr_time cancelled carrier tailnum flight origin dest\n",
       "1 2014 1     1    914     1238     0         AA      N338AA    1    JFK    LAX \n",
       "2 2014 1     1   1157     1523     0         AA      N335AA    3    JFK    LAX \n",
       "3 2014 1     1   1902     2224     0         AA      N327AA   21    JFK    LAX \n",
       "4 2014 1     1    722     1014     0         AA      N3EHAA   29    LGA    PBI \n",
       "5 2014 1     1   1347     1706     0         AA      N319AA  117    JFK    LAX \n",
       "6 2014 1     1   1824     2145     0         AA      N3DEAA  119    EWR    LAX \n",
       "  air_time distance hour min\n",
       "1 359      2475      9   14 \n",
       "2 363      2475     11   57 \n",
       "3 351      2475     19    2 \n",
       "4 157      1035      7   22 \n",
       "5 350      2475     13   47 \n",
       "6 339      2454     18   24 "
      ]
     },
     "metadata": {},
     "output_type": "display_data"
    }
   ],
   "source": [
    "ans <- flights[, -c(\"arr_delay\", \"dep_delay\"), with = FALSE]\n",
    "head(ans)"
   ]
  },
  {
   "cell_type": "code",
   "execution_count": 8,
   "metadata": {},
   "outputs": [
    {
     "data": {
      "text/html": [
       "<table>\n",
       "<thead><tr><th scope=col>dep_time</th><th scope=col>dep_delay</th><th scope=col>arr_time</th><th scope=col>arr_delay</th><th scope=col>cancelled</th><th scope=col>carrier</th><th scope=col>tailnum</th><th scope=col>flight</th><th scope=col>origin</th><th scope=col>dest</th><th scope=col>air_time</th><th scope=col>distance</th><th scope=col>hour</th><th scope=col>min</th></tr></thead>\n",
       "<tbody>\n",
       "\t<tr><td> 914  </td><td>14    </td><td>1238  </td><td> 13   </td><td>0     </td><td>AA    </td><td>N338AA</td><td>  1   </td><td>JFK   </td><td>LAX   </td><td>359   </td><td>2475  </td><td> 9    </td><td>14    </td></tr>\n",
       "\t<tr><td>1157  </td><td>-3    </td><td>1523  </td><td> 13   </td><td>0     </td><td>AA    </td><td>N335AA</td><td>  3   </td><td>JFK   </td><td>LAX   </td><td>363   </td><td>2475  </td><td>11    </td><td>57    </td></tr>\n",
       "\t<tr><td>1902  </td><td> 2    </td><td>2224  </td><td>  9   </td><td>0     </td><td>AA    </td><td>N327AA</td><td> 21   </td><td>JFK   </td><td>LAX   </td><td>351   </td><td>2475  </td><td>19    </td><td> 2    </td></tr>\n",
       "\t<tr><td> 722  </td><td>-8    </td><td>1014  </td><td>-26   </td><td>0     </td><td>AA    </td><td>N3EHAA</td><td> 29   </td><td>LGA   </td><td>PBI   </td><td>157   </td><td>1035  </td><td> 7    </td><td>22    </td></tr>\n",
       "\t<tr><td>1347  </td><td> 2    </td><td>1706  </td><td>  1   </td><td>0     </td><td>AA    </td><td>N319AA</td><td>117   </td><td>JFK   </td><td>LAX   </td><td>350   </td><td>2475  </td><td>13    </td><td>47    </td></tr>\n",
       "\t<tr><td>1824  </td><td> 4    </td><td>2145  </td><td>  0   </td><td>0     </td><td>AA    </td><td>N3DEAA</td><td>119   </td><td>EWR   </td><td>LAX   </td><td>339   </td><td>2454  </td><td>18    </td><td>24    </td></tr>\n",
       "</tbody>\n",
       "</table>\n"
      ],
      "text/latex": [
       "\\begin{tabular}{r|llllllllllllll}\n",
       " dep\\_time & dep\\_delay & arr\\_time & arr\\_delay & cancelled & carrier & tailnum & flight & origin & dest & air\\_time & distance & hour & min\\\\\n",
       "\\hline\n",
       "\t  914   & 14     & 1238   &  13    & 0      & AA     & N338AA &   1    & JFK    & LAX    & 359    & 2475   &  9     & 14    \\\\\n",
       "\t 1157   & -3     & 1523   &  13    & 0      & AA     & N335AA &   3    & JFK    & LAX    & 363    & 2475   & 11     & 57    \\\\\n",
       "\t 1902   &  2     & 2224   &   9    & 0      & AA     & N327AA &  21    & JFK    & LAX    & 351    & 2475   & 19     &  2    \\\\\n",
       "\t  722   & -8     & 1014   & -26    & 0      & AA     & N3EHAA &  29    & LGA    & PBI    & 157    & 1035   &  7     & 22    \\\\\n",
       "\t 1347   &  2     & 1706   &   1    & 0      & AA     & N319AA & 117    & JFK    & LAX    & 350    & 2475   & 13     & 47    \\\\\n",
       "\t 1824   &  4     & 2145   &   0    & 0      & AA     & N3DEAA & 119    & EWR    & LAX    & 339    & 2454   & 18     & 24    \\\\\n",
       "\\end{tabular}\n"
      ],
      "text/markdown": [
       "\n",
       "dep_time | dep_delay | arr_time | arr_delay | cancelled | carrier | tailnum | flight | origin | dest | air_time | distance | hour | min | \n",
       "|---|---|---|---|---|---|\n",
       "|  914   | 14     | 1238   |  13    | 0      | AA     | N338AA |   1    | JFK    | LAX    | 359    | 2475   |  9     | 14     | \n",
       "| 1157   | -3     | 1523   |  13    | 0      | AA     | N335AA |   3    | JFK    | LAX    | 363    | 2475   | 11     | 57     | \n",
       "| 1902   |  2     | 2224   |   9    | 0      | AA     | N327AA |  21    | JFK    | LAX    | 351    | 2475   | 19     |  2     | \n",
       "|  722   | -8     | 1014   | -26    | 0      | AA     | N3EHAA |  29    | LGA    | PBI    | 157    | 1035   |  7     | 22     | \n",
       "| 1347   |  2     | 1706   |   1    | 0      | AA     | N319AA | 117    | JFK    | LAX    | 350    | 2475   | 13     | 47     | \n",
       "| 1824   |  4     | 2145   |   0    | 0      | AA     | N3DEAA | 119    | EWR    | LAX    | 339    | 2454   | 18     | 24     | \n",
       "\n",
       "\n"
      ],
      "text/plain": [
       "  dep_time dep_delay arr_time arr_delay cancelled carrier tailnum flight origin\n",
       "1  914     14        1238      13       0         AA      N338AA    1    JFK   \n",
       "2 1157     -3        1523      13       0         AA      N335AA    3    JFK   \n",
       "3 1902      2        2224       9       0         AA      N327AA   21    JFK   \n",
       "4  722     -8        1014     -26       0         AA      N3EHAA   29    LGA   \n",
       "5 1347      2        1706       1       0         AA      N319AA  117    JFK   \n",
       "6 1824      4        2145       0       0         AA      N3DEAA  119    EWR   \n",
       "  dest air_time distance hour min\n",
       "1 LAX  359      2475      9   14 \n",
       "2 LAX  363      2475     11   57 \n",
       "3 LAX  351      2475     19    2 \n",
       "4 PBI  157      1035      7   22 \n",
       "5 LAX  350      2475     13   47 \n",
       "6 LAX  339      2454     18   24 "
      ]
     },
     "metadata": {},
     "output_type": "display_data"
    },
    {
     "data": {
      "text/html": [
       "<table>\n",
       "<thead><tr><th scope=col>dep_time</th><th scope=col>dep_delay</th><th scope=col>arr_time</th><th scope=col>arr_delay</th><th scope=col>cancelled</th><th scope=col>carrier</th><th scope=col>tailnum</th><th scope=col>flight</th><th scope=col>origin</th><th scope=col>dest</th><th scope=col>air_time</th><th scope=col>distance</th><th scope=col>hour</th><th scope=col>min</th></tr></thead>\n",
       "<tbody>\n",
       "\t<tr><td> 914  </td><td>14    </td><td>1238  </td><td> 13   </td><td>0     </td><td>AA    </td><td>N338AA</td><td>  1   </td><td>JFK   </td><td>LAX   </td><td>359   </td><td>2475  </td><td> 9    </td><td>14    </td></tr>\n",
       "\t<tr><td>1157  </td><td>-3    </td><td>1523  </td><td> 13   </td><td>0     </td><td>AA    </td><td>N335AA</td><td>  3   </td><td>JFK   </td><td>LAX   </td><td>363   </td><td>2475  </td><td>11    </td><td>57    </td></tr>\n",
       "\t<tr><td>1902  </td><td> 2    </td><td>2224  </td><td>  9   </td><td>0     </td><td>AA    </td><td>N327AA</td><td> 21   </td><td>JFK   </td><td>LAX   </td><td>351   </td><td>2475  </td><td>19    </td><td> 2    </td></tr>\n",
       "\t<tr><td> 722  </td><td>-8    </td><td>1014  </td><td>-26   </td><td>0     </td><td>AA    </td><td>N3EHAA</td><td> 29   </td><td>LGA   </td><td>PBI   </td><td>157   </td><td>1035  </td><td> 7    </td><td>22    </td></tr>\n",
       "\t<tr><td>1347  </td><td> 2    </td><td>1706  </td><td>  1   </td><td>0     </td><td>AA    </td><td>N319AA</td><td>117   </td><td>JFK   </td><td>LAX   </td><td>350   </td><td>2475  </td><td>13    </td><td>47    </td></tr>\n",
       "\t<tr><td>1824  </td><td> 4    </td><td>2145  </td><td>  0   </td><td>0     </td><td>AA    </td><td>N3DEAA</td><td>119   </td><td>EWR   </td><td>LAX   </td><td>339   </td><td>2454  </td><td>18    </td><td>24    </td></tr>\n",
       "</tbody>\n",
       "</table>\n"
      ],
      "text/latex": [
       "\\begin{tabular}{r|llllllllllllll}\n",
       " dep\\_time & dep\\_delay & arr\\_time & arr\\_delay & cancelled & carrier & tailnum & flight & origin & dest & air\\_time & distance & hour & min\\\\\n",
       "\\hline\n",
       "\t  914   & 14     & 1238   &  13    & 0      & AA     & N338AA &   1    & JFK    & LAX    & 359    & 2475   &  9     & 14    \\\\\n",
       "\t 1157   & -3     & 1523   &  13    & 0      & AA     & N335AA &   3    & JFK    & LAX    & 363    & 2475   & 11     & 57    \\\\\n",
       "\t 1902   &  2     & 2224   &   9    & 0      & AA     & N327AA &  21    & JFK    & LAX    & 351    & 2475   & 19     &  2    \\\\\n",
       "\t  722   & -8     & 1014   & -26    & 0      & AA     & N3EHAA &  29    & LGA    & PBI    & 157    & 1035   &  7     & 22    \\\\\n",
       "\t 1347   &  2     & 1706   &   1    & 0      & AA     & N319AA & 117    & JFK    & LAX    & 350    & 2475   & 13     & 47    \\\\\n",
       "\t 1824   &  4     & 2145   &   0    & 0      & AA     & N3DEAA & 119    & EWR    & LAX    & 339    & 2454   & 18     & 24    \\\\\n",
       "\\end{tabular}\n"
      ],
      "text/markdown": [
       "\n",
       "dep_time | dep_delay | arr_time | arr_delay | cancelled | carrier | tailnum | flight | origin | dest | air_time | distance | hour | min | \n",
       "|---|---|---|---|---|---|\n",
       "|  914   | 14     | 1238   |  13    | 0      | AA     | N338AA |   1    | JFK    | LAX    | 359    | 2475   |  9     | 14     | \n",
       "| 1157   | -3     | 1523   |  13    | 0      | AA     | N335AA |   3    | JFK    | LAX    | 363    | 2475   | 11     | 57     | \n",
       "| 1902   |  2     | 2224   |   9    | 0      | AA     | N327AA |  21    | JFK    | LAX    | 351    | 2475   | 19     |  2     | \n",
       "|  722   | -8     | 1014   | -26    | 0      | AA     | N3EHAA |  29    | LGA    | PBI    | 157    | 1035   |  7     | 22     | \n",
       "| 1347   |  2     | 1706   |   1    | 0      | AA     | N319AA | 117    | JFK    | LAX    | 350    | 2475   | 13     | 47     | \n",
       "| 1824   |  4     | 2145   |   0    | 0      | AA     | N3DEAA | 119    | EWR    | LAX    | 339    | 2454   | 18     | 24     | \n",
       "\n",
       "\n"
      ],
      "text/plain": [
       "  dep_time dep_delay arr_time arr_delay cancelled carrier tailnum flight origin\n",
       "1  914     14        1238      13       0         AA      N338AA    1    JFK   \n",
       "2 1157     -3        1523      13       0         AA      N335AA    3    JFK   \n",
       "3 1902      2        2224       9       0         AA      N327AA   21    JFK   \n",
       "4  722     -8        1014     -26       0         AA      N3EHAA   29    LGA   \n",
       "5 1347      2        1706       1       0         AA      N319AA  117    JFK   \n",
       "6 1824      4        2145       0       0         AA      N3DEAA  119    EWR   \n",
       "  dest air_time distance hour min\n",
       "1 LAX  359      2475      9   14 \n",
       "2 LAX  363      2475     11   57 \n",
       "3 LAX  351      2475     19    2 \n",
       "4 PBI  157      1035      7   22 \n",
       "5 LAX  350      2475     13   47 \n",
       "6 LAX  339      2454     18   24 "
      ]
     },
     "metadata": {},
     "output_type": "display_data"
    }
   ],
   "source": [
    "ans <- flights[, -(year:day), with = FALSE]\n",
    "head(ans)\n",
    "ans <- flights[, !(year:day), with = FALSE]\n",
    "head(ans)"
   ]
  },
  {
   "cell_type": "code",
   "execution_count": 19,
   "metadata": {},
   "outputs": [
    {
     "data": {
      "text/html": [
       "<table>\n",
       "<thead><tr><th scope=col>origin</th><th scope=col>dest</th><th scope=col>month</th><th scope=col>arr_delay</th><th scope=col>dep_delay</th></tr></thead>\n",
       "<tbody>\n",
       "\t<tr><td>JFK        </td><td>LAX        </td><td>1          </td><td>  6.5903614</td><td>14.2289157 </td></tr>\n",
       "\t<tr><td>LGA        </td><td>PBI        </td><td>1          </td><td> -7.7586207</td><td> 0.3103448 </td></tr>\n",
       "\t<tr><td>EWR        </td><td>LAX        </td><td>1          </td><td>  1.3666667</td><td> 7.5000000 </td></tr>\n",
       "\t<tr><td>JFK        </td><td>MIA        </td><td>1          </td><td> 15.7206704</td><td>18.7430168 </td></tr>\n",
       "\t<tr><td>JFK        </td><td>SEA        </td><td>1          </td><td> 14.3571429</td><td>30.7500000 </td></tr>\n",
       "\t<tr><td>EWR        </td><td>MIA        </td><td>1          </td><td> 11.0112360</td><td>12.1235955 </td></tr>\n",
       "\t<tr><td>JFK        </td><td>SFO        </td><td>1          </td><td> 19.2522523</td><td>28.6396396 </td></tr>\n",
       "\t<tr><td>JFK        </td><td>BOS        </td><td>1          </td><td> 12.9196429</td><td>15.2142857 </td></tr>\n",
       "\t<tr><td>JFK        </td><td>ORD        </td><td>1          </td><td> 31.5862069</td><td>40.1724138 </td></tr>\n",
       "\t<tr><td>JFK        </td><td>IAH        </td><td>1          </td><td> 28.8571429</td><td>14.2857143 </td></tr>\n",
       "\t<tr><td>JFK        </td><td>AUS        </td><td>1          </td><td> 25.2000000</td><td>27.6000000 </td></tr>\n",
       "\t<tr><td>EWR        </td><td>DFW        </td><td>1          </td><td>  6.4276730</td><td>10.0125786 </td></tr>\n",
       "\t<tr><td>LGA        </td><td>ORD        </td><td>1          </td><td>  8.4402332</td><td>10.1195335 </td></tr>\n",
       "\t<tr><td>JFK        </td><td>STT        </td><td>1          </td><td> 18.9310345</td><td>21.3793103 </td></tr>\n",
       "\t<tr><td>JFK        </td><td>SJU        </td><td>1          </td><td> 18.9204545</td><td>20.2272727 </td></tr>\n",
       "\t<tr><td>LGA        </td><td>MIA        </td><td>1          </td><td>  6.1300000</td><td> 5.4175000 </td></tr>\n",
       "\t<tr><td>LGA        </td><td>DFW        </td><td>1          </td><td>  0.5295699</td><td> 7.7580645 </td></tr>\n",
       "\t<tr><td>JFK        </td><td>LAS        </td><td>1          </td><td> 17.6949153</td><td>19.1525424 </td></tr>\n",
       "\t<tr><td>JFK        </td><td>MCO        </td><td>1          </td><td> 10.5762712</td><td>13.8813559 </td></tr>\n",
       "\t<tr><td>JFK        </td><td>EGE        </td><td>1          </td><td> 23.1111111</td><td>32.5185185 </td></tr>\n",
       "\t<tr><td>JFK        </td><td>DFW        </td><td>1          </td><td>-11.9000000</td><td> 8.8000000 </td></tr>\n",
       "\t<tr><td>JFK        </td><td>SAN        </td><td>1          </td><td> 11.5555556</td><td>12.4814815 </td></tr>\n",
       "\t<tr><td>JFK        </td><td>LAX        </td><td>2          </td><td> 22.7520000</td><td>15.0800000 </td></tr>\n",
       "\t<tr><td>LGA        </td><td>PBI        </td><td>2          </td><td> -7.8653846</td><td> 2.4038462 </td></tr>\n",
       "\t<tr><td>JFK        </td><td>LAS        </td><td>2          </td><td> 22.2884615</td><td>11.8653846 </td></tr>\n",
       "\t<tr><td>JFK        </td><td>MIA        </td><td>2          </td><td> 10.4329268</td><td>20.1768293 </td></tr>\n",
       "\t<tr><td>JFK        </td><td>SFO        </td><td>2          </td><td> 35.4059406</td><td>28.7920792 </td></tr>\n",
       "\t<tr><td>JFK        </td><td>DFW        </td><td>2          </td><td> -2.8888889</td><td>12.0740741 </td></tr>\n",
       "\t<tr><td>JFK        </td><td>SAN        </td><td>2          </td><td> 31.0000000</td><td>18.3928571 </td></tr>\n",
       "\t<tr><td>JFK        </td><td>BOS        </td><td>2          </td><td> 11.1800000</td><td>11.7600000 </td></tr>\n",
       "\t<tr><td>⋮</td><td>⋮</td><td>⋮</td><td>⋮</td><td>⋮</td></tr>\n",
       "\t<tr><td>JFK        </td><td>SJU        </td><td> 9         </td><td>  1.6875000</td><td>11.3750000 </td></tr>\n",
       "\t<tr><td>LGA        </td><td>ORD        </td><td> 9         </td><td>  4.3311547</td><td> 3.7843137 </td></tr>\n",
       "\t<tr><td>EWR        </td><td>DFW        </td><td> 9         </td><td>  5.8650307</td><td>13.0552147 </td></tr>\n",
       "\t<tr><td>EWR        </td><td>MIA        </td><td> 9         </td><td> -0.9062500</td><td> 0.3593750 </td></tr>\n",
       "\t<tr><td>JFK        </td><td>DCA        </td><td> 9         </td><td>  5.1034483</td><td>-2.2413793 </td></tr>\n",
       "\t<tr><td>LGA        </td><td>DFW        </td><td> 9         </td><td> -8.7877238</td><td>-0.2557545 </td></tr>\n",
       "\t<tr><td>JFK        </td><td>MIA        </td><td> 9         </td><td> -2.5550239</td><td> 6.2775120 </td></tr>\n",
       "\t<tr><td>LGA        </td><td>MIA        </td><td> 9         </td><td> -8.5799257</td><td>-4.0408922 </td></tr>\n",
       "\t<tr><td>JFK        </td><td>MCO        </td><td> 9         </td><td>-10.0666667</td><td>-3.5333333 </td></tr>\n",
       "\t<tr><td>JFK        </td><td>AUS        </td><td> 9         </td><td> 16.2666667</td><td>14.3666667 </td></tr>\n",
       "\t<tr><td>EWR        </td><td>PHX        </td><td> 9         </td><td> -4.2333333</td><td>-1.6666667 </td></tr>\n",
       "\t<tr><td>JFK        </td><td>LAX        </td><td>10         </td><td> -0.9594937</td><td> 6.2151899 </td></tr>\n",
       "\t<tr><td>JFK        </td><td>SFO        </td><td>10         </td><td>  8.1633987</td><td> 7.6274510 </td></tr>\n",
       "\t<tr><td>JFK        </td><td>BOS        </td><td>10         </td><td> 11.5000000</td><td>10.2704918 </td></tr>\n",
       "\t<tr><td>JFK        </td><td>SAN        </td><td>10         </td><td> 16.2258065</td><td>12.4838710 </td></tr>\n",
       "\t<tr><td>JFK        </td><td>ORD        </td><td>10         </td><td> 23.0645161</td><td>17.6451613 </td></tr>\n",
       "\t<tr><td>JFK        </td><td>LAS        </td><td>10         </td><td> 18.2258065</td><td>14.5483871 </td></tr>\n",
       "\t<tr><td>JFK        </td><td>DFW        </td><td>10         </td><td>  2.2622951</td><td> 3.0491803 </td></tr>\n",
       "\t<tr><td>JFK        </td><td>SJU        </td><td>10         </td><td>  1.7419355</td><td>17.1290323 </td></tr>\n",
       "\t<tr><td>JFK        </td><td>SEA        </td><td>10         </td><td>  1.0322581</td><td> 4.9032258 </td></tr>\n",
       "\t<tr><td>LGA        </td><td>ORD        </td><td>10         </td><td> 15.4661191</td><td>12.9117043 </td></tr>\n",
       "\t<tr><td>EWR        </td><td>DFW        </td><td>10         </td><td> 18.8136646</td><td>18.8944099 </td></tr>\n",
       "\t<tr><td>JFK        </td><td>AUS        </td><td>10         </td><td>  3.2903226</td><td> 6.2903226 </td></tr>\n",
       "\t<tr><td>EWR        </td><td>MIA        </td><td>10         </td><td> -4.4754098</td><td>-3.7868852 </td></tr>\n",
       "\t<tr><td>LGA        </td><td>DFW        </td><td>10         </td><td>  3.5000000</td><td> 4.5527638 </td></tr>\n",
       "\t<tr><td>LGA        </td><td>MIA        </td><td>10         </td><td> -6.2517986</td><td>-1.4208633 </td></tr>\n",
       "\t<tr><td>JFK        </td><td>MIA        </td><td>10         </td><td> -1.8801843</td><td> 6.6774194 </td></tr>\n",
       "\t<tr><td>EWR        </td><td>PHX        </td><td>10         </td><td> -3.0322581</td><td>-4.2903226 </td></tr>\n",
       "\t<tr><td>JFK        </td><td>MCO        </td><td>10         </td><td>-10.0483871</td><td>-1.6129032 </td></tr>\n",
       "\t<tr><td>JFK        </td><td>DCA        </td><td>10         </td><td> 16.4838710</td><td>15.5161290 </td></tr>\n",
       "</tbody>\n",
       "</table>\n"
      ],
      "text/latex": [
       "\\begin{tabular}{r|lllll}\n",
       " origin & dest & month & arr\\_delay & dep\\_delay\\\\\n",
       "\\hline\n",
       "\t JFK         & LAX         & 1           &   6.5903614 & 14.2289157 \\\\\n",
       "\t LGA         & PBI         & 1           &  -7.7586207 &  0.3103448 \\\\\n",
       "\t EWR         & LAX         & 1           &   1.3666667 &  7.5000000 \\\\\n",
       "\t JFK         & MIA         & 1           &  15.7206704 & 18.7430168 \\\\\n",
       "\t JFK         & SEA         & 1           &  14.3571429 & 30.7500000 \\\\\n",
       "\t EWR         & MIA         & 1           &  11.0112360 & 12.1235955 \\\\\n",
       "\t JFK         & SFO         & 1           &  19.2522523 & 28.6396396 \\\\\n",
       "\t JFK         & BOS         & 1           &  12.9196429 & 15.2142857 \\\\\n",
       "\t JFK         & ORD         & 1           &  31.5862069 & 40.1724138 \\\\\n",
       "\t JFK         & IAH         & 1           &  28.8571429 & 14.2857143 \\\\\n",
       "\t JFK         & AUS         & 1           &  25.2000000 & 27.6000000 \\\\\n",
       "\t EWR         & DFW         & 1           &   6.4276730 & 10.0125786 \\\\\n",
       "\t LGA         & ORD         & 1           &   8.4402332 & 10.1195335 \\\\\n",
       "\t JFK         & STT         & 1           &  18.9310345 & 21.3793103 \\\\\n",
       "\t JFK         & SJU         & 1           &  18.9204545 & 20.2272727 \\\\\n",
       "\t LGA         & MIA         & 1           &   6.1300000 &  5.4175000 \\\\\n",
       "\t LGA         & DFW         & 1           &   0.5295699 &  7.7580645 \\\\\n",
       "\t JFK         & LAS         & 1           &  17.6949153 & 19.1525424 \\\\\n",
       "\t JFK         & MCO         & 1           &  10.5762712 & 13.8813559 \\\\\n",
       "\t JFK         & EGE         & 1           &  23.1111111 & 32.5185185 \\\\\n",
       "\t JFK         & DFW         & 1           & -11.9000000 &  8.8000000 \\\\\n",
       "\t JFK         & SAN         & 1           &  11.5555556 & 12.4814815 \\\\\n",
       "\t JFK         & LAX         & 2           &  22.7520000 & 15.0800000 \\\\\n",
       "\t LGA         & PBI         & 2           &  -7.8653846 &  2.4038462 \\\\\n",
       "\t JFK         & LAS         & 2           &  22.2884615 & 11.8653846 \\\\\n",
       "\t JFK         & MIA         & 2           &  10.4329268 & 20.1768293 \\\\\n",
       "\t JFK         & SFO         & 2           &  35.4059406 & 28.7920792 \\\\\n",
       "\t JFK         & DFW         & 2           &  -2.8888889 & 12.0740741 \\\\\n",
       "\t JFK         & SAN         & 2           &  31.0000000 & 18.3928571 \\\\\n",
       "\t JFK         & BOS         & 2           &  11.1800000 & 11.7600000 \\\\\n",
       "\t ⋮ & ⋮ & ⋮ & ⋮ & ⋮\\\\\n",
       "\t JFK         & SJU         &  9          &   1.6875000 & 11.3750000 \\\\\n",
       "\t LGA         & ORD         &  9          &   4.3311547 &  3.7843137 \\\\\n",
       "\t EWR         & DFW         &  9          &   5.8650307 & 13.0552147 \\\\\n",
       "\t EWR         & MIA         &  9          &  -0.9062500 &  0.3593750 \\\\\n",
       "\t JFK         & DCA         &  9          &   5.1034483 & -2.2413793 \\\\\n",
       "\t LGA         & DFW         &  9          &  -8.7877238 & -0.2557545 \\\\\n",
       "\t JFK         & MIA         &  9          &  -2.5550239 &  6.2775120 \\\\\n",
       "\t LGA         & MIA         &  9          &  -8.5799257 & -4.0408922 \\\\\n",
       "\t JFK         & MCO         &  9          & -10.0666667 & -3.5333333 \\\\\n",
       "\t JFK         & AUS         &  9          &  16.2666667 & 14.3666667 \\\\\n",
       "\t EWR         & PHX         &  9          &  -4.2333333 & -1.6666667 \\\\\n",
       "\t JFK         & LAX         & 10          &  -0.9594937 &  6.2151899 \\\\\n",
       "\t JFK         & SFO         & 10          &   8.1633987 &  7.6274510 \\\\\n",
       "\t JFK         & BOS         & 10          &  11.5000000 & 10.2704918 \\\\\n",
       "\t JFK         & SAN         & 10          &  16.2258065 & 12.4838710 \\\\\n",
       "\t JFK         & ORD         & 10          &  23.0645161 & 17.6451613 \\\\\n",
       "\t JFK         & LAS         & 10          &  18.2258065 & 14.5483871 \\\\\n",
       "\t JFK         & DFW         & 10          &   2.2622951 &  3.0491803 \\\\\n",
       "\t JFK         & SJU         & 10          &   1.7419355 & 17.1290323 \\\\\n",
       "\t JFK         & SEA         & 10          &   1.0322581 &  4.9032258 \\\\\n",
       "\t LGA         & ORD         & 10          &  15.4661191 & 12.9117043 \\\\\n",
       "\t EWR         & DFW         & 10          &  18.8136646 & 18.8944099 \\\\\n",
       "\t JFK         & AUS         & 10          &   3.2903226 &  6.2903226 \\\\\n",
       "\t EWR         & MIA         & 10          &  -4.4754098 & -3.7868852 \\\\\n",
       "\t LGA         & DFW         & 10          &   3.5000000 &  4.5527638 \\\\\n",
       "\t LGA         & MIA         & 10          &  -6.2517986 & -1.4208633 \\\\\n",
       "\t JFK         & MIA         & 10          &  -1.8801843 &  6.6774194 \\\\\n",
       "\t EWR         & PHX         & 10          &  -3.0322581 & -4.2903226 \\\\\n",
       "\t JFK         & MCO         & 10          & -10.0483871 & -1.6129032 \\\\\n",
       "\t JFK         & DCA         & 10          &  16.4838710 & 15.5161290 \\\\\n",
       "\\end{tabular}\n"
      ],
      "text/markdown": [
       "\n",
       "origin | dest | month | arr_delay | dep_delay | \n",
       "|---|---|---|---|---|---|---|---|---|---|---|---|---|---|---|---|---|---|---|---|---|---|---|---|---|---|---|---|---|---|---|---|---|---|---|---|---|---|---|---|---|---|---|---|---|---|---|---|---|---|---|---|---|---|---|---|---|---|---|---|---|\n",
       "| JFK         | LAX         | 1           |   6.5903614 | 14.2289157  | \n",
       "| LGA         | PBI         | 1           |  -7.7586207 |  0.3103448  | \n",
       "| EWR         | LAX         | 1           |   1.3666667 |  7.5000000  | \n",
       "| JFK         | MIA         | 1           |  15.7206704 | 18.7430168  | \n",
       "| JFK         | SEA         | 1           |  14.3571429 | 30.7500000  | \n",
       "| EWR         | MIA         | 1           |  11.0112360 | 12.1235955  | \n",
       "| JFK         | SFO         | 1           |  19.2522523 | 28.6396396  | \n",
       "| JFK         | BOS         | 1           |  12.9196429 | 15.2142857  | \n",
       "| JFK         | ORD         | 1           |  31.5862069 | 40.1724138  | \n",
       "| JFK         | IAH         | 1           |  28.8571429 | 14.2857143  | \n",
       "| JFK         | AUS         | 1           |  25.2000000 | 27.6000000  | \n",
       "| EWR         | DFW         | 1           |   6.4276730 | 10.0125786  | \n",
       "| LGA         | ORD         | 1           |   8.4402332 | 10.1195335  | \n",
       "| JFK         | STT         | 1           |  18.9310345 | 21.3793103  | \n",
       "| JFK         | SJU         | 1           |  18.9204545 | 20.2272727  | \n",
       "| LGA         | MIA         | 1           |   6.1300000 |  5.4175000  | \n",
       "| LGA         | DFW         | 1           |   0.5295699 |  7.7580645  | \n",
       "| JFK         | LAS         | 1           |  17.6949153 | 19.1525424  | \n",
       "| JFK         | MCO         | 1           |  10.5762712 | 13.8813559  | \n",
       "| JFK         | EGE         | 1           |  23.1111111 | 32.5185185  | \n",
       "| JFK         | DFW         | 1           | -11.9000000 |  8.8000000  | \n",
       "| JFK         | SAN         | 1           |  11.5555556 | 12.4814815  | \n",
       "| JFK         | LAX         | 2           |  22.7520000 | 15.0800000  | \n",
       "| LGA         | PBI         | 2           |  -7.8653846 |  2.4038462  | \n",
       "| JFK         | LAS         | 2           |  22.2884615 | 11.8653846  | \n",
       "| JFK         | MIA         | 2           |  10.4329268 | 20.1768293  | \n",
       "| JFK         | SFO         | 2           |  35.4059406 | 28.7920792  | \n",
       "| JFK         | DFW         | 2           |  -2.8888889 | 12.0740741  | \n",
       "| JFK         | SAN         | 2           |  31.0000000 | 18.3928571  | \n",
       "| JFK         | BOS         | 2           |  11.1800000 | 11.7600000  | \n",
       "| ⋮ | ⋮ | ⋮ | ⋮ | ⋮ | \n",
       "| JFK         | SJU         |  9          |   1.6875000 | 11.3750000  | \n",
       "| LGA         | ORD         |  9          |   4.3311547 |  3.7843137  | \n",
       "| EWR         | DFW         |  9          |   5.8650307 | 13.0552147  | \n",
       "| EWR         | MIA         |  9          |  -0.9062500 |  0.3593750  | \n",
       "| JFK         | DCA         |  9          |   5.1034483 | -2.2413793  | \n",
       "| LGA         | DFW         |  9          |  -8.7877238 | -0.2557545  | \n",
       "| JFK         | MIA         |  9          |  -2.5550239 |  6.2775120  | \n",
       "| LGA         | MIA         |  9          |  -8.5799257 | -4.0408922  | \n",
       "| JFK         | MCO         |  9          | -10.0666667 | -3.5333333  | \n",
       "| JFK         | AUS         |  9          |  16.2666667 | 14.3666667  | \n",
       "| EWR         | PHX         |  9          |  -4.2333333 | -1.6666667  | \n",
       "| JFK         | LAX         | 10          |  -0.9594937 |  6.2151899  | \n",
       "| JFK         | SFO         | 10          |   8.1633987 |  7.6274510  | \n",
       "| JFK         | BOS         | 10          |  11.5000000 | 10.2704918  | \n",
       "| JFK         | SAN         | 10          |  16.2258065 | 12.4838710  | \n",
       "| JFK         | ORD         | 10          |  23.0645161 | 17.6451613  | \n",
       "| JFK         | LAS         | 10          |  18.2258065 | 14.5483871  | \n",
       "| JFK         | DFW         | 10          |   2.2622951 |  3.0491803  | \n",
       "| JFK         | SJU         | 10          |   1.7419355 | 17.1290323  | \n",
       "| JFK         | SEA         | 10          |   1.0322581 |  4.9032258  | \n",
       "| LGA         | ORD         | 10          |  15.4661191 | 12.9117043  | \n",
       "| EWR         | DFW         | 10          |  18.8136646 | 18.8944099  | \n",
       "| JFK         | AUS         | 10          |   3.2903226 |  6.2903226  | \n",
       "| EWR         | MIA         | 10          |  -4.4754098 | -3.7868852  | \n",
       "| LGA         | DFW         | 10          |   3.5000000 |  4.5527638  | \n",
       "| LGA         | MIA         | 10          |  -6.2517986 | -1.4208633  | \n",
       "| JFK         | MIA         | 10          |  -1.8801843 |  6.6774194  | \n",
       "| EWR         | PHX         | 10          |  -3.0322581 | -4.2903226  | \n",
       "| JFK         | MCO         | 10          | -10.0483871 | -1.6129032  | \n",
       "| JFK         | DCA         | 10          |  16.4838710 | 15.5161290  | \n",
       "\n",
       "\n"
      ],
      "text/plain": [
       "    origin dest month arr_delay   dep_delay \n",
       "1   JFK    LAX  1       6.5903614 14.2289157\n",
       "2   LGA    PBI  1      -7.7586207  0.3103448\n",
       "3   EWR    LAX  1       1.3666667  7.5000000\n",
       "4   JFK    MIA  1      15.7206704 18.7430168\n",
       "5   JFK    SEA  1      14.3571429 30.7500000\n",
       "6   EWR    MIA  1      11.0112360 12.1235955\n",
       "7   JFK    SFO  1      19.2522523 28.6396396\n",
       "8   JFK    BOS  1      12.9196429 15.2142857\n",
       "9   JFK    ORD  1      31.5862069 40.1724138\n",
       "10  JFK    IAH  1      28.8571429 14.2857143\n",
       "11  JFK    AUS  1      25.2000000 27.6000000\n",
       "12  EWR    DFW  1       6.4276730 10.0125786\n",
       "13  LGA    ORD  1       8.4402332 10.1195335\n",
       "14  JFK    STT  1      18.9310345 21.3793103\n",
       "15  JFK    SJU  1      18.9204545 20.2272727\n",
       "16  LGA    MIA  1       6.1300000  5.4175000\n",
       "17  LGA    DFW  1       0.5295699  7.7580645\n",
       "18  JFK    LAS  1      17.6949153 19.1525424\n",
       "19  JFK    MCO  1      10.5762712 13.8813559\n",
       "20  JFK    EGE  1      23.1111111 32.5185185\n",
       "21  JFK    DFW  1     -11.9000000  8.8000000\n",
       "22  JFK    SAN  1      11.5555556 12.4814815\n",
       "23  JFK    LAX  2      22.7520000 15.0800000\n",
       "24  LGA    PBI  2      -7.8653846  2.4038462\n",
       "25  JFK    LAS  2      22.2884615 11.8653846\n",
       "26  JFK    MIA  2      10.4329268 20.1768293\n",
       "27  JFK    SFO  2      35.4059406 28.7920792\n",
       "28  JFK    DFW  2      -2.8888889 12.0740741\n",
       "29  JFK    SAN  2      31.0000000 18.3928571\n",
       "30  JFK    BOS  2      11.1800000 11.7600000\n",
       "⋮   ⋮      ⋮    ⋮     ⋮           ⋮         \n",
       "171 JFK    SJU   9      1.6875000 11.3750000\n",
       "172 LGA    ORD   9      4.3311547  3.7843137\n",
       "173 EWR    DFW   9      5.8650307 13.0552147\n",
       "174 EWR    MIA   9     -0.9062500  0.3593750\n",
       "175 JFK    DCA   9      5.1034483 -2.2413793\n",
       "176 LGA    DFW   9     -8.7877238 -0.2557545\n",
       "177 JFK    MIA   9     -2.5550239  6.2775120\n",
       "178 LGA    MIA   9     -8.5799257 -4.0408922\n",
       "179 JFK    MCO   9    -10.0666667 -3.5333333\n",
       "180 JFK    AUS   9     16.2666667 14.3666667\n",
       "181 EWR    PHX   9     -4.2333333 -1.6666667\n",
       "182 JFK    LAX  10     -0.9594937  6.2151899\n",
       "183 JFK    SFO  10      8.1633987  7.6274510\n",
       "184 JFK    BOS  10     11.5000000 10.2704918\n",
       "185 JFK    SAN  10     16.2258065 12.4838710\n",
       "186 JFK    ORD  10     23.0645161 17.6451613\n",
       "187 JFK    LAS  10     18.2258065 14.5483871\n",
       "188 JFK    DFW  10      2.2622951  3.0491803\n",
       "189 JFK    SJU  10      1.7419355 17.1290323\n",
       "190 JFK    SEA  10      1.0322581  4.9032258\n",
       "191 LGA    ORD  10     15.4661191 12.9117043\n",
       "192 EWR    DFW  10     18.8136646 18.8944099\n",
       "193 JFK    AUS  10      3.2903226  6.2903226\n",
       "194 EWR    MIA  10     -4.4754098 -3.7868852\n",
       "195 LGA    DFW  10      3.5000000  4.5527638\n",
       "196 LGA    MIA  10     -6.2517986 -1.4208633\n",
       "197 JFK    MIA  10     -1.8801843  6.6774194\n",
       "198 EWR    PHX  10     -3.0322581 -4.2903226\n",
       "199 JFK    MCO  10    -10.0483871 -1.6129032\n",
       "200 JFK    DCA  10     16.4838710 15.5161290"
      ]
     },
     "metadata": {},
     "output_type": "display_data"
    }
   ],
   "source": [
    "flights[carrier == \"AA\",                       ## Only on trips with carrier \"AA\"\n",
    "        lapply(.SD, mean),                     ## compute the mean\n",
    "        by = .(origin, dest, month),           ## for every 'origin,dest,month'\n",
    "        .SDcols = c(\"arr_delay\", \"dep_delay\")] ## for just those specified in .SDcols"
   ]
  },
  {
   "cell_type": "code",
   "execution_count": 11,
   "metadata": {},
   "outputs": [
    {
     "data": {
      "text/html": [
       "<table>\n",
       "<thead><tr><th scope=col>ID</th><th scope=col>a</th><th scope=col>b</th><th scope=col>c</th></tr></thead>\n",
       "<tbody>\n",
       "\t<tr><td>b </td><td>1 </td><td> 7</td><td>13</td></tr>\n",
       "\t<tr><td>b </td><td>2 </td><td> 8</td><td>14</td></tr>\n",
       "\t<tr><td>b </td><td>3 </td><td> 9</td><td>15</td></tr>\n",
       "\t<tr><td>a </td><td>4 </td><td>10</td><td>16</td></tr>\n",
       "\t<tr><td>a </td><td>5 </td><td>11</td><td>17</td></tr>\n",
       "\t<tr><td>c </td><td>6 </td><td>12</td><td>18</td></tr>\n",
       "</tbody>\n",
       "</table>\n"
      ],
      "text/latex": [
       "\\begin{tabular}{r|llll}\n",
       " ID & a & b & c\\\\\n",
       "\\hline\n",
       "\t b  & 1  &  7 & 13\\\\\n",
       "\t b  & 2  &  8 & 14\\\\\n",
       "\t b  & 3  &  9 & 15\\\\\n",
       "\t a  & 4  & 10 & 16\\\\\n",
       "\t a  & 5  & 11 & 17\\\\\n",
       "\t c  & 6  & 12 & 18\\\\\n",
       "\\end{tabular}\n"
      ],
      "text/markdown": [
       "\n",
       "ID | a | b | c | \n",
       "|---|---|---|---|---|---|\n",
       "| b  | 1  |  7 | 13 | \n",
       "| b  | 2  |  8 | 14 | \n",
       "| b  | 3  |  9 | 15 | \n",
       "| a  | 4  | 10 | 16 | \n",
       "| a  | 5  | 11 | 17 | \n",
       "| c  | 6  | 12 | 18 | \n",
       "\n",
       "\n"
      ],
      "text/plain": [
       "  ID a b  c \n",
       "1 b  1  7 13\n",
       "2 b  2  8 14\n",
       "3 b  3  9 15\n",
       "4 a  4 10 16\n",
       "5 a  5 11 17\n",
       "6 c  6 12 18"
      ]
     },
     "metadata": {},
     "output_type": "display_data"
    }
   ],
   "source": [
    "DT"
   ]
  },
  {
   "cell_type": "code",
   "execution_count": 17,
   "metadata": {},
   "outputs": [
    {
     "data": {
      "text/html": [
       "<table>\n",
       "<thead><tr><th scope=col>ID</th><th scope=col>val</th></tr></thead>\n",
       "<tbody>\n",
       "\t<tr><td>b </td><td> 1</td></tr>\n",
       "\t<tr><td>b </td><td> 2</td></tr>\n",
       "\t<tr><td>b </td><td> 3</td></tr>\n",
       "\t<tr><td>b </td><td> 7</td></tr>\n",
       "\t<tr><td>b </td><td> 8</td></tr>\n",
       "\t<tr><td>b </td><td> 9</td></tr>\n",
       "\t<tr><td>a </td><td> 4</td></tr>\n",
       "\t<tr><td>a </td><td> 5</td></tr>\n",
       "\t<tr><td>a </td><td>10</td></tr>\n",
       "\t<tr><td>a </td><td>11</td></tr>\n",
       "\t<tr><td>c </td><td> 6</td></tr>\n",
       "\t<tr><td>c </td><td>12</td></tr>\n",
       "</tbody>\n",
       "</table>\n"
      ],
      "text/latex": [
       "\\begin{tabular}{r|ll}\n",
       " ID & val\\\\\n",
       "\\hline\n",
       "\t b  &  1\\\\\n",
       "\t b  &  2\\\\\n",
       "\t b  &  3\\\\\n",
       "\t b  &  7\\\\\n",
       "\t b  &  8\\\\\n",
       "\t b  &  9\\\\\n",
       "\t a  &  4\\\\\n",
       "\t a  &  5\\\\\n",
       "\t a  & 10\\\\\n",
       "\t a  & 11\\\\\n",
       "\t c  &  6\\\\\n",
       "\t c  & 12\\\\\n",
       "\\end{tabular}\n"
      ],
      "text/markdown": [
       "\n",
       "ID | val | \n",
       "|---|---|---|---|---|---|---|---|---|---|---|---|\n",
       "| b  |  1 | \n",
       "| b  |  2 | \n",
       "| b  |  3 | \n",
       "| b  |  7 | \n",
       "| b  |  8 | \n",
       "| b  |  9 | \n",
       "| a  |  4 | \n",
       "| a  |  5 | \n",
       "| a  | 10 | \n",
       "| a  | 11 | \n",
       "| c  |  6 | \n",
       "| c  | 12 | \n",
       "\n",
       "\n"
      ],
      "text/plain": [
       "   ID val\n",
       "1  b   1 \n",
       "2  b   2 \n",
       "3  b   3 \n",
       "4  b   7 \n",
       "5  b   8 \n",
       "6  b   9 \n",
       "7  a   4 \n",
       "8  a   5 \n",
       "9  a  10 \n",
       "10 a  11 \n",
       "11 c   6 \n",
       "12 c  12 "
      ]
     },
     "metadata": {},
     "output_type": "display_data"
    }
   ],
   "source": [
    "DT[, .(val = c(a,b)), by = ID]"
   ]
  },
  {
   "cell_type": "code",
   "execution_count": 18,
   "metadata": {},
   "outputs": [
    {
     "data": {
      "text/html": [
       "<table>\n",
       "<thead><tr><th scope=col>ID</th><th scope=col>val</th></tr></thead>\n",
       "<tbody>\n",
       "\t<tr><td>b               </td><td>1, 2, 3, 7, 8, 9</td></tr>\n",
       "\t<tr><td>a           </td><td>4, 5, 10, 11</td></tr>\n",
       "\t<tr><td>c    </td><td>6, 12</td></tr>\n",
       "</tbody>\n",
       "</table>\n"
      ],
      "text/latex": [
       "\\begin{tabular}{r|ll}\n",
       " ID & val\\\\\n",
       "\\hline\n",
       "\t b                & 1, 2, 3, 7, 8, 9\\\\\n",
       "\t a            & 4, 5, 10, 11\\\\\n",
       "\t c     & 6, 12\\\\\n",
       "\\end{tabular}\n"
      ],
      "text/markdown": [
       "\n",
       "ID | val | \n",
       "|---|---|---|\n",
       "| b                | 1, 2, 3, 7, 8, 9 | \n",
       "| a            | 4, 5, 10, 11 | \n",
       "| c     | 6, 12 | \n",
       "\n",
       "\n"
      ],
      "text/plain": [
       "  ID val             \n",
       "1 b  1, 2, 3, 7, 8, 9\n",
       "2 a  4, 5, 10, 11    \n",
       "3 c  6, 12           "
      ]
     },
     "metadata": {},
     "output_type": "display_data"
    }
   ],
   "source": [
    "DT[, .(val = list(c(a,b))), by = ID]"
   ]
  },
  {
   "cell_type": "code",
   "execution_count": null,
   "metadata": {},
   "outputs": [],
   "source": []
  }
 ],
 "metadata": {
  "kernelspec": {
   "display_name": "R",
   "language": "R",
   "name": "ir"
  },
  "language_info": {
   "codemirror_mode": "r",
   "file_extension": ".r",
   "mimetype": "text/x-r-source",
   "name": "R",
   "pygments_lexer": "r",
   "version": "3.4.3"
  },
  "toc": {
   "nav_menu": {},
   "number_sections": true,
   "sideBar": true,
   "skip_h1_title": false,
   "toc_cell": false,
   "toc_position": {},
   "toc_section_display": "block",
   "toc_window_display": false
  }
 },
 "nbformat": 4,
 "nbformat_minor": 2
}

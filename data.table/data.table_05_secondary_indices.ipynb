{
 "cells": [
  {
   "cell_type": "markdown",
   "metadata": {},
   "source": [
    "# Secondary indices"
   ]
  },
  {
   "cell_type": "markdown",
   "metadata": {},
   "source": [
    "Secondary indices are similar to keys in data.table, except for two major differences:\n",
    "\n",
    "    It doesn't physically reorder the entire data.table in RAM. Instead, it only computes the order for the set of columns provided and stores that order vector in an additional attribute called index.\n",
    "\n",
    "    There can be more than one secondary index for a data.table (as we will see below)."
   ]
  },
  {
   "cell_type": "markdown",
   "metadata": {},
   "source": [
    "How can we set the column origin as a secondary index in the data.table flights?"
   ]
  },
  {
   "cell_type": "code",
   "execution_count": 1,
   "metadata": {},
   "outputs": [],
   "source": [
    "library(data.table)"
   ]
  },
  {
   "cell_type": "code",
   "execution_count": 2,
   "metadata": {},
   "outputs": [],
   "source": [
    "flights <- fread(\"flights.wiki/NYCflights14/flights14.csv\")"
   ]
  },
  {
   "cell_type": "code",
   "execution_count": 3,
   "metadata": {},
   "outputs": [],
   "source": [
    "setindex(flights, origin)"
   ]
  },
  {
   "cell_type": "code",
   "execution_count": 4,
   "metadata": {},
   "outputs": [
    {
     "data": {
      "text/html": [
       "<ol class=list-inline>\n",
       "\t<li>'names'</li>\n",
       "\t<li>'row.names'</li>\n",
       "\t<li>'class'</li>\n",
       "\t<li>'.internal.selfref'</li>\n",
       "\t<li>'index'</li>\n",
       "</ol>\n"
      ],
      "text/latex": [
       "\\begin{enumerate*}\n",
       "\\item 'names'\n",
       "\\item 'row.names'\n",
       "\\item 'class'\n",
       "\\item '.internal.selfref'\n",
       "\\item 'index'\n",
       "\\end{enumerate*}\n"
      ],
      "text/markdown": [
       "1. 'names'\n",
       "2. 'row.names'\n",
       "3. 'class'\n",
       "4. '.internal.selfref'\n",
       "5. 'index'\n",
       "\n",
       "\n"
      ],
      "text/plain": [
       "[1] \"names\"             \"row.names\"         \"class\"            \n",
       "[4] \".internal.selfref\" \"index\"            "
      ]
     },
     "metadata": {},
     "output_type": "display_data"
    }
   ],
   "source": [
    "names(attributes(flights))"
   ]
  },
  {
   "cell_type": "markdown",
   "metadata": {},
   "source": [
    "setindex(flights, NULL) would remove all secondary indices."
   ]
  },
  {
   "cell_type": "code",
   "execution_count": 5,
   "metadata": {},
   "outputs": [
    {
     "data": {
      "text/html": [
       "'origin'"
      ],
      "text/latex": [
       "'origin'"
      ],
      "text/markdown": [
       "'origin'"
      ],
      "text/plain": [
       "[1] \"origin\""
      ]
     },
     "metadata": {},
     "output_type": "display_data"
    },
    {
     "data": {
      "text/html": [
       "<ol class=list-inline>\n",
       "\t<li>'origin'</li>\n",
       "\t<li>'origin__dest'</li>\n",
       "</ol>\n"
      ],
      "text/latex": [
       "\\begin{enumerate*}\n",
       "\\item 'origin'\n",
       "\\item 'origin\\_\\_dest'\n",
       "\\end{enumerate*}\n"
      ],
      "text/markdown": [
       "1. 'origin'\n",
       "2. 'origin__dest'\n",
       "\n",
       "\n"
      ],
      "text/plain": [
       "[1] \"origin\"       \"origin__dest\""
      ]
     },
     "metadata": {},
     "output_type": "display_data"
    }
   ],
   "source": [
    "indices(flights)\n",
    "setindex(flights, origin, dest)\n",
    "indices(flights)"
   ]
  },
  {
   "cell_type": "markdown",
   "metadata": {},
   "source": [
    "Reordering a data.table can be expensive and not always ideal\n",
    "\n",
    "Consider the case where you would like to perform a fast key based subset on origin column for the value “JFK”. We'd do this as:"
   ]
  },
  {
   "cell_type": "markdown",
   "metadata": {},
   "source": [
    "Secondary indices can be reused\n",
    "\n",
    "Since there can be multiple secondary indices, and creating an index is as simple as storing the order vector as an attribute, this allows us to even eliminate the time to recompute the order vector if an index already exists."
   ]
  },
  {
   "cell_type": "markdown",
   "metadata": {},
   "source": [
    "# Fast subsetting using on argument and secondary indices"
   ]
  },
  {
   "cell_type": "markdown",
   "metadata": {},
   "source": [
    "## Fast subsets in i"
   ]
  },
  {
   "cell_type": "markdown",
   "metadata": {},
   "source": [
    "Subset all rows where the origin airport matches “JFK” using on"
   ]
  },
  {
   "cell_type": "code",
   "execution_count": 6,
   "metadata": {},
   "outputs": [
    {
     "data": {
      "text/html": [
       "<table>\n",
       "<thead><tr><th scope=col>year</th><th scope=col>month</th><th scope=col>day</th><th scope=col>dep_time</th><th scope=col>dep_delay</th><th scope=col>arr_time</th><th scope=col>arr_delay</th><th scope=col>cancelled</th><th scope=col>carrier</th><th scope=col>tailnum</th><th scope=col>flight</th><th scope=col>origin</th><th scope=col>dest</th><th scope=col>air_time</th><th scope=col>distance</th><th scope=col>hour</th><th scope=col>min</th></tr></thead>\n",
       "<tbody>\n",
       "\t<tr><td>2014  </td><td>1     </td><td>1     </td><td> 914  </td><td> 14   </td><td>1238  </td><td> 13   </td><td>0     </td><td>AA    </td><td>N338AA</td><td>   1  </td><td>JFK   </td><td>LAX   </td><td>359   </td><td>2475  </td><td> 9    </td><td>14    </td></tr>\n",
       "\t<tr><td>2014  </td><td>1     </td><td>1     </td><td>1157  </td><td> -3   </td><td>1523  </td><td> 13   </td><td>0     </td><td>AA    </td><td>N335AA</td><td>   3  </td><td>JFK   </td><td>LAX   </td><td>363   </td><td>2475  </td><td>11    </td><td>57    </td></tr>\n",
       "\t<tr><td>2014  </td><td>1     </td><td>1     </td><td>1902  </td><td>  2   </td><td>2224  </td><td>  9   </td><td>0     </td><td>AA    </td><td>N327AA</td><td>  21  </td><td>JFK   </td><td>LAX   </td><td>351   </td><td>2475  </td><td>19    </td><td> 2    </td></tr>\n",
       "\t<tr><td>2014  </td><td>1     </td><td>1     </td><td>1347  </td><td>  2   </td><td>1706  </td><td>  1   </td><td>0     </td><td>AA    </td><td>N319AA</td><td> 117  </td><td>JFK   </td><td>LAX   </td><td>350   </td><td>2475  </td><td>13    </td><td>47    </td></tr>\n",
       "\t<tr><td>2014  </td><td>1     </td><td>1     </td><td>2133  </td><td> -2   </td><td>  37  </td><td>-18   </td><td>0     </td><td>AA    </td><td>N323AA</td><td> 185  </td><td>JFK   </td><td>LAX   </td><td>338   </td><td>2475  </td><td>21    </td><td>33    </td></tr>\n",
       "\t<tr><td>2014  </td><td>1     </td><td>1     </td><td>1542  </td><td> -3   </td><td>1906  </td><td>-14   </td><td>0     </td><td>AA    </td><td>N328AA</td><td> 133  </td><td>JFK   </td><td>LAX   </td><td>356   </td><td>2475  </td><td>15    </td><td>42    </td></tr>\n",
       "\t<tr><td>2014  </td><td>1     </td><td>1     </td><td>1509  </td><td> -1   </td><td>1828  </td><td>-17   </td><td>0     </td><td>AA    </td><td>N5FJAA</td><td> 145  </td><td>JFK   </td><td>MIA   </td><td>161   </td><td>1089  </td><td>15    </td><td> 9    </td></tr>\n",
       "\t<tr><td>2014  </td><td>1     </td><td>1     </td><td>1848  </td><td> -2   </td><td>2206  </td><td>-14   </td><td>0     </td><td>AA    </td><td>N3HYAA</td><td> 235  </td><td>JFK   </td><td>SEA   </td><td>349   </td><td>2422  </td><td>18    </td><td>48    </td></tr>\n",
       "\t<tr><td>2014  </td><td>1     </td><td>1     </td><td>1752  </td><td>  7   </td><td>2120  </td><td> -5   </td><td>0     </td><td>AA    </td><td>N332AA</td><td> 177  </td><td>JFK   </td><td>SFO   </td><td>365   </td><td>2586  </td><td>17    </td><td>52    </td></tr>\n",
       "\t<tr><td>2014  </td><td>1     </td><td>1     </td><td>1253  </td><td>  3   </td><td>1351  </td><td>  1   </td><td>0     </td><td>AA    </td><td>N3JWAA</td><td> 178  </td><td>JFK   </td><td>BOS   </td><td> 39   </td><td> 187  </td><td>12    </td><td>53    </td></tr>\n",
       "\t<tr><td>2014  </td><td>1     </td><td>1     </td><td>1907  </td><td>142   </td><td>2223  </td><td>133   </td><td>0     </td><td>AA    </td><td>N336AA</td><td> 181  </td><td>JFK   </td><td>LAX   </td><td>345   </td><td>2475  </td><td>19    </td><td> 7    </td></tr>\n",
       "\t<tr><td>2014  </td><td>1     </td><td>1     </td><td>1720  </td><td> -5   </td><td>1819  </td><td>-26   </td><td>0     </td><td>AA    </td><td>N3BCAA</td><td> 256  </td><td>JFK   </td><td>BOS   </td><td> 35   </td><td> 187  </td><td>17    </td><td>20    </td></tr>\n",
       "\t<tr><td>2014  </td><td>1     </td><td>1     </td><td>1733  </td><td> 18   </td><td>2024  </td><td> 69   </td><td>0     </td><td>AA    </td><td>N3HPAA</td><td> 199  </td><td>JFK   </td><td>ORD   </td><td>155   </td><td> 740  </td><td>17    </td><td>33    </td></tr>\n",
       "\t<tr><td>2014  </td><td>1     </td><td>1     </td><td>1640  </td><td> 25   </td><td>2001  </td><td> 36   </td><td>0     </td><td>AA    </td><td>N3HFAA</td><td> 211  </td><td>JFK   </td><td>IAH   </td><td>234   </td><td>1417  </td><td>16    </td><td>40    </td></tr>\n",
       "\t<tr><td>2014  </td><td>1     </td><td>1     </td><td>1714  </td><td> -1   </td><td>2036  </td><td>  1   </td><td>0     </td><td>AA    </td><td>N3DVAA</td><td> 291  </td><td>JFK   </td><td>AUS   </td><td>232   </td><td>1521  </td><td>17    </td><td>14    </td></tr>\n",
       "\t<tr><td>2014  </td><td>1     </td><td>1     </td><td> 750  </td><td>  0   </td><td>1228  </td><td>-27   </td><td>0     </td><td>AA    </td><td>N5FSAA</td><td> 936  </td><td>JFK   </td><td>STT   </td><td>197   </td><td>1623  </td><td> 7    </td><td>50    </td></tr>\n",
       "\t<tr><td>2014  </td><td>1     </td><td>1     </td><td>1855  </td><td> -5   </td><td>2342  </td><td>-17   </td><td>0     </td><td>AA    </td><td>N5CEAA</td><td>1029  </td><td>JFK   </td><td>SJU   </td><td>198   </td><td>1598  </td><td>18    </td><td>55    </td></tr>\n",
       "\t<tr><td>2014  </td><td>1     </td><td>1     </td><td> 917  </td><td>  7   </td><td>1227  </td><td> -8   </td><td>0     </td><td>AA    </td><td>N5DWAA</td><td>1085  </td><td>JFK   </td><td>MIA   </td><td>166   </td><td>1089  </td><td> 9    </td><td>17    </td></tr>\n",
       "\t<tr><td>2014  </td><td>1     </td><td>1     </td><td> 808  </td><td>  3   </td><td>1248  </td><td>-16   </td><td>0     </td><td>AA    </td><td>N357AA</td><td>1357  </td><td>JFK   </td><td>SJU   </td><td>194   </td><td>1598  </td><td> 8    </td><td> 8    </td></tr>\n",
       "\t<tr><td>2014  </td><td>1     </td><td>1     </td><td> 659  </td><td>  4   </td><td> 954  </td><td> 14   </td><td>0     </td><td>AA    </td><td>N3ELAA</td><td>1263  </td><td>JFK   </td><td>LAS   </td><td>322   </td><td>2248  </td><td> 6    </td><td>59    </td></tr>\n",
       "\t<tr><td>2014  </td><td>1     </td><td>1     </td><td>1227  </td><td>  2   </td><td>1534  </td><td> -1   </td><td>0     </td><td>AA    </td><td>N635AA</td><td>1697  </td><td>JFK   </td><td>MIA   </td><td>164   </td><td>1089  </td><td>12    </td><td>27    </td></tr>\n",
       "\t<tr><td>2014  </td><td>1     </td><td>1     </td><td> 546  </td><td>  6   </td><td> 853  </td><td>  3   </td><td>0     </td><td>AA    </td><td>N5CGAA</td><td>2243  </td><td>JFK   </td><td>MIA   </td><td>157   </td><td>1089  </td><td> 5    </td><td>46    </td></tr>\n",
       "\t<tr><td>2014  </td><td>1     </td><td>1     </td><td>1449  </td><td> -6   </td><td>1755  </td><td>-10   </td><td>0     </td><td>AA    </td><td>N633AA</td><td>2285  </td><td>JFK   </td><td>MCO   </td><td>149   </td><td> 944  </td><td>14    </td><td>49    </td></tr>\n",
       "\t<tr><td>2014  </td><td>1     </td><td>1     </td><td>1736  </td><td>  6   </td><td>2043  </td><td>-12   </td><td>0     </td><td>AA    </td><td>N397AA</td><td>2351  </td><td>JFK   </td><td>MIA   </td><td>154   </td><td>1089  </td><td>17    </td><td>36    </td></tr>\n",
       "\t<tr><td>2014  </td><td>1     </td><td>1     </td><td>1958  </td><td> -2   </td><td>2055  </td><td>-15   </td><td>0     </td><td>AA    </td><td>N3JUAA</td><td>2314  </td><td>JFK   </td><td>BOS   </td><td> 32   </td><td> 187  </td><td>19    </td><td>58    </td></tr>\n",
       "\t<tr><td>2014  </td><td>1     </td><td>1     </td><td>1754  </td><td> 24   </td><td>2041  </td><td> 16   </td><td>0     </td><td>AA    </td><td>N623AA</td><td>2448  </td><td>JFK   </td><td>EGE   </td><td>266   </td><td>1746  </td><td>17    </td><td>54    </td></tr>\n",
       "\t<tr><td>2014  </td><td>1     </td><td>1     </td><td> 647  </td><td> -3   </td><td> 942  </td><td>-13   </td><td>0     </td><td>AA    </td><td>N5CEAA</td><td>2493  </td><td>JFK   </td><td>MCO   </td><td>147   </td><td> 944  </td><td> 6    </td><td>47    </td></tr>\n",
       "\t<tr><td>2014  </td><td>1     </td><td>1     </td><td> 846  </td><td> 51   </td><td>1100  </td><td> 60   </td><td>0     </td><td>B6    </td><td>N318JB</td><td>1273  </td><td>JFK   </td><td>CHS   </td><td>109   </td><td> 636  </td><td> 8    </td><td>46    </td></tr>\n",
       "\t<tr><td>2014  </td><td>1     </td><td>1     </td><td>1353  </td><td> 41   </td><td>1657  </td><td> 51   </td><td>0     </td><td>B6    </td><td>N318JB</td><td> 553  </td><td>JFK   </td><td>PBI   </td><td>165   </td><td>1028  </td><td>13    </td><td>53    </td></tr>\n",
       "\t<tr><td>2014  </td><td>1     </td><td>1     </td><td>2127  </td><td> 72   </td><td>2215  </td><td> 49   </td><td>0     </td><td>B6    </td><td>N318JB</td><td> 418  </td><td>JFK   </td><td>BOS   </td><td> 32   </td><td> 187  </td><td>21    </td><td>27    </td></tr>\n",
       "\t<tr><td>⋮</td><td>⋮</td><td>⋮</td><td>⋮</td><td>⋮</td><td>⋮</td><td>⋮</td><td>⋮</td><td>⋮</td><td>⋮</td><td>⋮</td><td>⋮</td><td>⋮</td><td>⋮</td><td>⋮</td><td>⋮</td><td>⋮</td></tr>\n",
       "\t<tr><td>2014  </td><td>10    </td><td>31    </td><td>1629  </td><td>  0   </td><td>1849  </td><td> -4   </td><td>0     </td><td>US    </td><td>N539UW</td><td> 639  </td><td>JFK   </td><td>PHX   </td><td>288   </td><td>2153  </td><td>16    </td><td>29    </td></tr>\n",
       "\t<tr><td>2014  </td><td>10    </td><td>31    </td><td>1034  </td><td> -1   </td><td>1242  </td><td>-11   </td><td>0     </td><td>US    </td><td>N572UW</td><td> 679  </td><td>JFK   </td><td>PHX   </td><td>285   </td><td>2153  </td><td>10    </td><td>34    </td></tr>\n",
       "\t<tr><td>2014  </td><td>10    </td><td>31    </td><td> 818  </td><td> -2   </td><td>1019  </td><td> -1   </td><td>0     </td><td>US    </td><td>N182UW</td><td>1735  </td><td>JFK   </td><td>CLT   </td><td> 90   </td><td> 541  </td><td> 8    </td><td>18    </td></tr>\n",
       "\t<tr><td>2014  </td><td>10    </td><td>31    </td><td>1157  </td><td> -3   </td><td>1356  </td><td>  2   </td><td>0     </td><td>US    </td><td>N631AW</td><td>2069  </td><td>JFK   </td><td>CLT   </td><td> 85   </td><td> 541  </td><td>11    </td><td>57    </td></tr>\n",
       "\t<tr><td>2014  </td><td>10    </td><td>31    </td><td>1653  </td><td> -2   </td><td>1901  </td><td>  9   </td><td>0     </td><td>US    </td><td>N128UW</td><td>2092  </td><td>JFK   </td><td>CLT   </td><td> 85   </td><td> 541  </td><td>16    </td><td>53    </td></tr>\n",
       "\t<tr><td>2014  </td><td>10    </td><td>31    </td><td> 732  </td><td>  2   </td><td>1045  </td><td>-15   </td><td>0     </td><td>VX    </td><td>N837VA</td><td>  11  </td><td>JFK   </td><td>SFO   </td><td>352   </td><td>2586  </td><td> 7    </td><td>32    </td></tr>\n",
       "\t<tr><td>2014  </td><td>10    </td><td>31    </td><td>1233  </td><td>123   </td><td>1555  </td><td>120   </td><td>0     </td><td>VX    </td><td>N847VA</td><td>  23  </td><td>JFK   </td><td>SFO   </td><td>349   </td><td>2586  </td><td>12    </td><td>33    </td></tr>\n",
       "\t<tr><td>2014  </td><td>10    </td><td>31    </td><td> 943  </td><td> -2   </td><td>1220  </td><td>-10   </td><td>0     </td><td>VX    </td><td>N845VA</td><td> 251  </td><td>JFK   </td><td>LAS   </td><td>303   </td><td>2248  </td><td> 9    </td><td>43    </td></tr>\n",
       "\t<tr><td>2014  </td><td>10    </td><td>31    </td><td>1625  </td><td> -5   </td><td>2001  </td><td> -9   </td><td>0     </td><td>VX    </td><td>N853VA</td><td>  27  </td><td>JFK   </td><td>SFO   </td><td>342   </td><td>2586  </td><td>16    </td><td>25    </td></tr>\n",
       "\t<tr><td>2014  </td><td>10    </td><td>31    </td><td>1845  </td><td> -5   </td><td>2158  </td><td>-27   </td><td>0     </td><td>VX    </td><td>N840VA</td><td>  29  </td><td>JFK   </td><td>SFO   </td><td>347   </td><td>2586  </td><td>18    </td><td>45    </td></tr>\n",
       "\t<tr><td>2014  </td><td>10    </td><td>31    </td><td> 714  </td><td> 14   </td><td>1010  </td><td> -5   </td><td>0     </td><td>VX    </td><td>N636VA</td><td> 399  </td><td>JFK   </td><td>LAX   </td><td>326   </td><td>2475  </td><td> 7    </td><td>14    </td></tr>\n",
       "\t<tr><td>2014  </td><td>10    </td><td>31    </td><td> 913  </td><td> -7   </td><td>1153  </td><td>-42   </td><td>0     </td><td>VX    </td><td>N634VA</td><td> 407  </td><td>JFK   </td><td>LAX   </td><td>318   </td><td>2475  </td><td> 9    </td><td>13    </td></tr>\n",
       "\t<tr><td>2014  </td><td>10    </td><td>31    </td><td>1259  </td><td> -1   </td><td>1548  </td><td>-22   </td><td>0     </td><td>VX    </td><td>N625VA</td><td> 411  </td><td>JFK   </td><td>LAX   </td><td>330   </td><td>2475  </td><td>12    </td><td>59    </td></tr>\n",
       "\t<tr><td>2014  </td><td>10    </td><td>31    </td><td>1655  </td><td>  0   </td><td>1949  </td><td>-26   </td><td>0     </td><td>VX    </td><td>N843VA</td><td> 413  </td><td>JFK   </td><td>LAX   </td><td>327   </td><td>2475  </td><td>16    </td><td>55    </td></tr>\n",
       "\t<tr><td>2014  </td><td>10    </td><td>31    </td><td>2001  </td><td> -4   </td><td>2311  </td><td> -9   </td><td>0     </td><td>VX    </td><td>N624VA</td><td> 415  </td><td>JFK   </td><td>LAX   </td><td>327   </td><td>2475  </td><td>20    </td><td> 1    </td></tr>\n",
       "\t<tr><td>2014  </td><td>10    </td><td>31    </td><td>1228  </td><td> -7   </td><td>1412  </td><td>  2   </td><td>0     </td><td>MQ    </td><td>N853MQ</td><td>3361  </td><td>JFK   </td><td>RDU   </td><td> 84   </td><td> 427  </td><td>12    </td><td>28    </td></tr>\n",
       "\t<tr><td>2014  </td><td>10    </td><td>31    </td><td>1723  </td><td> -6   </td><td>1821  </td><td>-28   </td><td>0     </td><td>MQ    </td><td>N543MQ</td><td>3365  </td><td>JFK   </td><td>DCA   </td><td> 40   </td><td> 213  </td><td>17    </td><td>23    </td></tr>\n",
       "\t<tr><td>2014  </td><td>10    </td><td>31    </td><td> 815  </td><td> -5   </td><td> 949  </td><td>-11   </td><td>0     </td><td>MQ    </td><td>N853MQ</td><td>3465  </td><td>JFK   </td><td>RDU   </td><td> 76   </td><td> 427  </td><td> 8    </td><td>15    </td></tr>\n",
       "\t<tr><td>2014  </td><td>10    </td><td>31    </td><td>2024  </td><td> 24   </td><td>2206  </td><td> 26   </td><td>0     </td><td>MQ    </td><td>N817MQ</td><td>3535  </td><td>JFK   </td><td>CMH   </td><td> 77   </td><td> 483  </td><td>20    </td><td>24    </td></tr>\n",
       "\t<tr><td>2014  </td><td>10    </td><td>31    </td><td>2137  </td><td> -8   </td><td>2227  </td><td>-33   </td><td>0     </td><td>MQ    </td><td>N543MQ</td><td>3621  </td><td>JFK   </td><td>DCA   </td><td> 37   </td><td> 213  </td><td>21    </td><td>37    </td></tr>\n",
       "\t<tr><td>2014  </td><td>10    </td><td>31    </td><td>1456  </td><td> 56   </td><td>1757  </td><td> 21   </td><td>0     </td><td>UA    </td><td>N505UA</td><td> 257  </td><td>JFK   </td><td>SFO   </td><td>341   </td><td>2586  </td><td>14    </td><td>56    </td></tr>\n",
       "\t<tr><td>2014  </td><td>10    </td><td>31    </td><td> 601  </td><td> -4   </td><td> 914  </td><td>-28   </td><td>0     </td><td>UA    </td><td>N598UA</td><td> 415  </td><td>JFK   </td><td>SFO   </td><td>347   </td><td>2586  </td><td> 6    </td><td> 1    </td></tr>\n",
       "\t<tr><td>2014  </td><td>10    </td><td>31    </td><td> 605  </td><td>  0   </td><td> 847  </td><td>-38   </td><td>0     </td><td>UA    </td><td>N588UA</td><td> 441  </td><td>JFK   </td><td>LAX   </td><td>320   </td><td>2475  </td><td> 6    </td><td> 5    </td></tr>\n",
       "\t<tr><td>2014  </td><td>10    </td><td>31    </td><td> 956  </td><td> 85   </td><td>1251  </td><td> 62   </td><td>0     </td><td>UA    </td><td>N595UA</td><td> 443  </td><td>JFK   </td><td>LAX   </td><td>323   </td><td>2475  </td><td> 9    </td><td>56    </td></tr>\n",
       "\t<tr><td>2014  </td><td>10    </td><td>31    </td><td>1527  </td><td> -2   </td><td>1841  </td><td>-24   </td><td>0     </td><td>UA    </td><td>N546UA</td><td> 510  </td><td>JFK   </td><td>SFO   </td><td>349   </td><td>2586  </td><td>15    </td><td>27    </td></tr>\n",
       "\t<tr><td>2014  </td><td>10    </td><td>31    </td><td>1705  </td><td> -4   </td><td>2024  </td><td>-21   </td><td>0     </td><td>UA    </td><td>N596UA</td><td> 512  </td><td>JFK   </td><td>SFO   </td><td>337   </td><td>2586  </td><td>17    </td><td> 5    </td></tr>\n",
       "\t<tr><td>2014  </td><td>10    </td><td>31    </td><td>1827  </td><td> -2   </td><td>2133  </td><td>-37   </td><td>0     </td><td>UA    </td><td>N568UA</td><td> 514  </td><td>JFK   </td><td>SFO   </td><td>344   </td><td>2586  </td><td>18    </td><td>27    </td></tr>\n",
       "\t<tr><td>2014  </td><td>10    </td><td>31    </td><td>1753  </td><td>  0   </td><td>2039  </td><td>-33   </td><td>0     </td><td>UA    </td><td>N518UA</td><td> 535  </td><td>JFK   </td><td>LAX   </td><td>320   </td><td>2475  </td><td>17    </td><td>53    </td></tr>\n",
       "\t<tr><td>2014  </td><td>10    </td><td>31    </td><td> 924  </td><td> -6   </td><td>1228  </td><td>-38   </td><td>0     </td><td>UA    </td><td>N512UA</td><td> 541  </td><td>JFK   </td><td>SFO   </td><td>343   </td><td>2586  </td><td> 9    </td><td>24    </td></tr>\n",
       "\t<tr><td>2014  </td><td>10    </td><td>31    </td><td>1124  </td><td> -6   </td><td>1408  </td><td>-38   </td><td>0     </td><td>UA    </td><td>N590UA</td><td> 703  </td><td>JFK   </td><td>LAX   </td><td>323   </td><td>2475  </td><td>11    </td><td>24    </td></tr>\n",
       "</tbody>\n",
       "</table>\n"
      ],
      "text/latex": [
       "\\begin{tabular}{r|lllllllllllllllll}\n",
       " year & month & day & dep\\_time & dep\\_delay & arr\\_time & arr\\_delay & cancelled & carrier & tailnum & flight & origin & dest & air\\_time & distance & hour & min\\\\\n",
       "\\hline\n",
       "\t 2014   & 1      & 1      &  914   &  14    & 1238   &  13    & 0      & AA     & N338AA &    1   & JFK    & LAX    & 359    & 2475   &  9     & 14    \\\\\n",
       "\t 2014   & 1      & 1      & 1157   &  -3    & 1523   &  13    & 0      & AA     & N335AA &    3   & JFK    & LAX    & 363    & 2475   & 11     & 57    \\\\\n",
       "\t 2014   & 1      & 1      & 1902   &   2    & 2224   &   9    & 0      & AA     & N327AA &   21   & JFK    & LAX    & 351    & 2475   & 19     &  2    \\\\\n",
       "\t 2014   & 1      & 1      & 1347   &   2    & 1706   &   1    & 0      & AA     & N319AA &  117   & JFK    & LAX    & 350    & 2475   & 13     & 47    \\\\\n",
       "\t 2014   & 1      & 1      & 2133   &  -2    &   37   & -18    & 0      & AA     & N323AA &  185   & JFK    & LAX    & 338    & 2475   & 21     & 33    \\\\\n",
       "\t 2014   & 1      & 1      & 1542   &  -3    & 1906   & -14    & 0      & AA     & N328AA &  133   & JFK    & LAX    & 356    & 2475   & 15     & 42    \\\\\n",
       "\t 2014   & 1      & 1      & 1509   &  -1    & 1828   & -17    & 0      & AA     & N5FJAA &  145   & JFK    & MIA    & 161    & 1089   & 15     &  9    \\\\\n",
       "\t 2014   & 1      & 1      & 1848   &  -2    & 2206   & -14    & 0      & AA     & N3HYAA &  235   & JFK    & SEA    & 349    & 2422   & 18     & 48    \\\\\n",
       "\t 2014   & 1      & 1      & 1752   &   7    & 2120   &  -5    & 0      & AA     & N332AA &  177   & JFK    & SFO    & 365    & 2586   & 17     & 52    \\\\\n",
       "\t 2014   & 1      & 1      & 1253   &   3    & 1351   &   1    & 0      & AA     & N3JWAA &  178   & JFK    & BOS    &  39    &  187   & 12     & 53    \\\\\n",
       "\t 2014   & 1      & 1      & 1907   & 142    & 2223   & 133    & 0      & AA     & N336AA &  181   & JFK    & LAX    & 345    & 2475   & 19     &  7    \\\\\n",
       "\t 2014   & 1      & 1      & 1720   &  -5    & 1819   & -26    & 0      & AA     & N3BCAA &  256   & JFK    & BOS    &  35    &  187   & 17     & 20    \\\\\n",
       "\t 2014   & 1      & 1      & 1733   &  18    & 2024   &  69    & 0      & AA     & N3HPAA &  199   & JFK    & ORD    & 155    &  740   & 17     & 33    \\\\\n",
       "\t 2014   & 1      & 1      & 1640   &  25    & 2001   &  36    & 0      & AA     & N3HFAA &  211   & JFK    & IAH    & 234    & 1417   & 16     & 40    \\\\\n",
       "\t 2014   & 1      & 1      & 1714   &  -1    & 2036   &   1    & 0      & AA     & N3DVAA &  291   & JFK    & AUS    & 232    & 1521   & 17     & 14    \\\\\n",
       "\t 2014   & 1      & 1      &  750   &   0    & 1228   & -27    & 0      & AA     & N5FSAA &  936   & JFK    & STT    & 197    & 1623   &  7     & 50    \\\\\n",
       "\t 2014   & 1      & 1      & 1855   &  -5    & 2342   & -17    & 0      & AA     & N5CEAA & 1029   & JFK    & SJU    & 198    & 1598   & 18     & 55    \\\\\n",
       "\t 2014   & 1      & 1      &  917   &   7    & 1227   &  -8    & 0      & AA     & N5DWAA & 1085   & JFK    & MIA    & 166    & 1089   &  9     & 17    \\\\\n",
       "\t 2014   & 1      & 1      &  808   &   3    & 1248   & -16    & 0      & AA     & N357AA & 1357   & JFK    & SJU    & 194    & 1598   &  8     &  8    \\\\\n",
       "\t 2014   & 1      & 1      &  659   &   4    &  954   &  14    & 0      & AA     & N3ELAA & 1263   & JFK    & LAS    & 322    & 2248   &  6     & 59    \\\\\n",
       "\t 2014   & 1      & 1      & 1227   &   2    & 1534   &  -1    & 0      & AA     & N635AA & 1697   & JFK    & MIA    & 164    & 1089   & 12     & 27    \\\\\n",
       "\t 2014   & 1      & 1      &  546   &   6    &  853   &   3    & 0      & AA     & N5CGAA & 2243   & JFK    & MIA    & 157    & 1089   &  5     & 46    \\\\\n",
       "\t 2014   & 1      & 1      & 1449   &  -6    & 1755   & -10    & 0      & AA     & N633AA & 2285   & JFK    & MCO    & 149    &  944   & 14     & 49    \\\\\n",
       "\t 2014   & 1      & 1      & 1736   &   6    & 2043   & -12    & 0      & AA     & N397AA & 2351   & JFK    & MIA    & 154    & 1089   & 17     & 36    \\\\\n",
       "\t 2014   & 1      & 1      & 1958   &  -2    & 2055   & -15    & 0      & AA     & N3JUAA & 2314   & JFK    & BOS    &  32    &  187   & 19     & 58    \\\\\n",
       "\t 2014   & 1      & 1      & 1754   &  24    & 2041   &  16    & 0      & AA     & N623AA & 2448   & JFK    & EGE    & 266    & 1746   & 17     & 54    \\\\\n",
       "\t 2014   & 1      & 1      &  647   &  -3    &  942   & -13    & 0      & AA     & N5CEAA & 2493   & JFK    & MCO    & 147    &  944   &  6     & 47    \\\\\n",
       "\t 2014   & 1      & 1      &  846   &  51    & 1100   &  60    & 0      & B6     & N318JB & 1273   & JFK    & CHS    & 109    &  636   &  8     & 46    \\\\\n",
       "\t 2014   & 1      & 1      & 1353   &  41    & 1657   &  51    & 0      & B6     & N318JB &  553   & JFK    & PBI    & 165    & 1028   & 13     & 53    \\\\\n",
       "\t 2014   & 1      & 1      & 2127   &  72    & 2215   &  49    & 0      & B6     & N318JB &  418   & JFK    & BOS    &  32    &  187   & 21     & 27    \\\\\n",
       "\t ⋮ & ⋮ & ⋮ & ⋮ & ⋮ & ⋮ & ⋮ & ⋮ & ⋮ & ⋮ & ⋮ & ⋮ & ⋮ & ⋮ & ⋮ & ⋮ & ⋮\\\\\n",
       "\t 2014   & 10     & 31     & 1629   &   0    & 1849   &  -4    & 0      & US     & N539UW &  639   & JFK    & PHX    & 288    & 2153   & 16     & 29    \\\\\n",
       "\t 2014   & 10     & 31     & 1034   &  -1    & 1242   & -11    & 0      & US     & N572UW &  679   & JFK    & PHX    & 285    & 2153   & 10     & 34    \\\\\n",
       "\t 2014   & 10     & 31     &  818   &  -2    & 1019   &  -1    & 0      & US     & N182UW & 1735   & JFK    & CLT    &  90    &  541   &  8     & 18    \\\\\n",
       "\t 2014   & 10     & 31     & 1157   &  -3    & 1356   &   2    & 0      & US     & N631AW & 2069   & JFK    & CLT    &  85    &  541   & 11     & 57    \\\\\n",
       "\t 2014   & 10     & 31     & 1653   &  -2    & 1901   &   9    & 0      & US     & N128UW & 2092   & JFK    & CLT    &  85    &  541   & 16     & 53    \\\\\n",
       "\t 2014   & 10     & 31     &  732   &   2    & 1045   & -15    & 0      & VX     & N837VA &   11   & JFK    & SFO    & 352    & 2586   &  7     & 32    \\\\\n",
       "\t 2014   & 10     & 31     & 1233   & 123    & 1555   & 120    & 0      & VX     & N847VA &   23   & JFK    & SFO    & 349    & 2586   & 12     & 33    \\\\\n",
       "\t 2014   & 10     & 31     &  943   &  -2    & 1220   & -10    & 0      & VX     & N845VA &  251   & JFK    & LAS    & 303    & 2248   &  9     & 43    \\\\\n",
       "\t 2014   & 10     & 31     & 1625   &  -5    & 2001   &  -9    & 0      & VX     & N853VA &   27   & JFK    & SFO    & 342    & 2586   & 16     & 25    \\\\\n",
       "\t 2014   & 10     & 31     & 1845   &  -5    & 2158   & -27    & 0      & VX     & N840VA &   29   & JFK    & SFO    & 347    & 2586   & 18     & 45    \\\\\n",
       "\t 2014   & 10     & 31     &  714   &  14    & 1010   &  -5    & 0      & VX     & N636VA &  399   & JFK    & LAX    & 326    & 2475   &  7     & 14    \\\\\n",
       "\t 2014   & 10     & 31     &  913   &  -7    & 1153   & -42    & 0      & VX     & N634VA &  407   & JFK    & LAX    & 318    & 2475   &  9     & 13    \\\\\n",
       "\t 2014   & 10     & 31     & 1259   &  -1    & 1548   & -22    & 0      & VX     & N625VA &  411   & JFK    & LAX    & 330    & 2475   & 12     & 59    \\\\\n",
       "\t 2014   & 10     & 31     & 1655   &   0    & 1949   & -26    & 0      & VX     & N843VA &  413   & JFK    & LAX    & 327    & 2475   & 16     & 55    \\\\\n",
       "\t 2014   & 10     & 31     & 2001   &  -4    & 2311   &  -9    & 0      & VX     & N624VA &  415   & JFK    & LAX    & 327    & 2475   & 20     &  1    \\\\\n",
       "\t 2014   & 10     & 31     & 1228   &  -7    & 1412   &   2    & 0      & MQ     & N853MQ & 3361   & JFK    & RDU    &  84    &  427   & 12     & 28    \\\\\n",
       "\t 2014   & 10     & 31     & 1723   &  -6    & 1821   & -28    & 0      & MQ     & N543MQ & 3365   & JFK    & DCA    &  40    &  213   & 17     & 23    \\\\\n",
       "\t 2014   & 10     & 31     &  815   &  -5    &  949   & -11    & 0      & MQ     & N853MQ & 3465   & JFK    & RDU    &  76    &  427   &  8     & 15    \\\\\n",
       "\t 2014   & 10     & 31     & 2024   &  24    & 2206   &  26    & 0      & MQ     & N817MQ & 3535   & JFK    & CMH    &  77    &  483   & 20     & 24    \\\\\n",
       "\t 2014   & 10     & 31     & 2137   &  -8    & 2227   & -33    & 0      & MQ     & N543MQ & 3621   & JFK    & DCA    &  37    &  213   & 21     & 37    \\\\\n",
       "\t 2014   & 10     & 31     & 1456   &  56    & 1757   &  21    & 0      & UA     & N505UA &  257   & JFK    & SFO    & 341    & 2586   & 14     & 56    \\\\\n",
       "\t 2014   & 10     & 31     &  601   &  -4    &  914   & -28    & 0      & UA     & N598UA &  415   & JFK    & SFO    & 347    & 2586   &  6     &  1    \\\\\n",
       "\t 2014   & 10     & 31     &  605   &   0    &  847   & -38    & 0      & UA     & N588UA &  441   & JFK    & LAX    & 320    & 2475   &  6     &  5    \\\\\n",
       "\t 2014   & 10     & 31     &  956   &  85    & 1251   &  62    & 0      & UA     & N595UA &  443   & JFK    & LAX    & 323    & 2475   &  9     & 56    \\\\\n",
       "\t 2014   & 10     & 31     & 1527   &  -2    & 1841   & -24    & 0      & UA     & N546UA &  510   & JFK    & SFO    & 349    & 2586   & 15     & 27    \\\\\n",
       "\t 2014   & 10     & 31     & 1705   &  -4    & 2024   & -21    & 0      & UA     & N596UA &  512   & JFK    & SFO    & 337    & 2586   & 17     &  5    \\\\\n",
       "\t 2014   & 10     & 31     & 1827   &  -2    & 2133   & -37    & 0      & UA     & N568UA &  514   & JFK    & SFO    & 344    & 2586   & 18     & 27    \\\\\n",
       "\t 2014   & 10     & 31     & 1753   &   0    & 2039   & -33    & 0      & UA     & N518UA &  535   & JFK    & LAX    & 320    & 2475   & 17     & 53    \\\\\n",
       "\t 2014   & 10     & 31     &  924   &  -6    & 1228   & -38    & 0      & UA     & N512UA &  541   & JFK    & SFO    & 343    & 2586   &  9     & 24    \\\\\n",
       "\t 2014   & 10     & 31     & 1124   &  -6    & 1408   & -38    & 0      & UA     & N590UA &  703   & JFK    & LAX    & 323    & 2475   & 11     & 24    \\\\\n",
       "\\end{tabular}\n"
      ],
      "text/markdown": [
       "\n",
       "year | month | day | dep_time | dep_delay | arr_time | arr_delay | cancelled | carrier | tailnum | flight | origin | dest | air_time | distance | hour | min | \n",
       "|---|---|---|---|---|---|---|---|---|---|---|---|---|---|---|---|---|---|---|---|---|---|---|---|---|---|---|---|---|---|---|---|---|---|---|---|---|---|---|---|---|---|---|---|---|---|---|---|---|---|---|---|---|---|---|---|---|---|---|---|---|\n",
       "| 2014   | 1      | 1      |  914   |  14    | 1238   |  13    | 0      | AA     | N338AA |    1   | JFK    | LAX    | 359    | 2475   |  9     | 14     | \n",
       "| 2014   | 1      | 1      | 1157   |  -3    | 1523   |  13    | 0      | AA     | N335AA |    3   | JFK    | LAX    | 363    | 2475   | 11     | 57     | \n",
       "| 2014   | 1      | 1      | 1902   |   2    | 2224   |   9    | 0      | AA     | N327AA |   21   | JFK    | LAX    | 351    | 2475   | 19     |  2     | \n",
       "| 2014   | 1      | 1      | 1347   |   2    | 1706   |   1    | 0      | AA     | N319AA |  117   | JFK    | LAX    | 350    | 2475   | 13     | 47     | \n",
       "| 2014   | 1      | 1      | 2133   |  -2    |   37   | -18    | 0      | AA     | N323AA |  185   | JFK    | LAX    | 338    | 2475   | 21     | 33     | \n",
       "| 2014   | 1      | 1      | 1542   |  -3    | 1906   | -14    | 0      | AA     | N328AA |  133   | JFK    | LAX    | 356    | 2475   | 15     | 42     | \n",
       "| 2014   | 1      | 1      | 1509   |  -1    | 1828   | -17    | 0      | AA     | N5FJAA |  145   | JFK    | MIA    | 161    | 1089   | 15     |  9     | \n",
       "| 2014   | 1      | 1      | 1848   |  -2    | 2206   | -14    | 0      | AA     | N3HYAA |  235   | JFK    | SEA    | 349    | 2422   | 18     | 48     | \n",
       "| 2014   | 1      | 1      | 1752   |   7    | 2120   |  -5    | 0      | AA     | N332AA |  177   | JFK    | SFO    | 365    | 2586   | 17     | 52     | \n",
       "| 2014   | 1      | 1      | 1253   |   3    | 1351   |   1    | 0      | AA     | N3JWAA |  178   | JFK    | BOS    |  39    |  187   | 12     | 53     | \n",
       "| 2014   | 1      | 1      | 1907   | 142    | 2223   | 133    | 0      | AA     | N336AA |  181   | JFK    | LAX    | 345    | 2475   | 19     |  7     | \n",
       "| 2014   | 1      | 1      | 1720   |  -5    | 1819   | -26    | 0      | AA     | N3BCAA |  256   | JFK    | BOS    |  35    |  187   | 17     | 20     | \n",
       "| 2014   | 1      | 1      | 1733   |  18    | 2024   |  69    | 0      | AA     | N3HPAA |  199   | JFK    | ORD    | 155    |  740   | 17     | 33     | \n",
       "| 2014   | 1      | 1      | 1640   |  25    | 2001   |  36    | 0      | AA     | N3HFAA |  211   | JFK    | IAH    | 234    | 1417   | 16     | 40     | \n",
       "| 2014   | 1      | 1      | 1714   |  -1    | 2036   |   1    | 0      | AA     | N3DVAA |  291   | JFK    | AUS    | 232    | 1521   | 17     | 14     | \n",
       "| 2014   | 1      | 1      |  750   |   0    | 1228   | -27    | 0      | AA     | N5FSAA |  936   | JFK    | STT    | 197    | 1623   |  7     | 50     | \n",
       "| 2014   | 1      | 1      | 1855   |  -5    | 2342   | -17    | 0      | AA     | N5CEAA | 1029   | JFK    | SJU    | 198    | 1598   | 18     | 55     | \n",
       "| 2014   | 1      | 1      |  917   |   7    | 1227   |  -8    | 0      | AA     | N5DWAA | 1085   | JFK    | MIA    | 166    | 1089   |  9     | 17     | \n",
       "| 2014   | 1      | 1      |  808   |   3    | 1248   | -16    | 0      | AA     | N357AA | 1357   | JFK    | SJU    | 194    | 1598   |  8     |  8     | \n",
       "| 2014   | 1      | 1      |  659   |   4    |  954   |  14    | 0      | AA     | N3ELAA | 1263   | JFK    | LAS    | 322    | 2248   |  6     | 59     | \n",
       "| 2014   | 1      | 1      | 1227   |   2    | 1534   |  -1    | 0      | AA     | N635AA | 1697   | JFK    | MIA    | 164    | 1089   | 12     | 27     | \n",
       "| 2014   | 1      | 1      |  546   |   6    |  853   |   3    | 0      | AA     | N5CGAA | 2243   | JFK    | MIA    | 157    | 1089   |  5     | 46     | \n",
       "| 2014   | 1      | 1      | 1449   |  -6    | 1755   | -10    | 0      | AA     | N633AA | 2285   | JFK    | MCO    | 149    |  944   | 14     | 49     | \n",
       "| 2014   | 1      | 1      | 1736   |   6    | 2043   | -12    | 0      | AA     | N397AA | 2351   | JFK    | MIA    | 154    | 1089   | 17     | 36     | \n",
       "| 2014   | 1      | 1      | 1958   |  -2    | 2055   | -15    | 0      | AA     | N3JUAA | 2314   | JFK    | BOS    |  32    |  187   | 19     | 58     | \n",
       "| 2014   | 1      | 1      | 1754   |  24    | 2041   |  16    | 0      | AA     | N623AA | 2448   | JFK    | EGE    | 266    | 1746   | 17     | 54     | \n",
       "| 2014   | 1      | 1      |  647   |  -3    |  942   | -13    | 0      | AA     | N5CEAA | 2493   | JFK    | MCO    | 147    |  944   |  6     | 47     | \n",
       "| 2014   | 1      | 1      |  846   |  51    | 1100   |  60    | 0      | B6     | N318JB | 1273   | JFK    | CHS    | 109    |  636   |  8     | 46     | \n",
       "| 2014   | 1      | 1      | 1353   |  41    | 1657   |  51    | 0      | B6     | N318JB |  553   | JFK    | PBI    | 165    | 1028   | 13     | 53     | \n",
       "| 2014   | 1      | 1      | 2127   |  72    | 2215   |  49    | 0      | B6     | N318JB |  418   | JFK    | BOS    |  32    |  187   | 21     | 27     | \n",
       "| ⋮ | ⋮ | ⋮ | ⋮ | ⋮ | ⋮ | ⋮ | ⋮ | ⋮ | ⋮ | ⋮ | ⋮ | ⋮ | ⋮ | ⋮ | ⋮ | ⋮ | \n",
       "| 2014   | 10     | 31     | 1629   |   0    | 1849   |  -4    | 0      | US     | N539UW |  639   | JFK    | PHX    | 288    | 2153   | 16     | 29     | \n",
       "| 2014   | 10     | 31     | 1034   |  -1    | 1242   | -11    | 0      | US     | N572UW |  679   | JFK    | PHX    | 285    | 2153   | 10     | 34     | \n",
       "| 2014   | 10     | 31     |  818   |  -2    | 1019   |  -1    | 0      | US     | N182UW | 1735   | JFK    | CLT    |  90    |  541   |  8     | 18     | \n",
       "| 2014   | 10     | 31     | 1157   |  -3    | 1356   |   2    | 0      | US     | N631AW | 2069   | JFK    | CLT    |  85    |  541   | 11     | 57     | \n",
       "| 2014   | 10     | 31     | 1653   |  -2    | 1901   |   9    | 0      | US     | N128UW | 2092   | JFK    | CLT    |  85    |  541   | 16     | 53     | \n",
       "| 2014   | 10     | 31     |  732   |   2    | 1045   | -15    | 0      | VX     | N837VA |   11   | JFK    | SFO    | 352    | 2586   |  7     | 32     | \n",
       "| 2014   | 10     | 31     | 1233   | 123    | 1555   | 120    | 0      | VX     | N847VA |   23   | JFK    | SFO    | 349    | 2586   | 12     | 33     | \n",
       "| 2014   | 10     | 31     |  943   |  -2    | 1220   | -10    | 0      | VX     | N845VA |  251   | JFK    | LAS    | 303    | 2248   |  9     | 43     | \n",
       "| 2014   | 10     | 31     | 1625   |  -5    | 2001   |  -9    | 0      | VX     | N853VA |   27   | JFK    | SFO    | 342    | 2586   | 16     | 25     | \n",
       "| 2014   | 10     | 31     | 1845   |  -5    | 2158   | -27    | 0      | VX     | N840VA |   29   | JFK    | SFO    | 347    | 2586   | 18     | 45     | \n",
       "| 2014   | 10     | 31     |  714   |  14    | 1010   |  -5    | 0      | VX     | N636VA |  399   | JFK    | LAX    | 326    | 2475   |  7     | 14     | \n",
       "| 2014   | 10     | 31     |  913   |  -7    | 1153   | -42    | 0      | VX     | N634VA |  407   | JFK    | LAX    | 318    | 2475   |  9     | 13     | \n",
       "| 2014   | 10     | 31     | 1259   |  -1    | 1548   | -22    | 0      | VX     | N625VA |  411   | JFK    | LAX    | 330    | 2475   | 12     | 59     | \n",
       "| 2014   | 10     | 31     | 1655   |   0    | 1949   | -26    | 0      | VX     | N843VA |  413   | JFK    | LAX    | 327    | 2475   | 16     | 55     | \n",
       "| 2014   | 10     | 31     | 2001   |  -4    | 2311   |  -9    | 0      | VX     | N624VA |  415   | JFK    | LAX    | 327    | 2475   | 20     |  1     | \n",
       "| 2014   | 10     | 31     | 1228   |  -7    | 1412   |   2    | 0      | MQ     | N853MQ | 3361   | JFK    | RDU    |  84    |  427   | 12     | 28     | \n",
       "| 2014   | 10     | 31     | 1723   |  -6    | 1821   | -28    | 0      | MQ     | N543MQ | 3365   | JFK    | DCA    |  40    |  213   | 17     | 23     | \n",
       "| 2014   | 10     | 31     |  815   |  -5    |  949   | -11    | 0      | MQ     | N853MQ | 3465   | JFK    | RDU    |  76    |  427   |  8     | 15     | \n",
       "| 2014   | 10     | 31     | 2024   |  24    | 2206   |  26    | 0      | MQ     | N817MQ | 3535   | JFK    | CMH    |  77    |  483   | 20     | 24     | \n",
       "| 2014   | 10     | 31     | 2137   |  -8    | 2227   | -33    | 0      | MQ     | N543MQ | 3621   | JFK    | DCA    |  37    |  213   | 21     | 37     | \n",
       "| 2014   | 10     | 31     | 1456   |  56    | 1757   |  21    | 0      | UA     | N505UA |  257   | JFK    | SFO    | 341    | 2586   | 14     | 56     | \n",
       "| 2014   | 10     | 31     |  601   |  -4    |  914   | -28    | 0      | UA     | N598UA |  415   | JFK    | SFO    | 347    | 2586   |  6     |  1     | \n",
       "| 2014   | 10     | 31     |  605   |   0    |  847   | -38    | 0      | UA     | N588UA |  441   | JFK    | LAX    | 320    | 2475   |  6     |  5     | \n",
       "| 2014   | 10     | 31     |  956   |  85    | 1251   |  62    | 0      | UA     | N595UA |  443   | JFK    | LAX    | 323    | 2475   |  9     | 56     | \n",
       "| 2014   | 10     | 31     | 1527   |  -2    | 1841   | -24    | 0      | UA     | N546UA |  510   | JFK    | SFO    | 349    | 2586   | 15     | 27     | \n",
       "| 2014   | 10     | 31     | 1705   |  -4    | 2024   | -21    | 0      | UA     | N596UA |  512   | JFK    | SFO    | 337    | 2586   | 17     |  5     | \n",
       "| 2014   | 10     | 31     | 1827   |  -2    | 2133   | -37    | 0      | UA     | N568UA |  514   | JFK    | SFO    | 344    | 2586   | 18     | 27     | \n",
       "| 2014   | 10     | 31     | 1753   |   0    | 2039   | -33    | 0      | UA     | N518UA |  535   | JFK    | LAX    | 320    | 2475   | 17     | 53     | \n",
       "| 2014   | 10     | 31     |  924   |  -6    | 1228   | -38    | 0      | UA     | N512UA |  541   | JFK    | SFO    | 343    | 2586   |  9     | 24     | \n",
       "| 2014   | 10     | 31     | 1124   |  -6    | 1408   | -38    | 0      | UA     | N590UA |  703   | JFK    | LAX    | 323    | 2475   | 11     | 24     | \n",
       "\n",
       "\n"
      ],
      "text/plain": [
       "      year month day dep_time dep_delay arr_time arr_delay cancelled carrier\n",
       "1     2014 1     1    914      14       1238      13       0         AA     \n",
       "2     2014 1     1   1157      -3       1523      13       0         AA     \n",
       "3     2014 1     1   1902       2       2224       9       0         AA     \n",
       "4     2014 1     1   1347       2       1706       1       0         AA     \n",
       "5     2014 1     1   2133      -2         37     -18       0         AA     \n",
       "6     2014 1     1   1542      -3       1906     -14       0         AA     \n",
       "7     2014 1     1   1509      -1       1828     -17       0         AA     \n",
       "8     2014 1     1   1848      -2       2206     -14       0         AA     \n",
       "9     2014 1     1   1752       7       2120      -5       0         AA     \n",
       "10    2014 1     1   1253       3       1351       1       0         AA     \n",
       "11    2014 1     1   1907     142       2223     133       0         AA     \n",
       "12    2014 1     1   1720      -5       1819     -26       0         AA     \n",
       "13    2014 1     1   1733      18       2024      69       0         AA     \n",
       "14    2014 1     1   1640      25       2001      36       0         AA     \n",
       "15    2014 1     1   1714      -1       2036       1       0         AA     \n",
       "16    2014 1     1    750       0       1228     -27       0         AA     \n",
       "17    2014 1     1   1855      -5       2342     -17       0         AA     \n",
       "18    2014 1     1    917       7       1227      -8       0         AA     \n",
       "19    2014 1     1    808       3       1248     -16       0         AA     \n",
       "20    2014 1     1    659       4        954      14       0         AA     \n",
       "21    2014 1     1   1227       2       1534      -1       0         AA     \n",
       "22    2014 1     1    546       6        853       3       0         AA     \n",
       "23    2014 1     1   1449      -6       1755     -10       0         AA     \n",
       "24    2014 1     1   1736       6       2043     -12       0         AA     \n",
       "25    2014 1     1   1958      -2       2055     -15       0         AA     \n",
       "26    2014 1     1   1754      24       2041      16       0         AA     \n",
       "27    2014 1     1    647      -3        942     -13       0         AA     \n",
       "28    2014 1     1    846      51       1100      60       0         B6     \n",
       "29    2014 1     1   1353      41       1657      51       0         B6     \n",
       "30    2014 1     1   2127      72       2215      49       0         B6     \n",
       "⋮     ⋮    ⋮     ⋮   ⋮        ⋮         ⋮        ⋮         ⋮         ⋮      \n",
       "81454 2014 10    31  1629       0       1849      -4       0         US     \n",
       "81455 2014 10    31  1034      -1       1242     -11       0         US     \n",
       "81456 2014 10    31   818      -2       1019      -1       0         US     \n",
       "81457 2014 10    31  1157      -3       1356       2       0         US     \n",
       "81458 2014 10    31  1653      -2       1901       9       0         US     \n",
       "81459 2014 10    31   732       2       1045     -15       0         VX     \n",
       "81460 2014 10    31  1233     123       1555     120       0         VX     \n",
       "81461 2014 10    31   943      -2       1220     -10       0         VX     \n",
       "81462 2014 10    31  1625      -5       2001      -9       0         VX     \n",
       "81463 2014 10    31  1845      -5       2158     -27       0         VX     \n",
       "81464 2014 10    31   714      14       1010      -5       0         VX     \n",
       "81465 2014 10    31   913      -7       1153     -42       0         VX     \n",
       "81466 2014 10    31  1259      -1       1548     -22       0         VX     \n",
       "81467 2014 10    31  1655       0       1949     -26       0         VX     \n",
       "81468 2014 10    31  2001      -4       2311      -9       0         VX     \n",
       "81469 2014 10    31  1228      -7       1412       2       0         MQ     \n",
       "81470 2014 10    31  1723      -6       1821     -28       0         MQ     \n",
       "81471 2014 10    31   815      -5        949     -11       0         MQ     \n",
       "81472 2014 10    31  2024      24       2206      26       0         MQ     \n",
       "81473 2014 10    31  2137      -8       2227     -33       0         MQ     \n",
       "81474 2014 10    31  1456      56       1757      21       0         UA     \n",
       "81475 2014 10    31   601      -4        914     -28       0         UA     \n",
       "81476 2014 10    31   605       0        847     -38       0         UA     \n",
       "81477 2014 10    31   956      85       1251      62       0         UA     \n",
       "81478 2014 10    31  1527      -2       1841     -24       0         UA     \n",
       "81479 2014 10    31  1705      -4       2024     -21       0         UA     \n",
       "81480 2014 10    31  1827      -2       2133     -37       0         UA     \n",
       "81481 2014 10    31  1753       0       2039     -33       0         UA     \n",
       "81482 2014 10    31   924      -6       1228     -38       0         UA     \n",
       "81483 2014 10    31  1124      -6       1408     -38       0         UA     \n",
       "      tailnum flight origin dest air_time distance hour min\n",
       "1     N338AA     1   JFK    LAX  359      2475      9   14 \n",
       "2     N335AA     3   JFK    LAX  363      2475     11   57 \n",
       "3     N327AA    21   JFK    LAX  351      2475     19    2 \n",
       "4     N319AA   117   JFK    LAX  350      2475     13   47 \n",
       "5     N323AA   185   JFK    LAX  338      2475     21   33 \n",
       "6     N328AA   133   JFK    LAX  356      2475     15   42 \n",
       "7     N5FJAA   145   JFK    MIA  161      1089     15    9 \n",
       "8     N3HYAA   235   JFK    SEA  349      2422     18   48 \n",
       "9     N332AA   177   JFK    SFO  365      2586     17   52 \n",
       "10    N3JWAA   178   JFK    BOS   39       187     12   53 \n",
       "11    N336AA   181   JFK    LAX  345      2475     19    7 \n",
       "12    N3BCAA   256   JFK    BOS   35       187     17   20 \n",
       "13    N3HPAA   199   JFK    ORD  155       740     17   33 \n",
       "14    N3HFAA   211   JFK    IAH  234      1417     16   40 \n",
       "15    N3DVAA   291   JFK    AUS  232      1521     17   14 \n",
       "16    N5FSAA   936   JFK    STT  197      1623      7   50 \n",
       "17    N5CEAA  1029   JFK    SJU  198      1598     18   55 \n",
       "18    N5DWAA  1085   JFK    MIA  166      1089      9   17 \n",
       "19    N357AA  1357   JFK    SJU  194      1598      8    8 \n",
       "20    N3ELAA  1263   JFK    LAS  322      2248      6   59 \n",
       "21    N635AA  1697   JFK    MIA  164      1089     12   27 \n",
       "22    N5CGAA  2243   JFK    MIA  157      1089      5   46 \n",
       "23    N633AA  2285   JFK    MCO  149       944     14   49 \n",
       "24    N397AA  2351   JFK    MIA  154      1089     17   36 \n",
       "25    N3JUAA  2314   JFK    BOS   32       187     19   58 \n",
       "26    N623AA  2448   JFK    EGE  266      1746     17   54 \n",
       "27    N5CEAA  2493   JFK    MCO  147       944      6   47 \n",
       "28    N318JB  1273   JFK    CHS  109       636      8   46 \n",
       "29    N318JB   553   JFK    PBI  165      1028     13   53 \n",
       "30    N318JB   418   JFK    BOS   32       187     21   27 \n",
       "⋮     ⋮       ⋮      ⋮      ⋮    ⋮        ⋮        ⋮    ⋮  \n",
       "81454 N539UW   639   JFK    PHX  288      2153     16   29 \n",
       "81455 N572UW   679   JFK    PHX  285      2153     10   34 \n",
       "81456 N182UW  1735   JFK    CLT   90       541      8   18 \n",
       "81457 N631AW  2069   JFK    CLT   85       541     11   57 \n",
       "81458 N128UW  2092   JFK    CLT   85       541     16   53 \n",
       "81459 N837VA    11   JFK    SFO  352      2586      7   32 \n",
       "81460 N847VA    23   JFK    SFO  349      2586     12   33 \n",
       "81461 N845VA   251   JFK    LAS  303      2248      9   43 \n",
       "81462 N853VA    27   JFK    SFO  342      2586     16   25 \n",
       "81463 N840VA    29   JFK    SFO  347      2586     18   45 \n",
       "81464 N636VA   399   JFK    LAX  326      2475      7   14 \n",
       "81465 N634VA   407   JFK    LAX  318      2475      9   13 \n",
       "81466 N625VA   411   JFK    LAX  330      2475     12   59 \n",
       "81467 N843VA   413   JFK    LAX  327      2475     16   55 \n",
       "81468 N624VA   415   JFK    LAX  327      2475     20    1 \n",
       "81469 N853MQ  3361   JFK    RDU   84       427     12   28 \n",
       "81470 N543MQ  3365   JFK    DCA   40       213     17   23 \n",
       "81471 N853MQ  3465   JFK    RDU   76       427      8   15 \n",
       "81472 N817MQ  3535   JFK    CMH   77       483     20   24 \n",
       "81473 N543MQ  3621   JFK    DCA   37       213     21   37 \n",
       "81474 N505UA   257   JFK    SFO  341      2586     14   56 \n",
       "81475 N598UA   415   JFK    SFO  347      2586      6    1 \n",
       "81476 N588UA   441   JFK    LAX  320      2475      6    5 \n",
       "81477 N595UA   443   JFK    LAX  323      2475      9   56 \n",
       "81478 N546UA   510   JFK    SFO  349      2586     15   27 \n",
       "81479 N596UA   512   JFK    SFO  337      2586     17    5 \n",
       "81480 N568UA   514   JFK    SFO  344      2586     18   27 \n",
       "81481 N518UA   535   JFK    LAX  320      2475     17   53 \n",
       "81482 N512UA   541   JFK    SFO  343      2586      9   24 \n",
       "81483 N590UA   703   JFK    LAX  323      2475     11   24 "
      ]
     },
     "metadata": {},
     "output_type": "display_data"
    }
   ],
   "source": [
    "flights[\"JFK\", on = \"origin\"]"
   ]
  },
  {
   "cell_type": "markdown",
   "metadata": {},
   "source": [
    "If we had already created a secondary index, using setindex(), then on would reuse it instead of (re)computing it. We can see that by using verbose = TRUE:\n",
    "\n"
   ]
  },
  {
   "cell_type": "code",
   "execution_count": 7,
   "metadata": {
    "scrolled": true
   },
   "outputs": [
    {
     "name": "stdout",
     "output_type": "stream",
     "text": [
      "on= matches existing index, using index\n",
      "Starting bmerge ...done in 0.001 secs\n"
     ]
    },
    {
     "data": {
      "text/html": [
       "<table>\n",
       "<thead><tr><th scope=col>year</th><th scope=col>month</th><th scope=col>day</th><th scope=col>dep_time</th><th scope=col>dep_delay</th><th scope=col>arr_time</th><th scope=col>arr_delay</th><th scope=col>cancelled</th><th scope=col>carrier</th><th scope=col>tailnum</th><th scope=col>flight</th><th scope=col>origin</th><th scope=col>dest</th><th scope=col>air_time</th><th scope=col>distance</th><th scope=col>hour</th><th scope=col>min</th></tr></thead>\n",
       "<tbody>\n",
       "\t<tr><td>2014  </td><td>1     </td><td>1     </td><td> 914  </td><td>14    </td><td>1238  </td><td> 13   </td><td>0     </td><td>AA    </td><td>N338AA</td><td>  1   </td><td>JFK   </td><td>LAX   </td><td>359   </td><td>2475  </td><td> 9    </td><td>14    </td></tr>\n",
       "\t<tr><td>2014  </td><td>1     </td><td>1     </td><td>1157  </td><td>-3    </td><td>1523  </td><td> 13   </td><td>0     </td><td>AA    </td><td>N335AA</td><td>  3   </td><td>JFK   </td><td>LAX   </td><td>363   </td><td>2475  </td><td>11    </td><td>57    </td></tr>\n",
       "\t<tr><td>2014  </td><td>1     </td><td>1     </td><td>1902  </td><td> 2    </td><td>2224  </td><td>  9   </td><td>0     </td><td>AA    </td><td>N327AA</td><td> 21   </td><td>JFK   </td><td>LAX   </td><td>351   </td><td>2475  </td><td>19    </td><td> 2    </td></tr>\n",
       "\t<tr><td>2014  </td><td>1     </td><td>1     </td><td>1347  </td><td> 2    </td><td>1706  </td><td>  1   </td><td>0     </td><td>AA    </td><td>N319AA</td><td>117   </td><td>JFK   </td><td>LAX   </td><td>350   </td><td>2475  </td><td>13    </td><td>47    </td></tr>\n",
       "\t<tr><td>2014  </td><td>1     </td><td>1     </td><td>2133  </td><td>-2    </td><td>  37  </td><td>-18   </td><td>0     </td><td>AA    </td><td>N323AA</td><td>185   </td><td>JFK   </td><td>LAX   </td><td>338   </td><td>2475  </td><td>21    </td><td>33    </td></tr>\n",
       "</tbody>\n",
       "</table>\n"
      ],
      "text/latex": [
       "\\begin{tabular}{r|lllllllllllllllll}\n",
       " year & month & day & dep\\_time & dep\\_delay & arr\\_time & arr\\_delay & cancelled & carrier & tailnum & flight & origin & dest & air\\_time & distance & hour & min\\\\\n",
       "\\hline\n",
       "\t 2014   & 1      & 1      &  914   & 14     & 1238   &  13    & 0      & AA     & N338AA &   1    & JFK    & LAX    & 359    & 2475   &  9     & 14    \\\\\n",
       "\t 2014   & 1      & 1      & 1157   & -3     & 1523   &  13    & 0      & AA     & N335AA &   3    & JFK    & LAX    & 363    & 2475   & 11     & 57    \\\\\n",
       "\t 2014   & 1      & 1      & 1902   &  2     & 2224   &   9    & 0      & AA     & N327AA &  21    & JFK    & LAX    & 351    & 2475   & 19     &  2    \\\\\n",
       "\t 2014   & 1      & 1      & 1347   &  2     & 1706   &   1    & 0      & AA     & N319AA & 117    & JFK    & LAX    & 350    & 2475   & 13     & 47    \\\\\n",
       "\t 2014   & 1      & 1      & 2133   & -2     &   37   & -18    & 0      & AA     & N323AA & 185    & JFK    & LAX    & 338    & 2475   & 21     & 33    \\\\\n",
       "\\end{tabular}\n"
      ],
      "text/markdown": [
       "\n",
       "year | month | day | dep_time | dep_delay | arr_time | arr_delay | cancelled | carrier | tailnum | flight | origin | dest | air_time | distance | hour | min | \n",
       "|---|---|---|---|---|\n",
       "| 2014   | 1      | 1      |  914   | 14     | 1238   |  13    | 0      | AA     | N338AA |   1    | JFK    | LAX    | 359    | 2475   |  9     | 14     | \n",
       "| 2014   | 1      | 1      | 1157   | -3     | 1523   |  13    | 0      | AA     | N335AA |   3    | JFK    | LAX    | 363    | 2475   | 11     | 57     | \n",
       "| 2014   | 1      | 1      | 1902   |  2     | 2224   |   9    | 0      | AA     | N327AA |  21    | JFK    | LAX    | 351    | 2475   | 19     |  2     | \n",
       "| 2014   | 1      | 1      | 1347   |  2     | 1706   |   1    | 0      | AA     | N319AA | 117    | JFK    | LAX    | 350    | 2475   | 13     | 47     | \n",
       "| 2014   | 1      | 1      | 2133   | -2     |   37   | -18    | 0      | AA     | N323AA | 185    | JFK    | LAX    | 338    | 2475   | 21     | 33     | \n",
       "\n",
       "\n"
      ],
      "text/plain": [
       "  year month day dep_time dep_delay arr_time arr_delay cancelled carrier\n",
       "1 2014 1     1    914     14        1238      13       0         AA     \n",
       "2 2014 1     1   1157     -3        1523      13       0         AA     \n",
       "3 2014 1     1   1902      2        2224       9       0         AA     \n",
       "4 2014 1     1   1347      2        1706       1       0         AA     \n",
       "5 2014 1     1   2133     -2          37     -18       0         AA     \n",
       "  tailnum flight origin dest air_time distance hour min\n",
       "1 N338AA    1    JFK    LAX  359      2475      9   14 \n",
       "2 N335AA    3    JFK    LAX  363      2475     11   57 \n",
       "3 N327AA   21    JFK    LAX  351      2475     19    2 \n",
       "4 N319AA  117    JFK    LAX  350      2475     13   47 \n",
       "5 N323AA  185    JFK    LAX  338      2475     21   33 "
      ]
     },
     "metadata": {},
     "output_type": "display_data"
    }
   ],
   "source": [
    "setindex(flights, origin)\n",
    "flights[\"JFK\", on = \"origin\", verbose = TRUE][1:5]"
   ]
  },
  {
   "cell_type": "markdown",
   "metadata": {},
   "source": [
    "How can I subset based on origin and dest columns?\n",
    "\n",
    "For example, if we want to subset \"JFK\", \"LAX\" combination, then:"
   ]
  },
  {
   "cell_type": "code",
   "execution_count": 8,
   "metadata": {},
   "outputs": [
    {
     "data": {
      "text/html": [
       "<table>\n",
       "<thead><tr><th scope=col>year</th><th scope=col>month</th><th scope=col>day</th><th scope=col>dep_time</th><th scope=col>dep_delay</th><th scope=col>arr_time</th><th scope=col>arr_delay</th><th scope=col>cancelled</th><th scope=col>carrier</th><th scope=col>tailnum</th><th scope=col>flight</th><th scope=col>origin</th><th scope=col>dest</th><th scope=col>air_time</th><th scope=col>distance</th><th scope=col>hour</th><th scope=col>min</th></tr></thead>\n",
       "<tbody>\n",
       "\t<tr><td>2014  </td><td>1     </td><td>1     </td><td> 914  </td><td>14    </td><td>1238  </td><td> 13   </td><td>0     </td><td>AA    </td><td>N338AA</td><td>  1   </td><td>JFK   </td><td>LAX   </td><td>359   </td><td>2475  </td><td> 9    </td><td>14    </td></tr>\n",
       "\t<tr><td>2014  </td><td>1     </td><td>1     </td><td>1157  </td><td>-3    </td><td>1523  </td><td> 13   </td><td>0     </td><td>AA    </td><td>N335AA</td><td>  3   </td><td>JFK   </td><td>LAX   </td><td>363   </td><td>2475  </td><td>11    </td><td>57    </td></tr>\n",
       "\t<tr><td>2014  </td><td>1     </td><td>1     </td><td>1902  </td><td> 2    </td><td>2224  </td><td>  9   </td><td>0     </td><td>AA    </td><td>N327AA</td><td> 21   </td><td>JFK   </td><td>LAX   </td><td>351   </td><td>2475  </td><td>19    </td><td> 2    </td></tr>\n",
       "\t<tr><td>2014  </td><td>1     </td><td>1     </td><td>1347  </td><td> 2    </td><td>1706  </td><td>  1   </td><td>0     </td><td>AA    </td><td>N319AA</td><td>117   </td><td>JFK   </td><td>LAX   </td><td>350   </td><td>2475  </td><td>13    </td><td>47    </td></tr>\n",
       "\t<tr><td>2014  </td><td>1     </td><td>1     </td><td>2133  </td><td>-2    </td><td>  37  </td><td>-18   </td><td>0     </td><td>AA    </td><td>N323AA</td><td>185   </td><td>JFK   </td><td>LAX   </td><td>338   </td><td>2475  </td><td>21    </td><td>33    </td></tr>\n",
       "</tbody>\n",
       "</table>\n"
      ],
      "text/latex": [
       "\\begin{tabular}{r|lllllllllllllllll}\n",
       " year & month & day & dep\\_time & dep\\_delay & arr\\_time & arr\\_delay & cancelled & carrier & tailnum & flight & origin & dest & air\\_time & distance & hour & min\\\\\n",
       "\\hline\n",
       "\t 2014   & 1      & 1      &  914   & 14     & 1238   &  13    & 0      & AA     & N338AA &   1    & JFK    & LAX    & 359    & 2475   &  9     & 14    \\\\\n",
       "\t 2014   & 1      & 1      & 1157   & -3     & 1523   &  13    & 0      & AA     & N335AA &   3    & JFK    & LAX    & 363    & 2475   & 11     & 57    \\\\\n",
       "\t 2014   & 1      & 1      & 1902   &  2     & 2224   &   9    & 0      & AA     & N327AA &  21    & JFK    & LAX    & 351    & 2475   & 19     &  2    \\\\\n",
       "\t 2014   & 1      & 1      & 1347   &  2     & 1706   &   1    & 0      & AA     & N319AA & 117    & JFK    & LAX    & 350    & 2475   & 13     & 47    \\\\\n",
       "\t 2014   & 1      & 1      & 2133   & -2     &   37   & -18    & 0      & AA     & N323AA & 185    & JFK    & LAX    & 338    & 2475   & 21     & 33    \\\\\n",
       "\\end{tabular}\n"
      ],
      "text/markdown": [
       "\n",
       "year | month | day | dep_time | dep_delay | arr_time | arr_delay | cancelled | carrier | tailnum | flight | origin | dest | air_time | distance | hour | min | \n",
       "|---|---|---|---|---|\n",
       "| 2014   | 1      | 1      |  914   | 14     | 1238   |  13    | 0      | AA     | N338AA |   1    | JFK    | LAX    | 359    | 2475   |  9     | 14     | \n",
       "| 2014   | 1      | 1      | 1157   | -3     | 1523   |  13    | 0      | AA     | N335AA |   3    | JFK    | LAX    | 363    | 2475   | 11     | 57     | \n",
       "| 2014   | 1      | 1      | 1902   |  2     | 2224   |   9    | 0      | AA     | N327AA |  21    | JFK    | LAX    | 351    | 2475   | 19     |  2     | \n",
       "| 2014   | 1      | 1      | 1347   |  2     | 1706   |   1    | 0      | AA     | N319AA | 117    | JFK    | LAX    | 350    | 2475   | 13     | 47     | \n",
       "| 2014   | 1      | 1      | 2133   | -2     |   37   | -18    | 0      | AA     | N323AA | 185    | JFK    | LAX    | 338    | 2475   | 21     | 33     | \n",
       "\n",
       "\n"
      ],
      "text/plain": [
       "  year month day dep_time dep_delay arr_time arr_delay cancelled carrier\n",
       "1 2014 1     1    914     14        1238      13       0         AA     \n",
       "2 2014 1     1   1157     -3        1523      13       0         AA     \n",
       "3 2014 1     1   1902      2        2224       9       0         AA     \n",
       "4 2014 1     1   1347      2        1706       1       0         AA     \n",
       "5 2014 1     1   2133     -2          37     -18       0         AA     \n",
       "  tailnum flight origin dest air_time distance hour min\n",
       "1 N338AA    1    JFK    LAX  359      2475      9   14 \n",
       "2 N335AA    3    JFK    LAX  363      2475     11   57 \n",
       "3 N327AA   21    JFK    LAX  351      2475     19    2 \n",
       "4 N319AA  117    JFK    LAX  350      2475     13   47 \n",
       "5 N323AA  185    JFK    LAX  338      2475     21   33 "
      ]
     },
     "metadata": {},
     "output_type": "display_data"
    }
   ],
   "source": [
    "flights[.(\"JFK\", \"LAX\"), on = c(\"origin\", \"dest\")][1:5]"
   ]
  },
  {
   "cell_type": "markdown",
   "metadata": {},
   "source": [
    "## Select in j"
   ]
  },
  {
   "cell_type": "markdown",
   "metadata": {},
   "source": [
    "Return arr_delay column alone as a data.table corresponding to origin = \"LGA\" and dest = \"TPA\"\n",
    "\n"
   ]
  },
  {
   "cell_type": "code",
   "execution_count": 9,
   "metadata": {},
   "outputs": [
    {
     "data": {
      "text/html": [
       "<table>\n",
       "<thead><tr><th scope=col>arr_delay</th></tr></thead>\n",
       "<tbody>\n",
       "\t<tr><td>  1</td></tr>\n",
       "\t<tr><td> 14</td></tr>\n",
       "\t<tr><td>-17</td></tr>\n",
       "\t<tr><td> -4</td></tr>\n",
       "\t<tr><td>-12</td></tr>\n",
       "\t<tr><td> 94</td></tr>\n",
       "\t<tr><td>193</td></tr>\n",
       "\t<tr><td> 11</td></tr>\n",
       "\t<tr><td> 56</td></tr>\n",
       "\t<tr><td>  5</td></tr>\n",
       "\t<tr><td>115</td></tr>\n",
       "\t<tr><td> 78</td></tr>\n",
       "\t<tr><td> 52</td></tr>\n",
       "\t<tr><td> 43</td></tr>\n",
       "\t<tr><td>-19</td></tr>\n",
       "\t<tr><td> 19</td></tr>\n",
       "\t<tr><td> 12</td></tr>\n",
       "\t<tr><td>  7</td></tr>\n",
       "\t<tr><td> 19</td></tr>\n",
       "\t<tr><td>101</td></tr>\n",
       "\t<tr><td>486</td></tr>\n",
       "\t<tr><td>139</td></tr>\n",
       "\t<tr><td>104</td></tr>\n",
       "\t<tr><td>122</td></tr>\n",
       "\t<tr><td> 16</td></tr>\n",
       "\t<tr><td> 92</td></tr>\n",
       "\t<tr><td>  9</td></tr>\n",
       "\t<tr><td> 23</td></tr>\n",
       "\t<tr><td>165</td></tr>\n",
       "\t<tr><td> 14</td></tr>\n",
       "\t<tr><td>⋮</td></tr>\n",
       "\t<tr><td>-31</td></tr>\n",
       "\t<tr><td>-27</td></tr>\n",
       "\t<tr><td>-27</td></tr>\n",
       "\t<tr><td>-17</td></tr>\n",
       "\t<tr><td> -5</td></tr>\n",
       "\t<tr><td>-12</td></tr>\n",
       "\t<tr><td>-19</td></tr>\n",
       "\t<tr><td>-10</td></tr>\n",
       "\t<tr><td>-33</td></tr>\n",
       "\t<tr><td>-14</td></tr>\n",
       "\t<tr><td>-29</td></tr>\n",
       "\t<tr><td>-26</td></tr>\n",
       "\t<tr><td>-13</td></tr>\n",
       "\t<tr><td> -4</td></tr>\n",
       "\t<tr><td> -7</td></tr>\n",
       "\t<tr><td>  0</td></tr>\n",
       "\t<tr><td>-27</td></tr>\n",
       "\t<tr><td>  5</td></tr>\n",
       "\t<tr><td>-17</td></tr>\n",
       "\t<tr><td>-13</td></tr>\n",
       "\t<tr><td> -6</td></tr>\n",
       "\t<tr><td>  7</td></tr>\n",
       "\t<tr><td>-33</td></tr>\n",
       "\t<tr><td> -6</td></tr>\n",
       "\t<tr><td> -8</td></tr>\n",
       "\t<tr><td> 39</td></tr>\n",
       "\t<tr><td>-24</td></tr>\n",
       "\t<tr><td>-12</td></tr>\n",
       "\t<tr><td> 21</td></tr>\n",
       "\t<tr><td>-11</td></tr>\n",
       "</tbody>\n",
       "</table>\n"
      ],
      "text/latex": [
       "\\begin{tabular}{r|l}\n",
       " arr\\_delay\\\\\n",
       "\\hline\n",
       "\t   1\\\\\n",
       "\t  14\\\\\n",
       "\t -17\\\\\n",
       "\t  -4\\\\\n",
       "\t -12\\\\\n",
       "\t  94\\\\\n",
       "\t 193\\\\\n",
       "\t  11\\\\\n",
       "\t  56\\\\\n",
       "\t   5\\\\\n",
       "\t 115\\\\\n",
       "\t  78\\\\\n",
       "\t  52\\\\\n",
       "\t  43\\\\\n",
       "\t -19\\\\\n",
       "\t  19\\\\\n",
       "\t  12\\\\\n",
       "\t   7\\\\\n",
       "\t  19\\\\\n",
       "\t 101\\\\\n",
       "\t 486\\\\\n",
       "\t 139\\\\\n",
       "\t 104\\\\\n",
       "\t 122\\\\\n",
       "\t  16\\\\\n",
       "\t  92\\\\\n",
       "\t   9\\\\\n",
       "\t  23\\\\\n",
       "\t 165\\\\\n",
       "\t  14\\\\\n",
       "\t ⋮\\\\\n",
       "\t -31\\\\\n",
       "\t -27\\\\\n",
       "\t -27\\\\\n",
       "\t -17\\\\\n",
       "\t  -5\\\\\n",
       "\t -12\\\\\n",
       "\t -19\\\\\n",
       "\t -10\\\\\n",
       "\t -33\\\\\n",
       "\t -14\\\\\n",
       "\t -29\\\\\n",
       "\t -26\\\\\n",
       "\t -13\\\\\n",
       "\t  -4\\\\\n",
       "\t  -7\\\\\n",
       "\t   0\\\\\n",
       "\t -27\\\\\n",
       "\t   5\\\\\n",
       "\t -17\\\\\n",
       "\t -13\\\\\n",
       "\t  -6\\\\\n",
       "\t   7\\\\\n",
       "\t -33\\\\\n",
       "\t  -6\\\\\n",
       "\t  -8\\\\\n",
       "\t  39\\\\\n",
       "\t -24\\\\\n",
       "\t -12\\\\\n",
       "\t  21\\\\\n",
       "\t -11\\\\\n",
       "\\end{tabular}\n"
      ],
      "text/markdown": [
       "\n",
       "arr_delay | \n",
       "|---|---|---|---|---|---|---|---|---|---|---|---|---|---|---|---|---|---|---|---|---|---|---|---|---|---|---|---|---|---|---|---|---|---|---|---|---|---|---|---|---|---|---|---|---|---|---|---|---|---|---|---|---|---|---|---|---|---|---|---|---|\n",
       "|   1 | \n",
       "|  14 | \n",
       "| -17 | \n",
       "|  -4 | \n",
       "| -12 | \n",
       "|  94 | \n",
       "| 193 | \n",
       "|  11 | \n",
       "|  56 | \n",
       "|   5 | \n",
       "| 115 | \n",
       "|  78 | \n",
       "|  52 | \n",
       "|  43 | \n",
       "| -19 | \n",
       "|  19 | \n",
       "|  12 | \n",
       "|   7 | \n",
       "|  19 | \n",
       "| 101 | \n",
       "| 486 | \n",
       "| 139 | \n",
       "| 104 | \n",
       "| 122 | \n",
       "|  16 | \n",
       "|  92 | \n",
       "|   9 | \n",
       "|  23 | \n",
       "| 165 | \n",
       "|  14 | \n",
       "| ⋮ | \n",
       "| -31 | \n",
       "| -27 | \n",
       "| -27 | \n",
       "| -17 | \n",
       "|  -5 | \n",
       "| -12 | \n",
       "| -19 | \n",
       "| -10 | \n",
       "| -33 | \n",
       "| -14 | \n",
       "| -29 | \n",
       "| -26 | \n",
       "| -13 | \n",
       "|  -4 | \n",
       "|  -7 | \n",
       "|   0 | \n",
       "| -27 | \n",
       "|   5 | \n",
       "| -17 | \n",
       "| -13 | \n",
       "|  -6 | \n",
       "|   7 | \n",
       "| -33 | \n",
       "|  -6 | \n",
       "|  -8 | \n",
       "|  39 | \n",
       "| -24 | \n",
       "| -12 | \n",
       "|  21 | \n",
       "| -11 | \n",
       "\n",
       "\n"
      ],
      "text/plain": [
       "     arr_delay\n",
       "1      1      \n",
       "2     14      \n",
       "3    -17      \n",
       "4     -4      \n",
       "5    -12      \n",
       "6     94      \n",
       "7    193      \n",
       "8     11      \n",
       "9     56      \n",
       "10     5      \n",
       "11   115      \n",
       "12    78      \n",
       "13    52      \n",
       "14    43      \n",
       "15   -19      \n",
       "16    19      \n",
       "17    12      \n",
       "18     7      \n",
       "19    19      \n",
       "20   101      \n",
       "21   486      \n",
       "22   139      \n",
       "23   104      \n",
       "24   122      \n",
       "25    16      \n",
       "26    92      \n",
       "27     9      \n",
       "28    23      \n",
       "29   165      \n",
       "30    14      \n",
       "⋮    ⋮        \n",
       "1823 -31      \n",
       "1824 -27      \n",
       "1825 -27      \n",
       "1826 -17      \n",
       "1827  -5      \n",
       "1828 -12      \n",
       "1829 -19      \n",
       "1830 -10      \n",
       "1831 -33      \n",
       "1832 -14      \n",
       "1833 -29      \n",
       "1834 -26      \n",
       "1835 -13      \n",
       "1836  -4      \n",
       "1837  -7      \n",
       "1838   0      \n",
       "1839 -27      \n",
       "1840   5      \n",
       "1841 -17      \n",
       "1842 -13      \n",
       "1843  -6      \n",
       "1844   7      \n",
       "1845 -33      \n",
       "1846  -6      \n",
       "1847  -8      \n",
       "1848  39      \n",
       "1849 -24      \n",
       "1850 -12      \n",
       "1851  21      \n",
       "1852 -11      "
      ]
     },
     "metadata": {},
     "output_type": "display_data"
    }
   ],
   "source": [
    "flights[.(\"LGA\", \"TPA\"), .(arr_delay), on = c(\"origin\", \"dest\")]"
   ]
  },
  {
   "cell_type": "markdown",
   "metadata": {},
   "source": [
    "## Aggregation using \"by\""
   ]
  },
  {
   "cell_type": "markdown",
   "metadata": {},
   "source": [
    "Get the maximum departure delay for each month corresponding to origin = \"JFK\". Order the result by month\n"
   ]
  },
  {
   "cell_type": "code",
   "execution_count": 10,
   "metadata": {},
   "outputs": [
    {
     "data": {
      "text/html": [
       "<table>\n",
       "<thead><tr><th scope=col>month</th><th scope=col>V1</th></tr></thead>\n",
       "<tbody>\n",
       "\t<tr><td>1   </td><td> 881</td></tr>\n",
       "\t<tr><td>1   </td><td>1014</td></tr>\n",
       "\t<tr><td>1   </td><td> 920</td></tr>\n",
       "\t<tr><td>1   </td><td>1241</td></tr>\n",
       "\t<tr><td>1   </td><td> 853</td></tr>\n",
       "\t<tr><td>1   </td><td> 798</td></tr>\n",
       "</tbody>\n",
       "</table>\n"
      ],
      "text/latex": [
       "\\begin{tabular}{r|ll}\n",
       " month & V1\\\\\n",
       "\\hline\n",
       "\t 1    &  881\\\\\n",
       "\t 1    & 1014\\\\\n",
       "\t 1    &  920\\\\\n",
       "\t 1    & 1241\\\\\n",
       "\t 1    &  853\\\\\n",
       "\t 1    &  798\\\\\n",
       "\\end{tabular}\n"
      ],
      "text/markdown": [
       "\n",
       "month | V1 | \n",
       "|---|---|---|---|---|---|\n",
       "| 1    |  881 | \n",
       "| 1    | 1014 | \n",
       "| 1    |  920 | \n",
       "| 1    | 1241 | \n",
       "| 1    |  853 | \n",
       "| 1    |  798 | \n",
       "\n",
       "\n"
      ],
      "text/plain": [
       "  month V1  \n",
       "1 1      881\n",
       "2 1     1014\n",
       "3 1      920\n",
       "4 1     1241\n",
       "5 1      853\n",
       "6 1      798"
      ]
     },
     "metadata": {},
     "output_type": "display_data"
    }
   ],
   "source": [
    "ans <- flights[\"JFK\", max(dep_delay), keyby = month, on = \"origin\"]\n",
    "head(ans)"
   ]
  },
  {
   "cell_type": "markdown",
   "metadata": {},
   "source": [
    "## Auto indexing"
   ]
  },
  {
   "cell_type": "markdown",
   "metadata": {},
   "source": [
    "When we use == or %in% on a single column for the first time, a secondary index is created automtically, and it is used to perform the subset."
   ]
  },
  {
   "cell_type": "code",
   "execution_count": null,
   "metadata": {},
   "outputs": [],
   "source": []
  }
 ],
 "metadata": {
  "kernelspec": {
   "display_name": "R",
   "language": "R",
   "name": "ir"
  },
  "language_info": {
   "codemirror_mode": "r",
   "file_extension": ".r",
   "mimetype": "text/x-r-source",
   "name": "R",
   "pygments_lexer": "r",
   "version": "3.4.3"
  },
  "toc": {
   "nav_menu": {},
   "number_sections": true,
   "sideBar": true,
   "skip_h1_title": false,
   "toc_cell": false,
   "toc_position": {},
   "toc_section_display": "block",
   "toc_window_display": true
  }
 },
 "nbformat": 4,
 "nbformat_minor": 2
}

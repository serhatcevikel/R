{
 "cells": [
  {
   "cell_type": "markdown",
   "metadata": {},
   "source": [
    "# Default functionality"
   ]
  },
  {
   "cell_type": "code",
   "execution_count": 1,
   "metadata": {},
   "outputs": [],
   "source": [
    "library(data.table)"
   ]
  },
  {
   "cell_type": "code",
   "execution_count": 2,
   "metadata": {},
   "outputs": [],
   "source": [
    "DT <- fread(\"melt_default.csv\")"
   ]
  },
  {
   "cell_type": "code",
   "execution_count": 3,
   "metadata": {},
   "outputs": [
    {
     "data": {
      "text/html": [
       "<table>\n",
       "<thead><tr><th scope=col>family_id</th><th scope=col>age_mother</th><th scope=col>dob_child1</th><th scope=col>dob_child2</th><th scope=col>dob_child3</th></tr></thead>\n",
       "<tbody>\n",
       "\t<tr><td>1         </td><td>30        </td><td>1998-11-26</td><td>2000-01-29</td><td>NA        </td></tr>\n",
       "\t<tr><td>2         </td><td>27        </td><td>1996-06-22</td><td>NA        </td><td>NA        </td></tr>\n",
       "\t<tr><td>3         </td><td>26        </td><td>2002-07-11</td><td>2004-04-05</td><td>2007-09-02</td></tr>\n",
       "\t<tr><td>4         </td><td>32        </td><td>2004-10-10</td><td>2009-08-27</td><td>2012-07-21</td></tr>\n",
       "\t<tr><td>5         </td><td>29        </td><td>2000-12-05</td><td>2005-02-28</td><td>NA        </td></tr>\n",
       "</tbody>\n",
       "</table>\n"
      ],
      "text/latex": [
       "\\begin{tabular}{r|lllll}\n",
       " family\\_id & age\\_mother & dob\\_child1 & dob\\_child2 & dob\\_child3\\\\\n",
       "\\hline\n",
       "\t 1          & 30         & 1998-11-26 & 2000-01-29 & NA        \\\\\n",
       "\t 2          & 27         & 1996-06-22 & NA         & NA        \\\\\n",
       "\t 3          & 26         & 2002-07-11 & 2004-04-05 & 2007-09-02\\\\\n",
       "\t 4          & 32         & 2004-10-10 & 2009-08-27 & 2012-07-21\\\\\n",
       "\t 5          & 29         & 2000-12-05 & 2005-02-28 & NA        \\\\\n",
       "\\end{tabular}\n"
      ],
      "text/markdown": [
       "\n",
       "family_id | age_mother | dob_child1 | dob_child2 | dob_child3 | \n",
       "|---|---|---|---|---|\n",
       "| 1          | 30         | 1998-11-26 | 2000-01-29 | NA         | \n",
       "| 2          | 27         | 1996-06-22 | NA         | NA         | \n",
       "| 3          | 26         | 2002-07-11 | 2004-04-05 | 2007-09-02 | \n",
       "| 4          | 32         | 2004-10-10 | 2009-08-27 | 2012-07-21 | \n",
       "| 5          | 29         | 2000-12-05 | 2005-02-28 | NA         | \n",
       "\n",
       "\n"
      ],
      "text/plain": [
       "  family_id age_mother dob_child1 dob_child2 dob_child3\n",
       "1 1         30         1998-11-26 2000-01-29 NA        \n",
       "2 2         27         1996-06-22 NA         NA        \n",
       "3 3         26         2002-07-11 2004-04-05 2007-09-02\n",
       "4 4         32         2004-10-10 2009-08-27 2012-07-21\n",
       "5 5         29         2000-12-05 2005-02-28 NA        "
      ]
     },
     "metadata": {},
     "output_type": "display_data"
    }
   ],
   "source": [
    "DT"
   ]
  },
  {
   "cell_type": "code",
   "execution_count": 4,
   "metadata": {},
   "outputs": [
    {
     "name": "stdout",
     "output_type": "stream",
     "text": [
      "Classes ‘data.table’ and 'data.frame':\t5 obs. of  5 variables:\n",
      " $ family_id : int  1 2 3 4 5\n",
      " $ age_mother: int  30 27 26 32 29\n",
      " $ dob_child1: chr  \"1998-11-26\" \"1996-06-22\" \"2002-07-11\" \"2004-10-10\" ...\n",
      " $ dob_child2: chr  \"2000-01-29\" NA \"2004-04-05\" \"2009-08-27\" ...\n",
      " $ dob_child3: chr  NA NA \"2007-09-02\" \"2012-07-21\" ...\n",
      " - attr(*, \".internal.selfref\")=<externalptr> \n"
     ]
    }
   ],
   "source": [
    "str(DT)"
   ]
  },
  {
   "cell_type": "markdown",
   "metadata": {},
   "source": [
    "Convert DT to long form where each dob is a separate observation."
   ]
  },
  {
   "cell_type": "code",
   "execution_count": 5,
   "metadata": {},
   "outputs": [],
   "source": [
    "DT.m1 = melt(DT, id.vars = c(\"family_id\", \"age_mother\"),\n",
    "                measure.vars = c(\"dob_child1\", \"dob_child2\", \"dob_child3\"))"
   ]
  },
  {
   "cell_type": "code",
   "execution_count": 6,
   "metadata": {},
   "outputs": [
    {
     "data": {
      "text/html": [
       "<table>\n",
       "<thead><tr><th scope=col>family_id</th><th scope=col>age_mother</th><th scope=col>variable</th><th scope=col>value</th></tr></thead>\n",
       "<tbody>\n",
       "\t<tr><td>1         </td><td>30        </td><td>dob_child1</td><td>1998-11-26</td></tr>\n",
       "\t<tr><td>2         </td><td>27        </td><td>dob_child1</td><td>1996-06-22</td></tr>\n",
       "\t<tr><td>3         </td><td>26        </td><td>dob_child1</td><td>2002-07-11</td></tr>\n",
       "\t<tr><td>4         </td><td>32        </td><td>dob_child1</td><td>2004-10-10</td></tr>\n",
       "\t<tr><td>5         </td><td>29        </td><td>dob_child1</td><td>2000-12-05</td></tr>\n",
       "\t<tr><td>1         </td><td>30        </td><td>dob_child2</td><td>2000-01-29</td></tr>\n",
       "\t<tr><td>2         </td><td>27        </td><td>dob_child2</td><td>NA        </td></tr>\n",
       "\t<tr><td>3         </td><td>26        </td><td>dob_child2</td><td>2004-04-05</td></tr>\n",
       "\t<tr><td>4         </td><td>32        </td><td>dob_child2</td><td>2009-08-27</td></tr>\n",
       "\t<tr><td>5         </td><td>29        </td><td>dob_child2</td><td>2005-02-28</td></tr>\n",
       "\t<tr><td>1         </td><td>30        </td><td>dob_child3</td><td>NA        </td></tr>\n",
       "\t<tr><td>2         </td><td>27        </td><td>dob_child3</td><td>NA        </td></tr>\n",
       "\t<tr><td>3         </td><td>26        </td><td>dob_child3</td><td>2007-09-02</td></tr>\n",
       "\t<tr><td>4         </td><td>32        </td><td>dob_child3</td><td>2012-07-21</td></tr>\n",
       "\t<tr><td>5         </td><td>29        </td><td>dob_child3</td><td>NA        </td></tr>\n",
       "</tbody>\n",
       "</table>\n"
      ],
      "text/latex": [
       "\\begin{tabular}{r|llll}\n",
       " family\\_id & age\\_mother & variable & value\\\\\n",
       "\\hline\n",
       "\t 1            & 30           & dob\\_child1 & 1998-11-26  \\\\\n",
       "\t 2            & 27           & dob\\_child1 & 1996-06-22  \\\\\n",
       "\t 3            & 26           & dob\\_child1 & 2002-07-11  \\\\\n",
       "\t 4            & 32           & dob\\_child1 & 2004-10-10  \\\\\n",
       "\t 5            & 29           & dob\\_child1 & 2000-12-05  \\\\\n",
       "\t 1            & 30           & dob\\_child2 & 2000-01-29  \\\\\n",
       "\t 2            & 27           & dob\\_child2 & NA          \\\\\n",
       "\t 3            & 26           & dob\\_child2 & 2004-04-05  \\\\\n",
       "\t 4            & 32           & dob\\_child2 & 2009-08-27  \\\\\n",
       "\t 5            & 29           & dob\\_child2 & 2005-02-28  \\\\\n",
       "\t 1            & 30           & dob\\_child3 & NA          \\\\\n",
       "\t 2            & 27           & dob\\_child3 & NA          \\\\\n",
       "\t 3            & 26           & dob\\_child3 & 2007-09-02  \\\\\n",
       "\t 4            & 32           & dob\\_child3 & 2012-07-21  \\\\\n",
       "\t 5            & 29           & dob\\_child3 & NA          \\\\\n",
       "\\end{tabular}\n"
      ],
      "text/markdown": [
       "\n",
       "family_id | age_mother | variable | value | \n",
       "|---|---|---|---|---|---|---|---|---|---|---|---|---|---|---|\n",
       "| 1          | 30         | dob_child1 | 1998-11-26 | \n",
       "| 2          | 27         | dob_child1 | 1996-06-22 | \n",
       "| 3          | 26         | dob_child1 | 2002-07-11 | \n",
       "| 4          | 32         | dob_child1 | 2004-10-10 | \n",
       "| 5          | 29         | dob_child1 | 2000-12-05 | \n",
       "| 1          | 30         | dob_child2 | 2000-01-29 | \n",
       "| 2          | 27         | dob_child2 | NA         | \n",
       "| 3          | 26         | dob_child2 | 2004-04-05 | \n",
       "| 4          | 32         | dob_child2 | 2009-08-27 | \n",
       "| 5          | 29         | dob_child2 | 2005-02-28 | \n",
       "| 1          | 30         | dob_child3 | NA         | \n",
       "| 2          | 27         | dob_child3 | NA         | \n",
       "| 3          | 26         | dob_child3 | 2007-09-02 | \n",
       "| 4          | 32         | dob_child3 | 2012-07-21 | \n",
       "| 5          | 29         | dob_child3 | NA         | \n",
       "\n",
       "\n"
      ],
      "text/plain": [
       "   family_id age_mother variable   value     \n",
       "1  1         30         dob_child1 1998-11-26\n",
       "2  2         27         dob_child1 1996-06-22\n",
       "3  3         26         dob_child1 2002-07-11\n",
       "4  4         32         dob_child1 2004-10-10\n",
       "5  5         29         dob_child1 2000-12-05\n",
       "6  1         30         dob_child2 2000-01-29\n",
       "7  2         27         dob_child2 NA        \n",
       "8  3         26         dob_child2 2004-04-05\n",
       "9  4         32         dob_child2 2009-08-27\n",
       "10 5         29         dob_child2 2005-02-28\n",
       "11 1         30         dob_child3 NA        \n",
       "12 2         27         dob_child3 NA        \n",
       "13 3         26         dob_child3 2007-09-02\n",
       "14 4         32         dob_child3 2012-07-21\n",
       "15 5         29         dob_child3 NA        "
      ]
     },
     "metadata": {},
     "output_type": "display_data"
    }
   ],
   "source": [
    "DT.m1"
   ]
  },
  {
   "cell_type": "code",
   "execution_count": 7,
   "metadata": {},
   "outputs": [
    {
     "name": "stdout",
     "output_type": "stream",
     "text": [
      "Classes ‘data.table’ and 'data.frame':\t15 obs. of  4 variables:\n",
      " $ family_id : int  1 2 3 4 5 1 2 3 4 5 ...\n",
      " $ age_mother: int  30 27 26 32 29 30 27 26 32 29 ...\n",
      " $ variable  : Factor w/ 3 levels \"dob_child1\",\"dob_child2\",..: 1 1 1 1 1 2 2 2 2 2 ...\n",
      " $ value     : chr  \"1998-11-26\" \"1996-06-22\" \"2002-07-11\" \"2004-10-10\" ...\n",
      " - attr(*, \".internal.selfref\")=<externalptr> \n"
     ]
    }
   ],
   "source": [
    "str(DT.m1)"
   ]
  },
  {
   "cell_type": "markdown",
   "metadata": {},
   "source": [
    "- measure.vars specify the set of columns we would like to collapse (or combine) together.\n",
    "- We can also specify column indices instead of names.\n",
    "- By default, variable column is of type factor. Set variable.factor argument to FALSE if you'd like to return a character vector instead. variable.factor argument is only available in melt from data.table and not in the reshape2 package.\n",
    "- By default, the molten columns are automatically named variable and value.\n",
    "- melt preserves column attributes in result.\n"
   ]
  },
  {
   "cell_type": "markdown",
   "metadata": {},
   "source": [
    "Name the variable and value columns to child and dob respectively"
   ]
  },
  {
   "cell_type": "code",
   "execution_count": 8,
   "metadata": {},
   "outputs": [
    {
     "data": {
      "text/html": [
       "<table>\n",
       "<thead><tr><th scope=col>family_id</th><th scope=col>age_mother</th><th scope=col>child</th><th scope=col>dob</th></tr></thead>\n",
       "<tbody>\n",
       "\t<tr><td>1         </td><td>30        </td><td>dob_child1</td><td>1998-11-26</td></tr>\n",
       "\t<tr><td>2         </td><td>27        </td><td>dob_child1</td><td>1996-06-22</td></tr>\n",
       "\t<tr><td>3         </td><td>26        </td><td>dob_child1</td><td>2002-07-11</td></tr>\n",
       "\t<tr><td>4         </td><td>32        </td><td>dob_child1</td><td>2004-10-10</td></tr>\n",
       "\t<tr><td>5         </td><td>29        </td><td>dob_child1</td><td>2000-12-05</td></tr>\n",
       "\t<tr><td>1         </td><td>30        </td><td>dob_child2</td><td>2000-01-29</td></tr>\n",
       "\t<tr><td>2         </td><td>27        </td><td>dob_child2</td><td>NA        </td></tr>\n",
       "\t<tr><td>3         </td><td>26        </td><td>dob_child2</td><td>2004-04-05</td></tr>\n",
       "\t<tr><td>4         </td><td>32        </td><td>dob_child2</td><td>2009-08-27</td></tr>\n",
       "\t<tr><td>5         </td><td>29        </td><td>dob_child2</td><td>2005-02-28</td></tr>\n",
       "\t<tr><td>1         </td><td>30        </td><td>dob_child3</td><td>NA        </td></tr>\n",
       "\t<tr><td>2         </td><td>27        </td><td>dob_child3</td><td>NA        </td></tr>\n",
       "\t<tr><td>3         </td><td>26        </td><td>dob_child3</td><td>2007-09-02</td></tr>\n",
       "\t<tr><td>4         </td><td>32        </td><td>dob_child3</td><td>2012-07-21</td></tr>\n",
       "\t<tr><td>5         </td><td>29        </td><td>dob_child3</td><td>NA        </td></tr>\n",
       "</tbody>\n",
       "</table>\n"
      ],
      "text/latex": [
       "\\begin{tabular}{r|llll}\n",
       " family\\_id & age\\_mother & child & dob\\\\\n",
       "\\hline\n",
       "\t 1            & 30           & dob\\_child1 & 1998-11-26  \\\\\n",
       "\t 2            & 27           & dob\\_child1 & 1996-06-22  \\\\\n",
       "\t 3            & 26           & dob\\_child1 & 2002-07-11  \\\\\n",
       "\t 4            & 32           & dob\\_child1 & 2004-10-10  \\\\\n",
       "\t 5            & 29           & dob\\_child1 & 2000-12-05  \\\\\n",
       "\t 1            & 30           & dob\\_child2 & 2000-01-29  \\\\\n",
       "\t 2            & 27           & dob\\_child2 & NA          \\\\\n",
       "\t 3            & 26           & dob\\_child2 & 2004-04-05  \\\\\n",
       "\t 4            & 32           & dob\\_child2 & 2009-08-27  \\\\\n",
       "\t 5            & 29           & dob\\_child2 & 2005-02-28  \\\\\n",
       "\t 1            & 30           & dob\\_child3 & NA          \\\\\n",
       "\t 2            & 27           & dob\\_child3 & NA          \\\\\n",
       "\t 3            & 26           & dob\\_child3 & 2007-09-02  \\\\\n",
       "\t 4            & 32           & dob\\_child3 & 2012-07-21  \\\\\n",
       "\t 5            & 29           & dob\\_child3 & NA          \\\\\n",
       "\\end{tabular}\n"
      ],
      "text/markdown": [
       "\n",
       "family_id | age_mother | child | dob | \n",
       "|---|---|---|---|---|---|---|---|---|---|---|---|---|---|---|\n",
       "| 1          | 30         | dob_child1 | 1998-11-26 | \n",
       "| 2          | 27         | dob_child1 | 1996-06-22 | \n",
       "| 3          | 26         | dob_child1 | 2002-07-11 | \n",
       "| 4          | 32         | dob_child1 | 2004-10-10 | \n",
       "| 5          | 29         | dob_child1 | 2000-12-05 | \n",
       "| 1          | 30         | dob_child2 | 2000-01-29 | \n",
       "| 2          | 27         | dob_child2 | NA         | \n",
       "| 3          | 26         | dob_child2 | 2004-04-05 | \n",
       "| 4          | 32         | dob_child2 | 2009-08-27 | \n",
       "| 5          | 29         | dob_child2 | 2005-02-28 | \n",
       "| 1          | 30         | dob_child3 | NA         | \n",
       "| 2          | 27         | dob_child3 | NA         | \n",
       "| 3          | 26         | dob_child3 | 2007-09-02 | \n",
       "| 4          | 32         | dob_child3 | 2012-07-21 | \n",
       "| 5          | 29         | dob_child3 | NA         | \n",
       "\n",
       "\n"
      ],
      "text/plain": [
       "   family_id age_mother child      dob       \n",
       "1  1         30         dob_child1 1998-11-26\n",
       "2  2         27         dob_child1 1996-06-22\n",
       "3  3         26         dob_child1 2002-07-11\n",
       "4  4         32         dob_child1 2004-10-10\n",
       "5  5         29         dob_child1 2000-12-05\n",
       "6  1         30         dob_child2 2000-01-29\n",
       "7  2         27         dob_child2 NA        \n",
       "8  3         26         dob_child2 2004-04-05\n",
       "9  4         32         dob_child2 2009-08-27\n",
       "10 5         29         dob_child2 2005-02-28\n",
       "11 1         30         dob_child3 NA        \n",
       "12 2         27         dob_child3 NA        \n",
       "13 3         26         dob_child3 2007-09-02\n",
       "14 4         32         dob_child3 2012-07-21\n",
       "15 5         29         dob_child3 NA        "
      ]
     },
     "metadata": {},
     "output_type": "display_data"
    }
   ],
   "source": [
    "DT.m1 = melt(DT, measure.vars = c(\"dob_child1\", \"dob_child2\", \"dob_child3\"),\n",
    "               variable.name = \"child\", value.name = \"dob\")\n",
    "DT.m1"
   ]
  },
  {
   "cell_type": "markdown",
   "metadata": {},
   "source": [
    "That is, we'd like to collect all child observations corresponding to each family_id, age_mother together under the same row. We can accomplish it using dcast as follows:"
   ]
  },
  {
   "cell_type": "code",
   "execution_count": 9,
   "metadata": {},
   "outputs": [
    {
     "data": {
      "text/html": [
       "<table>\n",
       "<thead><tr><th scope=col>family_id</th><th scope=col>age_mother</th><th scope=col>dob_child1</th><th scope=col>dob_child2</th><th scope=col>dob_child3</th></tr></thead>\n",
       "<tbody>\n",
       "\t<tr><td>1         </td><td>30        </td><td>1998-11-26</td><td>2000-01-29</td><td>NA        </td></tr>\n",
       "\t<tr><td>2         </td><td>27        </td><td>1996-06-22</td><td>NA        </td><td>NA        </td></tr>\n",
       "\t<tr><td>3         </td><td>26        </td><td>2002-07-11</td><td>2004-04-05</td><td>2007-09-02</td></tr>\n",
       "\t<tr><td>4         </td><td>32        </td><td>2004-10-10</td><td>2009-08-27</td><td>2012-07-21</td></tr>\n",
       "\t<tr><td>5         </td><td>29        </td><td>2000-12-05</td><td>2005-02-28</td><td>NA        </td></tr>\n",
       "</tbody>\n",
       "</table>\n"
      ],
      "text/latex": [
       "\\begin{tabular}{r|lllll}\n",
       " family\\_id & age\\_mother & dob\\_child1 & dob\\_child2 & dob\\_child3\\\\\n",
       "\\hline\n",
       "\t 1          & 30         & 1998-11-26 & 2000-01-29 & NA        \\\\\n",
       "\t 2          & 27         & 1996-06-22 & NA         & NA        \\\\\n",
       "\t 3          & 26         & 2002-07-11 & 2004-04-05 & 2007-09-02\\\\\n",
       "\t 4          & 32         & 2004-10-10 & 2009-08-27 & 2012-07-21\\\\\n",
       "\t 5          & 29         & 2000-12-05 & 2005-02-28 & NA        \\\\\n",
       "\\end{tabular}\n"
      ],
      "text/markdown": [
       "\n",
       "family_id | age_mother | dob_child1 | dob_child2 | dob_child3 | \n",
       "|---|---|---|---|---|\n",
       "| 1          | 30         | 1998-11-26 | 2000-01-29 | NA         | \n",
       "| 2          | 27         | 1996-06-22 | NA         | NA         | \n",
       "| 3          | 26         | 2002-07-11 | 2004-04-05 | 2007-09-02 | \n",
       "| 4          | 32         | 2004-10-10 | 2009-08-27 | 2012-07-21 | \n",
       "| 5          | 29         | 2000-12-05 | 2005-02-28 | NA         | \n",
       "\n",
       "\n"
      ],
      "text/plain": [
       "  family_id age_mother dob_child1 dob_child2 dob_child3\n",
       "1 1         30         1998-11-26 2000-01-29 NA        \n",
       "2 2         27         1996-06-22 NA         NA        \n",
       "3 3         26         2002-07-11 2004-04-05 2007-09-02\n",
       "4 4         32         2004-10-10 2009-08-27 2012-07-21\n",
       "5 5         29         2000-12-05 2005-02-28 NA        "
      ]
     },
     "metadata": {},
     "output_type": "display_data"
    }
   ],
   "source": [
    "dcast(DT.m1, family_id + age_mother ~ child, value.var = \"dob\")"
   ]
  },
  {
   "cell_type": "code",
   "execution_count": 14,
   "metadata": {},
   "outputs": [
    {
     "data": {
      "text/plain": [
       "family_id ~ child"
      ]
     },
     "metadata": {},
     "output_type": "display_data"
    }
   ],
   "source": [
    "namess <- DT.m1[,names(.SD)]\n",
    "reformulate(namess[3], namess[1:2])"
   ]
  },
  {
   "cell_type": "code",
   "execution_count": 15,
   "metadata": {},
   "outputs": [],
   "source": [
    "?reformulate"
   ]
  },
  {
   "cell_type": "markdown",
   "metadata": {},
   "source": [
    "- dcast uses formula interface. The variables on the LHS of formula represents the id vars and RHS the measure vars.\n",
    "- value.var denotes the column to be filled in with while casting to wide format.\n",
    "- dcast also tries to preserve attributes in result wherever possible.\n"
   ]
  },
  {
   "cell_type": "markdown",
   "metadata": {},
   "source": [
    "You can also pass a function to aggregate by in dcast with the argument fun.aggregate. This is particularly essential when the formula provided does not identify single observation for each cell."
   ]
  },
  {
   "cell_type": "code",
   "execution_count": 10,
   "metadata": {},
   "outputs": [
    {
     "data": {
      "text/html": [
       "<table>\n",
       "<thead><tr><th scope=col>family_id</th><th scope=col>.</th></tr></thead>\n",
       "<tbody>\n",
       "\t<tr><td>1</td><td>2</td></tr>\n",
       "\t<tr><td>2</td><td>1</td></tr>\n",
       "\t<tr><td>3</td><td>3</td></tr>\n",
       "\t<tr><td>4</td><td>3</td></tr>\n",
       "\t<tr><td>5</td><td>2</td></tr>\n",
       "</tbody>\n",
       "</table>\n"
      ],
      "text/latex": [
       "\\begin{tabular}{r|ll}\n",
       " family\\_id & .\\\\\n",
       "\\hline\n",
       "\t 1 & 2\\\\\n",
       "\t 2 & 1\\\\\n",
       "\t 3 & 3\\\\\n",
       "\t 4 & 3\\\\\n",
       "\t 5 & 2\\\\\n",
       "\\end{tabular}\n"
      ],
      "text/markdown": [
       "\n",
       "family_id | . | \n",
       "|---|---|---|---|---|\n",
       "| 1 | 2 | \n",
       "| 2 | 1 | \n",
       "| 3 | 3 | \n",
       "| 4 | 3 | \n",
       "| 5 | 2 | \n",
       "\n",
       "\n"
      ],
      "text/plain": [
       "  family_id .\n",
       "1 1         2\n",
       "2 2         1\n",
       "3 3         3\n",
       "4 4         3\n",
       "5 5         2"
      ]
     },
     "metadata": {},
     "output_type": "display_data"
    }
   ],
   "source": [
    "dcast(DT.m1, family_id ~ ., fun.agg = function(x) sum(!is.na(x)), value.var = \"dob\")"
   ]
  },
  {
   "cell_type": "markdown",
   "metadata": {},
   "source": [
    "# Limitations"
   ]
  },
  {
   "cell_type": "code",
   "execution_count": 17,
   "metadata": {},
   "outputs": [
    {
     "data": {
      "text/html": [
       "<table>\n",
       "<thead><tr><th scope=col>family_id</th><th scope=col>age_mother</th><th scope=col>dob_child1</th><th scope=col>dob_child2</th><th scope=col>dob_child3</th><th scope=col>gender_child1</th><th scope=col>gender_child2</th><th scope=col>gender_child3</th></tr></thead>\n",
       "<tbody>\n",
       "\t<tr><td>1         </td><td>30        </td><td>1998-11-26</td><td>2000-01-29</td><td>NA        </td><td>1         </td><td> 2        </td><td>NA        </td></tr>\n",
       "\t<tr><td>2         </td><td>27        </td><td>1996-06-22</td><td>NA        </td><td>NA        </td><td>2         </td><td>NA        </td><td>NA        </td></tr>\n",
       "\t<tr><td>3         </td><td>26        </td><td>2002-07-11</td><td>2004-04-05</td><td>2007-09-02</td><td>2         </td><td> 2        </td><td> 1        </td></tr>\n",
       "\t<tr><td>4         </td><td>32        </td><td>2004-10-10</td><td>2009-08-27</td><td>2012-07-21</td><td>1         </td><td> 1        </td><td> 1        </td></tr>\n",
       "\t<tr><td>5         </td><td>29        </td><td>2000-12-05</td><td>2005-02-28</td><td>NA        </td><td>2         </td><td> 1        </td><td>NA        </td></tr>\n",
       "</tbody>\n",
       "</table>\n"
      ],
      "text/latex": [
       "\\begin{tabular}{r|llllllll}\n",
       " family\\_id & age\\_mother & dob\\_child1 & dob\\_child2 & dob\\_child3 & gender\\_child1 & gender\\_child2 & gender\\_child3\\\\\n",
       "\\hline\n",
       "\t 1          & 30         & 1998-11-26 & 2000-01-29 & NA         & 1          &  2         & NA        \\\\\n",
       "\t 2          & 27         & 1996-06-22 & NA         & NA         & 2          & NA         & NA        \\\\\n",
       "\t 3          & 26         & 2002-07-11 & 2004-04-05 & 2007-09-02 & 2          &  2         &  1        \\\\\n",
       "\t 4          & 32         & 2004-10-10 & 2009-08-27 & 2012-07-21 & 1          &  1         &  1        \\\\\n",
       "\t 5          & 29         & 2000-12-05 & 2005-02-28 & NA         & 2          &  1         & NA        \\\\\n",
       "\\end{tabular}\n"
      ],
      "text/markdown": [
       "\n",
       "family_id | age_mother | dob_child1 | dob_child2 | dob_child3 | gender_child1 | gender_child2 | gender_child3 | \n",
       "|---|---|---|---|---|\n",
       "| 1          | 30         | 1998-11-26 | 2000-01-29 | NA         | 1          |  2         | NA         | \n",
       "| 2          | 27         | 1996-06-22 | NA         | NA         | 2          | NA         | NA         | \n",
       "| 3          | 26         | 2002-07-11 | 2004-04-05 | 2007-09-02 | 2          |  2         |  1         | \n",
       "| 4          | 32         | 2004-10-10 | 2009-08-27 | 2012-07-21 | 1          |  1         |  1         | \n",
       "| 5          | 29         | 2000-12-05 | 2005-02-28 | NA         | 2          |  1         | NA         | \n",
       "\n",
       "\n"
      ],
      "text/plain": [
       "  family_id age_mother dob_child1 dob_child2 dob_child3 gender_child1\n",
       "1 1         30         1998-11-26 2000-01-29 NA         1            \n",
       "2 2         27         1996-06-22 NA         NA         2            \n",
       "3 3         26         2002-07-11 2004-04-05 2007-09-02 2            \n",
       "4 4         32         2004-10-10 2009-08-27 2012-07-21 1            \n",
       "5 5         29         2000-12-05 2005-02-28 NA         2            \n",
       "  gender_child2 gender_child3\n",
       "1  2            NA           \n",
       "2 NA            NA           \n",
       "3  2             1           \n",
       "4  1             1           \n",
       "5  1            NA           "
      ]
     },
     "metadata": {},
     "output_type": "display_data"
    }
   ],
   "source": [
    "DT <- fread(\"melt_enhanced.csv\")\n",
    "DT"
   ]
  },
  {
   "cell_type": "markdown",
   "metadata": {},
   "source": [
    "And you'd like to combine (melt) all the dob columns together, and gender columns together. Using the current functionality, we can do something like this:"
   ]
  },
  {
   "cell_type": "code",
   "execution_count": 21,
   "metadata": {},
   "outputs": [
    {
     "name": "stderr",
     "output_type": "stream",
     "text": [
      "Warning message in melt.data.table(DT, id = c(\"family_id\", \"age_mother\")):\n",
      "“'measure.vars' [dob_child1, dob_child2, dob_child3, gender_child1, ...] are not all of the same type. By order of hierarchy, the molten data value column will be of type 'character'. All measure variables not of type 'character' will be coerced to. Check DETAILS in ?melt.data.table for more on coercion.”"
     ]
    },
    {
     "data": {},
     "metadata": {},
     "output_type": "display_data"
    },
    {
     "data": {
      "text/html": [
       "<table>\n",
       "<thead><tr><th scope=col>family_id</th><th scope=col>age_mother</th><th scope=col>child</th><th scope=col>dob</th><th scope=col>gender</th></tr></thead>\n",
       "<tbody>\n",
       "\t<tr><td>1         </td><td>30        </td><td>child1    </td><td>1998-11-26</td><td>1         </td></tr>\n",
       "\t<tr><td>1         </td><td>30        </td><td>child2    </td><td>2000-01-29</td><td>2         </td></tr>\n",
       "\t<tr><td>1         </td><td>30        </td><td>child3    </td><td>NA        </td><td>NA        </td></tr>\n",
       "\t<tr><td>2         </td><td>27        </td><td>child1    </td><td>1996-06-22</td><td>2         </td></tr>\n",
       "\t<tr><td>2         </td><td>27        </td><td>child2    </td><td>NA        </td><td>NA        </td></tr>\n",
       "\t<tr><td>2         </td><td>27        </td><td>child3    </td><td>NA        </td><td>NA        </td></tr>\n",
       "\t<tr><td>3         </td><td>26        </td><td>child1    </td><td>2002-07-11</td><td>2         </td></tr>\n",
       "\t<tr><td>3         </td><td>26        </td><td>child2    </td><td>2004-04-05</td><td>2         </td></tr>\n",
       "\t<tr><td>3         </td><td>26        </td><td>child3    </td><td>2007-09-02</td><td>1         </td></tr>\n",
       "\t<tr><td>4         </td><td>32        </td><td>child1    </td><td>2004-10-10</td><td>1         </td></tr>\n",
       "\t<tr><td>4         </td><td>32        </td><td>child2    </td><td>2009-08-27</td><td>1         </td></tr>\n",
       "\t<tr><td>4         </td><td>32        </td><td>child3    </td><td>2012-07-21</td><td>1         </td></tr>\n",
       "\t<tr><td>5         </td><td>29        </td><td>child1    </td><td>2000-12-05</td><td>2         </td></tr>\n",
       "\t<tr><td>5         </td><td>29        </td><td>child2    </td><td>2005-02-28</td><td>1         </td></tr>\n",
       "\t<tr><td>5         </td><td>29        </td><td>child3    </td><td>NA        </td><td>NA        </td></tr>\n",
       "</tbody>\n",
       "</table>\n"
      ],
      "text/latex": [
       "\\begin{tabular}{r|lllll}\n",
       " family\\_id & age\\_mother & child & dob & gender\\\\\n",
       "\\hline\n",
       "\t 1          & 30         & child1     & 1998-11-26 & 1         \\\\\n",
       "\t 1          & 30         & child2     & 2000-01-29 & 2         \\\\\n",
       "\t 1          & 30         & child3     & NA         & NA        \\\\\n",
       "\t 2          & 27         & child1     & 1996-06-22 & 2         \\\\\n",
       "\t 2          & 27         & child2     & NA         & NA        \\\\\n",
       "\t 2          & 27         & child3     & NA         & NA        \\\\\n",
       "\t 3          & 26         & child1     & 2002-07-11 & 2         \\\\\n",
       "\t 3          & 26         & child2     & 2004-04-05 & 2         \\\\\n",
       "\t 3          & 26         & child3     & 2007-09-02 & 1         \\\\\n",
       "\t 4          & 32         & child1     & 2004-10-10 & 1         \\\\\n",
       "\t 4          & 32         & child2     & 2009-08-27 & 1         \\\\\n",
       "\t 4          & 32         & child3     & 2012-07-21 & 1         \\\\\n",
       "\t 5          & 29         & child1     & 2000-12-05 & 2         \\\\\n",
       "\t 5          & 29         & child2     & 2005-02-28 & 1         \\\\\n",
       "\t 5          & 29         & child3     & NA         & NA        \\\\\n",
       "\\end{tabular}\n"
      ],
      "text/markdown": [
       "\n",
       "family_id | age_mother | child | dob | gender | \n",
       "|---|---|---|---|---|---|---|---|---|---|---|---|---|---|---|\n",
       "| 1          | 30         | child1     | 1998-11-26 | 1          | \n",
       "| 1          | 30         | child2     | 2000-01-29 | 2          | \n",
       "| 1          | 30         | child3     | NA         | NA         | \n",
       "| 2          | 27         | child1     | 1996-06-22 | 2          | \n",
       "| 2          | 27         | child2     | NA         | NA         | \n",
       "| 2          | 27         | child3     | NA         | NA         | \n",
       "| 3          | 26         | child1     | 2002-07-11 | 2          | \n",
       "| 3          | 26         | child2     | 2004-04-05 | 2          | \n",
       "| 3          | 26         | child3     | 2007-09-02 | 1          | \n",
       "| 4          | 32         | child1     | 2004-10-10 | 1          | \n",
       "| 4          | 32         | child2     | 2009-08-27 | 1          | \n",
       "| 4          | 32         | child3     | 2012-07-21 | 1          | \n",
       "| 5          | 29         | child1     | 2000-12-05 | 2          | \n",
       "| 5          | 29         | child2     | 2005-02-28 | 1          | \n",
       "| 5          | 29         | child3     | NA         | NA         | \n",
       "\n",
       "\n"
      ],
      "text/plain": [
       "   family_id age_mother child  dob        gender\n",
       "1  1         30         child1 1998-11-26 1     \n",
       "2  1         30         child2 2000-01-29 2     \n",
       "3  1         30         child3 NA         NA    \n",
       "4  2         27         child1 1996-06-22 2     \n",
       "5  2         27         child2 NA         NA    \n",
       "6  2         27         child3 NA         NA    \n",
       "7  3         26         child1 2002-07-11 2     \n",
       "8  3         26         child2 2004-04-05 2     \n",
       "9  3         26         child3 2007-09-02 1     \n",
       "10 4         32         child1 2004-10-10 1     \n",
       "11 4         32         child2 2009-08-27 1     \n",
       "12 4         32         child3 2012-07-21 1     \n",
       "13 5         29         child1 2000-12-05 2     \n",
       "14 5         29         child2 2005-02-28 1     \n",
       "15 5         29         child3 NA         NA    "
      ]
     },
     "metadata": {},
     "output_type": "display_data"
    }
   ],
   "source": [
    "DT.m1 <- melt(DT, id = c(\"family_id\", \"age_mother\"))\n",
    "DT.m1[, c(\"variable\", \"child\") := tstrsplit(variable, \"_\", fixed = TRUE)]\n",
    "DT.c1 = dcast(DT.m1, family_id + age_mother + child ~ variable, value.var = \"value\")\n",
    "DT.c1"
   ]
  },
  {
   "cell_type": "markdown",
   "metadata": {},
   "source": [
    "# Enhanced functionality"
   ]
  },
  {
   "cell_type": "markdown",
   "metadata": {},
   "source": [
    "## Enhanced melt"
   ]
  },
  {
   "cell_type": "markdown",
   "metadata": {},
   "source": [
    "Since we'd like for data.tables to perform this operation straightforward and efficient using the same interface, we went ahead and implemented an additional functionality, where we can melt to multiple columns simultaneously."
   ]
  },
  {
   "cell_type": "code",
   "execution_count": 26,
   "metadata": {
    "scrolled": true
   },
   "outputs": [
    {
     "data": {
      "text/html": [
       "<table>\n",
       "<thead><tr><th scope=col>family_id</th><th scope=col>age_mother</th><th scope=col>dob_child1</th><th scope=col>dob_child2</th><th scope=col>dob_child3</th><th scope=col>gender_child1</th><th scope=col>gender_child2</th><th scope=col>gender_child3</th></tr></thead>\n",
       "<tbody>\n",
       "\t<tr><td>1         </td><td>30        </td><td>1998-11-26</td><td>2000-01-29</td><td>NA        </td><td>1         </td><td> 2        </td><td>NA        </td></tr>\n",
       "\t<tr><td>2         </td><td>27        </td><td>1996-06-22</td><td>NA        </td><td>NA        </td><td>2         </td><td>NA        </td><td>NA        </td></tr>\n",
       "\t<tr><td>3         </td><td>26        </td><td>2002-07-11</td><td>2004-04-05</td><td>2007-09-02</td><td>2         </td><td> 2        </td><td> 1        </td></tr>\n",
       "\t<tr><td>4         </td><td>32        </td><td>2004-10-10</td><td>2009-08-27</td><td>2012-07-21</td><td>1         </td><td> 1        </td><td> 1        </td></tr>\n",
       "\t<tr><td>5         </td><td>29        </td><td>2000-12-05</td><td>2005-02-28</td><td>NA        </td><td>2         </td><td> 1        </td><td>NA        </td></tr>\n",
       "</tbody>\n",
       "</table>\n"
      ],
      "text/latex": [
       "\\begin{tabular}{r|llllllll}\n",
       " family\\_id & age\\_mother & dob\\_child1 & dob\\_child2 & dob\\_child3 & gender\\_child1 & gender\\_child2 & gender\\_child3\\\\\n",
       "\\hline\n",
       "\t 1          & 30         & 1998-11-26 & 2000-01-29 & NA         & 1          &  2         & NA        \\\\\n",
       "\t 2          & 27         & 1996-06-22 & NA         & NA         & 2          & NA         & NA        \\\\\n",
       "\t 3          & 26         & 2002-07-11 & 2004-04-05 & 2007-09-02 & 2          &  2         &  1        \\\\\n",
       "\t 4          & 32         & 2004-10-10 & 2009-08-27 & 2012-07-21 & 1          &  1         &  1        \\\\\n",
       "\t 5          & 29         & 2000-12-05 & 2005-02-28 & NA         & 2          &  1         & NA        \\\\\n",
       "\\end{tabular}\n"
      ],
      "text/markdown": [
       "\n",
       "family_id | age_mother | dob_child1 | dob_child2 | dob_child3 | gender_child1 | gender_child2 | gender_child3 | \n",
       "|---|---|---|---|---|\n",
       "| 1          | 30         | 1998-11-26 | 2000-01-29 | NA         | 1          |  2         | NA         | \n",
       "| 2          | 27         | 1996-06-22 | NA         | NA         | 2          | NA         | NA         | \n",
       "| 3          | 26         | 2002-07-11 | 2004-04-05 | 2007-09-02 | 2          |  2         |  1         | \n",
       "| 4          | 32         | 2004-10-10 | 2009-08-27 | 2012-07-21 | 1          |  1         |  1         | \n",
       "| 5          | 29         | 2000-12-05 | 2005-02-28 | NA         | 2          |  1         | NA         | \n",
       "\n",
       "\n"
      ],
      "text/plain": [
       "  family_id age_mother dob_child1 dob_child2 dob_child3 gender_child1\n",
       "1 1         30         1998-11-26 2000-01-29 NA         1            \n",
       "2 2         27         1996-06-22 NA         NA         2            \n",
       "3 3         26         2002-07-11 2004-04-05 2007-09-02 2            \n",
       "4 4         32         2004-10-10 2009-08-27 2012-07-21 1            \n",
       "5 5         29         2000-12-05 2005-02-28 NA         2            \n",
       "  gender_child2 gender_child3\n",
       "1  2            NA           \n",
       "2 NA            NA           \n",
       "3  2             1           \n",
       "4  1             1           \n",
       "5  1            NA           "
      ]
     },
     "metadata": {},
     "output_type": "display_data"
    },
    {
     "data": {
      "text/html": [
       "<table>\n",
       "<thead><tr><th scope=col>family_id</th><th scope=col>age_mother</th><th scope=col>variable</th><th scope=col>dob</th><th scope=col>gender</th></tr></thead>\n",
       "<tbody>\n",
       "\t<tr><td>1         </td><td>30        </td><td>1         </td><td>1998-11-26</td><td> 1        </td></tr>\n",
       "\t<tr><td>2         </td><td>27        </td><td>1         </td><td>1996-06-22</td><td> 2        </td></tr>\n",
       "\t<tr><td>3         </td><td>26        </td><td>1         </td><td>2002-07-11</td><td> 2        </td></tr>\n",
       "\t<tr><td>4         </td><td>32        </td><td>1         </td><td>2004-10-10</td><td> 1        </td></tr>\n",
       "\t<tr><td>5         </td><td>29        </td><td>1         </td><td>2000-12-05</td><td> 2        </td></tr>\n",
       "\t<tr><td>1         </td><td>30        </td><td>2         </td><td>2000-01-29</td><td> 2        </td></tr>\n",
       "\t<tr><td>2         </td><td>27        </td><td>2         </td><td>NA        </td><td>NA        </td></tr>\n",
       "\t<tr><td>3         </td><td>26        </td><td>2         </td><td>2004-04-05</td><td> 2        </td></tr>\n",
       "\t<tr><td>4         </td><td>32        </td><td>2         </td><td>2009-08-27</td><td> 1        </td></tr>\n",
       "\t<tr><td>5         </td><td>29        </td><td>2         </td><td>2005-02-28</td><td> 1        </td></tr>\n",
       "\t<tr><td>1         </td><td>30        </td><td>3         </td><td>NA        </td><td>NA        </td></tr>\n",
       "\t<tr><td>2         </td><td>27        </td><td>3         </td><td>NA        </td><td>NA        </td></tr>\n",
       "\t<tr><td>3         </td><td>26        </td><td>3         </td><td>2007-09-02</td><td> 1        </td></tr>\n",
       "\t<tr><td>4         </td><td>32        </td><td>3         </td><td>2012-07-21</td><td> 1        </td></tr>\n",
       "\t<tr><td>5         </td><td>29        </td><td>3         </td><td>NA        </td><td>NA        </td></tr>\n",
       "</tbody>\n",
       "</table>\n"
      ],
      "text/latex": [
       "\\begin{tabular}{r|lllll}\n",
       " family\\_id & age\\_mother & variable & dob & gender\\\\\n",
       "\\hline\n",
       "\t 1          & 30         & 1          & 1998-11-26 &  1        \\\\\n",
       "\t 2          & 27         & 1          & 1996-06-22 &  2        \\\\\n",
       "\t 3          & 26         & 1          & 2002-07-11 &  2        \\\\\n",
       "\t 4          & 32         & 1          & 2004-10-10 &  1        \\\\\n",
       "\t 5          & 29         & 1          & 2000-12-05 &  2        \\\\\n",
       "\t 1          & 30         & 2          & 2000-01-29 &  2        \\\\\n",
       "\t 2          & 27         & 2          & NA         & NA        \\\\\n",
       "\t 3          & 26         & 2          & 2004-04-05 &  2        \\\\\n",
       "\t 4          & 32         & 2          & 2009-08-27 &  1        \\\\\n",
       "\t 5          & 29         & 2          & 2005-02-28 &  1        \\\\\n",
       "\t 1          & 30         & 3          & NA         & NA        \\\\\n",
       "\t 2          & 27         & 3          & NA         & NA        \\\\\n",
       "\t 3          & 26         & 3          & 2007-09-02 &  1        \\\\\n",
       "\t 4          & 32         & 3          & 2012-07-21 &  1        \\\\\n",
       "\t 5          & 29         & 3          & NA         & NA        \\\\\n",
       "\\end{tabular}\n"
      ],
      "text/markdown": [
       "\n",
       "family_id | age_mother | variable | dob | gender | \n",
       "|---|---|---|---|---|---|---|---|---|---|---|---|---|---|---|\n",
       "| 1          | 30         | 1          | 1998-11-26 |  1         | \n",
       "| 2          | 27         | 1          | 1996-06-22 |  2         | \n",
       "| 3          | 26         | 1          | 2002-07-11 |  2         | \n",
       "| 4          | 32         | 1          | 2004-10-10 |  1         | \n",
       "| 5          | 29         | 1          | 2000-12-05 |  2         | \n",
       "| 1          | 30         | 2          | 2000-01-29 |  2         | \n",
       "| 2          | 27         | 2          | NA         | NA         | \n",
       "| 3          | 26         | 2          | 2004-04-05 |  2         | \n",
       "| 4          | 32         | 2          | 2009-08-27 |  1         | \n",
       "| 5          | 29         | 2          | 2005-02-28 |  1         | \n",
       "| 1          | 30         | 3          | NA         | NA         | \n",
       "| 2          | 27         | 3          | NA         | NA         | \n",
       "| 3          | 26         | 3          | 2007-09-02 |  1         | \n",
       "| 4          | 32         | 3          | 2012-07-21 |  1         | \n",
       "| 5          | 29         | 3          | NA         | NA         | \n",
       "\n",
       "\n"
      ],
      "text/plain": [
       "   family_id age_mother variable dob        gender\n",
       "1  1         30         1        1998-11-26  1    \n",
       "2  2         27         1        1996-06-22  2    \n",
       "3  3         26         1        2002-07-11  2    \n",
       "4  4         32         1        2004-10-10  1    \n",
       "5  5         29         1        2000-12-05  2    \n",
       "6  1         30         2        2000-01-29  2    \n",
       "7  2         27         2        NA         NA    \n",
       "8  3         26         2        2004-04-05  2    \n",
       "9  4         32         2        2009-08-27  1    \n",
       "10 5         29         2        2005-02-28  1    \n",
       "11 1         30         3        NA         NA    \n",
       "12 2         27         3        NA         NA    \n",
       "13 3         26         3        2007-09-02  1    \n",
       "14 4         32         3        2012-07-21  1    \n",
       "15 5         29         3        NA         NA    "
      ]
     },
     "metadata": {},
     "output_type": "display_data"
    }
   ],
   "source": [
    "DT\n",
    "colA = paste(\"dob_child\", 1:3, sep = \"\")\n",
    "colB = paste(\"gender_child\", 1:3, sep = \"\")\n",
    "DT.m2 = melt(DT, measure = list(colA, colB), value.name = c(\"dob\", \"gender\"))\n",
    "DT.m2"
   ]
  },
  {
   "cell_type": "markdown",
   "metadata": {},
   "source": [
    "## Enhanced dcast"
   ]
  },
  {
   "cell_type": "markdown",
   "metadata": {},
   "source": [
    "Okay great! We can now melt into multiple columns simultaneously. Now given the data set DT.m2 as shown above, how can we get back to the same format as the original data we started with?\n",
    "\n",
    "If we use the current functionality of dcast, then we'd have to cast twice and bind the results together. But that's once again verbose, not straightforward and is also inefficient."
   ]
  },
  {
   "cell_type": "code",
   "execution_count": 28,
   "metadata": {},
   "outputs": [
    {
     "data": {
      "text/html": [
       "<table>\n",
       "<thead><tr><th scope=col>family_id</th><th scope=col>age_mother</th><th scope=col>variable</th><th scope=col>dob</th><th scope=col>gender</th></tr></thead>\n",
       "<tbody>\n",
       "\t<tr><td>1         </td><td>30        </td><td>1         </td><td>1998-11-26</td><td> 1        </td></tr>\n",
       "\t<tr><td>2         </td><td>27        </td><td>1         </td><td>1996-06-22</td><td> 2        </td></tr>\n",
       "\t<tr><td>3         </td><td>26        </td><td>1         </td><td>2002-07-11</td><td> 2        </td></tr>\n",
       "\t<tr><td>4         </td><td>32        </td><td>1         </td><td>2004-10-10</td><td> 1        </td></tr>\n",
       "\t<tr><td>5         </td><td>29        </td><td>1         </td><td>2000-12-05</td><td> 2        </td></tr>\n",
       "\t<tr><td>1         </td><td>30        </td><td>2         </td><td>2000-01-29</td><td> 2        </td></tr>\n",
       "\t<tr><td>2         </td><td>27        </td><td>2         </td><td>NA        </td><td>NA        </td></tr>\n",
       "\t<tr><td>3         </td><td>26        </td><td>2         </td><td>2004-04-05</td><td> 2        </td></tr>\n",
       "\t<tr><td>4         </td><td>32        </td><td>2         </td><td>2009-08-27</td><td> 1        </td></tr>\n",
       "\t<tr><td>5         </td><td>29        </td><td>2         </td><td>2005-02-28</td><td> 1        </td></tr>\n",
       "\t<tr><td>1         </td><td>30        </td><td>3         </td><td>NA        </td><td>NA        </td></tr>\n",
       "\t<tr><td>2         </td><td>27        </td><td>3         </td><td>NA        </td><td>NA        </td></tr>\n",
       "\t<tr><td>3         </td><td>26        </td><td>3         </td><td>2007-09-02</td><td> 1        </td></tr>\n",
       "\t<tr><td>4         </td><td>32        </td><td>3         </td><td>2012-07-21</td><td> 1        </td></tr>\n",
       "\t<tr><td>5         </td><td>29        </td><td>3         </td><td>NA        </td><td>NA        </td></tr>\n",
       "</tbody>\n",
       "</table>\n"
      ],
      "text/latex": [
       "\\begin{tabular}{r|lllll}\n",
       " family\\_id & age\\_mother & variable & dob & gender\\\\\n",
       "\\hline\n",
       "\t 1          & 30         & 1          & 1998-11-26 &  1        \\\\\n",
       "\t 2          & 27         & 1          & 1996-06-22 &  2        \\\\\n",
       "\t 3          & 26         & 1          & 2002-07-11 &  2        \\\\\n",
       "\t 4          & 32         & 1          & 2004-10-10 &  1        \\\\\n",
       "\t 5          & 29         & 1          & 2000-12-05 &  2        \\\\\n",
       "\t 1          & 30         & 2          & 2000-01-29 &  2        \\\\\n",
       "\t 2          & 27         & 2          & NA         & NA        \\\\\n",
       "\t 3          & 26         & 2          & 2004-04-05 &  2        \\\\\n",
       "\t 4          & 32         & 2          & 2009-08-27 &  1        \\\\\n",
       "\t 5          & 29         & 2          & 2005-02-28 &  1        \\\\\n",
       "\t 1          & 30         & 3          & NA         & NA        \\\\\n",
       "\t 2          & 27         & 3          & NA         & NA        \\\\\n",
       "\t 3          & 26         & 3          & 2007-09-02 &  1        \\\\\n",
       "\t 4          & 32         & 3          & 2012-07-21 &  1        \\\\\n",
       "\t 5          & 29         & 3          & NA         & NA        \\\\\n",
       "\\end{tabular}\n"
      ],
      "text/markdown": [
       "\n",
       "family_id | age_mother | variable | dob | gender | \n",
       "|---|---|---|---|---|---|---|---|---|---|---|---|---|---|---|\n",
       "| 1          | 30         | 1          | 1998-11-26 |  1         | \n",
       "| 2          | 27         | 1          | 1996-06-22 |  2         | \n",
       "| 3          | 26         | 1          | 2002-07-11 |  2         | \n",
       "| 4          | 32         | 1          | 2004-10-10 |  1         | \n",
       "| 5          | 29         | 1          | 2000-12-05 |  2         | \n",
       "| 1          | 30         | 2          | 2000-01-29 |  2         | \n",
       "| 2          | 27         | 2          | NA         | NA         | \n",
       "| 3          | 26         | 2          | 2004-04-05 |  2         | \n",
       "| 4          | 32         | 2          | 2009-08-27 |  1         | \n",
       "| 5          | 29         | 2          | 2005-02-28 |  1         | \n",
       "| 1          | 30         | 3          | NA         | NA         | \n",
       "| 2          | 27         | 3          | NA         | NA         | \n",
       "| 3          | 26         | 3          | 2007-09-02 |  1         | \n",
       "| 4          | 32         | 3          | 2012-07-21 |  1         | \n",
       "| 5          | 29         | 3          | NA         | NA         | \n",
       "\n",
       "\n"
      ],
      "text/plain": [
       "   family_id age_mother variable dob        gender\n",
       "1  1         30         1        1998-11-26  1    \n",
       "2  2         27         1        1996-06-22  2    \n",
       "3  3         26         1        2002-07-11  2    \n",
       "4  4         32         1        2004-10-10  1    \n",
       "5  5         29         1        2000-12-05  2    \n",
       "6  1         30         2        2000-01-29  2    \n",
       "7  2         27         2        NA         NA    \n",
       "8  3         26         2        2004-04-05  2    \n",
       "9  4         32         2        2009-08-27  1    \n",
       "10 5         29         2        2005-02-28  1    \n",
       "11 1         30         3        NA         NA    \n",
       "12 2         27         3        NA         NA    \n",
       "13 3         26         3        2007-09-02  1    \n",
       "14 4         32         3        2012-07-21  1    \n",
       "15 5         29         3        NA         NA    "
      ]
     },
     "metadata": {},
     "output_type": "display_data"
    },
    {
     "data": {
      "text/html": [
       "<table>\n",
       "<thead><tr><th scope=col>family_id</th><th scope=col>age_mother</th><th scope=col>dob_1</th><th scope=col>dob_2</th><th scope=col>dob_3</th><th scope=col>gender_1</th><th scope=col>gender_2</th><th scope=col>gender_3</th></tr></thead>\n",
       "<tbody>\n",
       "\t<tr><td>1         </td><td>30        </td><td>1998-11-26</td><td>2000-01-29</td><td>NA        </td><td>1         </td><td> 2        </td><td>NA        </td></tr>\n",
       "\t<tr><td>2         </td><td>27        </td><td>1996-06-22</td><td>NA        </td><td>NA        </td><td>2         </td><td>NA        </td><td>NA        </td></tr>\n",
       "\t<tr><td>3         </td><td>26        </td><td>2002-07-11</td><td>2004-04-05</td><td>2007-09-02</td><td>2         </td><td> 2        </td><td> 1        </td></tr>\n",
       "\t<tr><td>4         </td><td>32        </td><td>2004-10-10</td><td>2009-08-27</td><td>2012-07-21</td><td>1         </td><td> 1        </td><td> 1        </td></tr>\n",
       "\t<tr><td>5         </td><td>29        </td><td>2000-12-05</td><td>2005-02-28</td><td>NA        </td><td>2         </td><td> 1        </td><td>NA        </td></tr>\n",
       "</tbody>\n",
       "</table>\n"
      ],
      "text/latex": [
       "\\begin{tabular}{r|llllllll}\n",
       " family\\_id & age\\_mother & dob\\_1 & dob\\_2 & dob\\_3 & gender\\_1 & gender\\_2 & gender\\_3\\\\\n",
       "\\hline\n",
       "\t 1          & 30         & 1998-11-26 & 2000-01-29 & NA         & 1          &  2         & NA        \\\\\n",
       "\t 2          & 27         & 1996-06-22 & NA         & NA         & 2          & NA         & NA        \\\\\n",
       "\t 3          & 26         & 2002-07-11 & 2004-04-05 & 2007-09-02 & 2          &  2         &  1        \\\\\n",
       "\t 4          & 32         & 2004-10-10 & 2009-08-27 & 2012-07-21 & 1          &  1         &  1        \\\\\n",
       "\t 5          & 29         & 2000-12-05 & 2005-02-28 & NA         & 2          &  1         & NA        \\\\\n",
       "\\end{tabular}\n"
      ],
      "text/markdown": [
       "\n",
       "family_id | age_mother | dob_1 | dob_2 | dob_3 | gender_1 | gender_2 | gender_3 | \n",
       "|---|---|---|---|---|\n",
       "| 1          | 30         | 1998-11-26 | 2000-01-29 | NA         | 1          |  2         | NA         | \n",
       "| 2          | 27         | 1996-06-22 | NA         | NA         | 2          | NA         | NA         | \n",
       "| 3          | 26         | 2002-07-11 | 2004-04-05 | 2007-09-02 | 2          |  2         |  1         | \n",
       "| 4          | 32         | 2004-10-10 | 2009-08-27 | 2012-07-21 | 1          |  1         |  1         | \n",
       "| 5          | 29         | 2000-12-05 | 2005-02-28 | NA         | 2          |  1         | NA         | \n",
       "\n",
       "\n"
      ],
      "text/plain": [
       "  family_id age_mother dob_1      dob_2      dob_3      gender_1 gender_2\n",
       "1 1         30         1998-11-26 2000-01-29 NA         1         2      \n",
       "2 2         27         1996-06-22 NA         NA         2        NA      \n",
       "3 3         26         2002-07-11 2004-04-05 2007-09-02 2         2      \n",
       "4 4         32         2004-10-10 2009-08-27 2012-07-21 1         1      \n",
       "5 5         29         2000-12-05 2005-02-28 NA         2         1      \n",
       "  gender_3\n",
       "1 NA      \n",
       "2 NA      \n",
       "3  1      \n",
       "4  1      \n",
       "5 NA      "
      ]
     },
     "metadata": {},
     "output_type": "display_data"
    }
   ],
   "source": [
    "DT.m2\n",
    "DT.c2 = dcast(DT.m2, family_id + age_mother ~ variable, value.var = c(\"dob\", \"gender\"))\n",
    "DT.c2"
   ]
  },
  {
   "cell_type": "markdown",
   "metadata": {},
   "source": [
    "Multiple functions to fun.aggregate: {.bs-callout .bs-callout-info}\n",
    "\n",
    "You can also provide multiple functions to fun.aggregate to dcast for data.tables. Check the examples in ?dcast which illustrates this functionality."
   ]
  },
  {
   "cell_type": "code",
   "execution_count": null,
   "metadata": {},
   "outputs": [],
   "source": []
  }
 ],
 "metadata": {
  "kernelspec": {
   "display_name": "R",
   "language": "R",
   "name": "ir"
  },
  "language_info": {
   "codemirror_mode": "r",
   "file_extension": ".r",
   "mimetype": "text/x-r-source",
   "name": "R",
   "pygments_lexer": "r",
   "version": "3.4.3"
  },
  "toc": {
   "nav_menu": {},
   "number_sections": true,
   "sideBar": true,
   "skip_h1_title": false,
   "toc_cell": false,
   "toc_position": {},
   "toc_section_display": "block",
   "toc_window_display": true
  }
 },
 "nbformat": 4,
 "nbformat_minor": 2
}
